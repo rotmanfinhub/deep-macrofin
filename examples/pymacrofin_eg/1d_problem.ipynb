{
 "cells": [
  {
   "cell_type": "code",
   "execution_count": 1,
   "metadata": {},
   "outputs": [
    {
     "name": "stdout",
     "output_type": "stream",
     "text": [
      "Constructing model...\n",
      "Model construction completed: 0.408 sec\n"
     ]
    },
    {
     "name": "stderr",
     "output_type": "stream",
     "text": [
      "d:\\UofT\\Research\\PDE-work\\continuous-time-eco-models\\venv\\Lib\\site-packages\\PyMacroFin\\utilities.py:27: FutureWarning:\n",
      "\n",
      "Setting an item of incompatible dtype is deprecated and will raise in a future error of pandas. Value 'b0_b1' has dtype incompatible with float64, please explicitly cast to a compatible dtype first.\n",
      "\n",
      "d:\\UofT\\Research\\PDE-work\\continuous-time-eco-models\\venv\\Lib\\site-packages\\PyMacroFin\\utilities.py:27: FutureWarning:\n",
      "\n",
      "Setting an item of incompatible dtype is deprecated and will raise in a future error of pandas. Value 'b0_b1' has dtype incompatible with float64, please explicitly cast to a compatible dtype first.\n",
      "\n",
      "d:\\UofT\\Research\\PDE-work\\continuous-time-eco-models\\venv\\Lib\\site-packages\\PyMacroFin\\utilities.py:27: FutureWarning:\n",
      "\n",
      "Setting an item of incompatible dtype is deprecated and will raise in a future error of pandas. Value 'b0_b1' has dtype incompatible with float64, please explicitly cast to a compatible dtype first.\n",
      "\n",
      "d:\\UofT\\Research\\PDE-work\\continuous-time-eco-models\\venv\\Lib\\site-packages\\PyMacroFin\\utilities.py:27: FutureWarning:\n",
      "\n",
      "Setting an item of incompatible dtype is deprecated and will raise in a future error of pandas. Value 'b0_b1' has dtype incompatible with float64, please explicitly cast to a compatible dtype first.\n",
      "\n",
      "d:\\UofT\\Research\\PDE-work\\continuous-time-eco-models\\venv\\Lib\\site-packages\\PyMacroFin\\utilities.py:27: FutureWarning:\n",
      "\n",
      "Setting an item of incompatible dtype is deprecated and will raise in a future error of pandas. Value 'b0_b1' has dtype incompatible with float64, please explicitly cast to a compatible dtype first.\n",
      "\n",
      "d:\\UofT\\Research\\PDE-work\\continuous-time-eco-models\\venv\\Lib\\site-packages\\PyMacroFin\\utilities.py:27: FutureWarning:\n",
      "\n",
      "Setting an item of incompatible dtype is deprecated and will raise in a future error of pandas. Value 'b0_b1' has dtype incompatible with float64, please explicitly cast to a compatible dtype first.\n",
      "\n",
      "d:\\UofT\\Research\\PDE-work\\continuous-time-eco-models\\venv\\Lib\\site-packages\\PyMacroFin\\utilities.py:27: FutureWarning:\n",
      "\n",
      "Setting an item of incompatible dtype is deprecated and will raise in a future error of pandas. Value 'b0_b1' has dtype incompatible with float64, please explicitly cast to a compatible dtype first.\n",
      "\n",
      "d:\\UofT\\Research\\PDE-work\\continuous-time-eco-models\\venv\\Lib\\site-packages\\PyMacroFin\\utilities.py:27: FutureWarning:\n",
      "\n",
      "Setting an item of incompatible dtype is deprecated and will raise in a future error of pandas. Value 'b0_b1' has dtype incompatible with float64, please explicitly cast to a compatible dtype first.\n",
      "\n",
      "d:\\UofT\\Research\\PDE-work\\continuous-time-eco-models\\venv\\Lib\\site-packages\\PyMacroFin\\utilities.py:27: FutureWarning:\n",
      "\n",
      "Setting an item of incompatible dtype is deprecated and will raise in a future error of pandas. Value 'b0_b1' has dtype incompatible with float64, please explicitly cast to a compatible dtype first.\n",
      "\n",
      "d:\\UofT\\Research\\PDE-work\\continuous-time-eco-models\\venv\\Lib\\site-packages\\PyMacroFin\\utilities.py:27: FutureWarning:\n",
      "\n",
      "Setting an item of incompatible dtype is deprecated and will raise in a future error of pandas. Value 'b0_b1' has dtype incompatible with float64, please explicitly cast to a compatible dtype first.\n",
      "\n",
      "d:\\UofT\\Research\\PDE-work\\continuous-time-eco-models\\venv\\Lib\\site-packages\\PyMacroFin\\utilities.py:27: FutureWarning:\n",
      "\n",
      "Setting an item of incompatible dtype is deprecated and will raise in a future error of pandas. Value 'b0_b1' has dtype incompatible with float64, please explicitly cast to a compatible dtype first.\n",
      "\n",
      "d:\\UofT\\Research\\PDE-work\\continuous-time-eco-models\\venv\\Lib\\site-packages\\PyMacroFin\\utilities.py:27: FutureWarning:\n",
      "\n",
      "Setting an item of incompatible dtype is deprecated and will raise in a future error of pandas. Value 'b0_b1' has dtype incompatible with float64, please explicitly cast to a compatible dtype first.\n",
      "\n",
      "d:\\UofT\\Research\\PDE-work\\continuous-time-eco-models\\venv\\Lib\\site-packages\\PyMacroFin\\utilities.py:27: FutureWarning:\n",
      "\n",
      "Setting an item of incompatible dtype is deprecated and will raise in a future error of pandas. Value 'b0_b1' has dtype incompatible with float64, please explicitly cast to a compatible dtype first.\n",
      "\n",
      "d:\\UofT\\Research\\PDE-work\\continuous-time-eco-models\\venv\\Lib\\site-packages\\PyMacroFin\\utilities.py:27: FutureWarning:\n",
      "\n",
      "Setting an item of incompatible dtype is deprecated and will raise in a future error of pandas. Value 'b0_b1' has dtype incompatible with float64, please explicitly cast to a compatible dtype first.\n",
      "\n",
      "d:\\UofT\\Research\\PDE-work\\continuous-time-eco-models\\venv\\Lib\\site-packages\\PyMacroFin\\utilities.py:27: FutureWarning:\n",
      "\n",
      "Setting an item of incompatible dtype is deprecated and will raise in a future error of pandas. Value 'b0_b1' has dtype incompatible with float64, please explicitly cast to a compatible dtype first.\n",
      "\n",
      "d:\\UofT\\Research\\PDE-work\\continuous-time-eco-models\\venv\\Lib\\site-packages\\PyMacroFin\\utilities.py:27: FutureWarning:\n",
      "\n",
      "Setting an item of incompatible dtype is deprecated and will raise in a future error of pandas. Value 'b0_b1' has dtype incompatible with float64, please explicitly cast to a compatible dtype first.\n",
      "\n",
      "d:\\UofT\\Research\\PDE-work\\continuous-time-eco-models\\venv\\Lib\\site-packages\\PyMacroFin\\utilities.py:27: FutureWarning:\n",
      "\n",
      "Setting an item of incompatible dtype is deprecated and will raise in a future error of pandas. Value 'b0_b1' has dtype incompatible with float64, please explicitly cast to a compatible dtype first.\n",
      "\n",
      "d:\\UofT\\Research\\PDE-work\\continuous-time-eco-models\\venv\\Lib\\site-packages\\PyMacroFin\\utilities.py:27: FutureWarning:\n",
      "\n",
      "Setting an item of incompatible dtype is deprecated and will raise in a future error of pandas. Value 'b0_b1' has dtype incompatible with float64, please explicitly cast to a compatible dtype first.\n",
      "\n",
      "d:\\UofT\\Research\\PDE-work\\continuous-time-eco-models\\venv\\Lib\\site-packages\\PyMacroFin\\utilities.py:27: FutureWarning:\n",
      "\n",
      "Setting an item of incompatible dtype is deprecated and will raise in a future error of pandas. Value 'b0_b1' has dtype incompatible with float64, please explicitly cast to a compatible dtype first.\n",
      "\n",
      "d:\\UofT\\Research\\PDE-work\\continuous-time-eco-models\\venv\\Lib\\site-packages\\PyMacroFin\\utilities.py:27: FutureWarning:\n",
      "\n",
      "Setting an item of incompatible dtype is deprecated and will raise in a future error of pandas. Value 'b0_b1' has dtype incompatible with float64, please explicitly cast to a compatible dtype first.\n",
      "\n",
      "d:\\UofT\\Research\\PDE-work\\continuous-time-eco-models\\venv\\Lib\\site-packages\\PyMacroFin\\utilities.py:27: FutureWarning:\n",
      "\n",
      "Setting an item of incompatible dtype is deprecated and will raise in a future error of pandas. Value 'b0_b1' has dtype incompatible with float64, please explicitly cast to a compatible dtype first.\n",
      "\n",
      "d:\\UofT\\Research\\PDE-work\\continuous-time-eco-models\\venv\\Lib\\site-packages\\PyMacroFin\\utilities.py:27: FutureWarning:\n",
      "\n",
      "Setting an item of incompatible dtype is deprecated and will raise in a future error of pandas. Value 'b0_b1' has dtype incompatible with float64, please explicitly cast to a compatible dtype first.\n",
      "\n",
      "d:\\UofT\\Research\\PDE-work\\continuous-time-eco-models\\venv\\Lib\\site-packages\\PyMacroFin\\utilities.py:27: FutureWarning:\n",
      "\n",
      "Setting an item of incompatible dtype is deprecated and will raise in a future error of pandas. Value 'b0_b1' has dtype incompatible with float64, please explicitly cast to a compatible dtype first.\n",
      "\n",
      "d:\\UofT\\Research\\PDE-work\\continuous-time-eco-models\\venv\\Lib\\site-packages\\PyMacroFin\\utilities.py:27: FutureWarning:\n",
      "\n",
      "Setting an item of incompatible dtype is deprecated and will raise in a future error of pandas. Value 'b0_b1' has dtype incompatible with float64, please explicitly cast to a compatible dtype first.\n",
      "\n",
      "d:\\UofT\\Research\\PDE-work\\continuous-time-eco-models\\venv\\Lib\\site-packages\\PyMacroFin\\utilities.py:27: FutureWarning:\n",
      "\n",
      "Setting an item of incompatible dtype is deprecated and will raise in a future error of pandas. Value 'b0_b1' has dtype incompatible with float64, please explicitly cast to a compatible dtype first.\n",
      "\n",
      "d:\\UofT\\Research\\PDE-work\\continuous-time-eco-models\\venv\\Lib\\site-packages\\PyMacroFin\\utilities.py:27: FutureWarning:\n",
      "\n",
      "Setting an item of incompatible dtype is deprecated and will raise in a future error of pandas. Value 'b0_b1' has dtype incompatible with float64, please explicitly cast to a compatible dtype first.\n",
      "\n",
      "d:\\UofT\\Research\\PDE-work\\continuous-time-eco-models\\venv\\Lib\\site-packages\\PyMacroFin\\utilities.py:27: FutureWarning:\n",
      "\n",
      "Setting an item of incompatible dtype is deprecated and will raise in a future error of pandas. Value 'b0_b1' has dtype incompatible with float64, please explicitly cast to a compatible dtype first.\n",
      "\n",
      "d:\\UofT\\Research\\PDE-work\\continuous-time-eco-models\\venv\\Lib\\site-packages\\PyMacroFin\\utilities.py:27: FutureWarning:\n",
      "\n",
      "Setting an item of incompatible dtype is deprecated and will raise in a future error of pandas. Value 'b0_b1' has dtype incompatible with float64, please explicitly cast to a compatible dtype first.\n",
      "\n",
      "d:\\UofT\\Research\\PDE-work\\continuous-time-eco-models\\venv\\Lib\\site-packages\\PyMacroFin\\utilities.py:27: FutureWarning:\n",
      "\n",
      "Setting an item of incompatible dtype is deprecated and will raise in a future error of pandas. Value 'b0_b1' has dtype incompatible with float64, please explicitly cast to a compatible dtype first.\n",
      "\n",
      "d:\\UofT\\Research\\PDE-work\\continuous-time-eco-models\\venv\\Lib\\site-packages\\PyMacroFin\\utilities.py:27: FutureWarning:\n",
      "\n",
      "Setting an item of incompatible dtype is deprecated and will raise in a future error of pandas. Value 'b0_b1' has dtype incompatible with float64, please explicitly cast to a compatible dtype first.\n",
      "\n",
      "d:\\UofT\\Research\\PDE-work\\continuous-time-eco-models\\venv\\Lib\\site-packages\\PyMacroFin\\utilities.py:27: FutureWarning:\n",
      "\n",
      "Setting an item of incompatible dtype is deprecated and will raise in a future error of pandas. Value 'b0_b1' has dtype incompatible with float64, please explicitly cast to a compatible dtype first.\n",
      "\n",
      "d:\\UofT\\Research\\PDE-work\\continuous-time-eco-models\\venv\\Lib\\site-packages\\PyMacroFin\\utilities.py:27: FutureWarning:\n",
      "\n",
      "Setting an item of incompatible dtype is deprecated and will raise in a future error of pandas. Value 'b0_b1' has dtype incompatible with float64, please explicitly cast to a compatible dtype first.\n",
      "\n",
      "d:\\UofT\\Research\\PDE-work\\continuous-time-eco-models\\venv\\Lib\\site-packages\\PyMacroFin\\utilities.py:27: FutureWarning:\n",
      "\n",
      "Setting an item of incompatible dtype is deprecated and will raise in a future error of pandas. Value 'b0_b1' has dtype incompatible with float64, please explicitly cast to a compatible dtype first.\n",
      "\n",
      "d:\\UofT\\Research\\PDE-work\\continuous-time-eco-models\\venv\\Lib\\site-packages\\PyMacroFin\\utilities.py:27: FutureWarning:\n",
      "\n",
      "Setting an item of incompatible dtype is deprecated and will raise in a future error of pandas. Value 'b0_b1' has dtype incompatible with float64, please explicitly cast to a compatible dtype first.\n",
      "\n",
      "d:\\UofT\\Research\\PDE-work\\continuous-time-eco-models\\venv\\Lib\\site-packages\\PyMacroFin\\utilities.py:27: FutureWarning:\n",
      "\n",
      "Setting an item of incompatible dtype is deprecated and will raise in a future error of pandas. Value 'b0_b1' has dtype incompatible with float64, please explicitly cast to a compatible dtype first.\n",
      "\n",
      "d:\\UofT\\Research\\PDE-work\\continuous-time-eco-models\\venv\\Lib\\site-packages\\PyMacroFin\\utilities.py:27: FutureWarning:\n",
      "\n",
      "Setting an item of incompatible dtype is deprecated and will raise in a future error of pandas. Value 'b0_b1' has dtype incompatible with float64, please explicitly cast to a compatible dtype first.\n",
      "\n",
      "d:\\UofT\\Research\\PDE-work\\continuous-time-eco-models\\venv\\Lib\\site-packages\\PyMacroFin\\utilities.py:27: FutureWarning:\n",
      "\n",
      "Setting an item of incompatible dtype is deprecated and will raise in a future error of pandas. Value 'b0_b1' has dtype incompatible with float64, please explicitly cast to a compatible dtype first.\n",
      "\n",
      "d:\\UofT\\Research\\PDE-work\\continuous-time-eco-models\\venv\\Lib\\site-packages\\PyMacroFin\\utilities.py:27: FutureWarning:\n",
      "\n",
      "Setting an item of incompatible dtype is deprecated and will raise in a future error of pandas. Value 'b0_b1' has dtype incompatible with float64, please explicitly cast to a compatible dtype first.\n",
      "\n",
      "d:\\UofT\\Research\\PDE-work\\continuous-time-eco-models\\venv\\Lib\\site-packages\\PyMacroFin\\utilities.py:27: FutureWarning:\n",
      "\n",
      "Setting an item of incompatible dtype is deprecated and will raise in a future error of pandas. Value 'b0_b1' has dtype incompatible with float64, please explicitly cast to a compatible dtype first.\n",
      "\n",
      "d:\\UofT\\Research\\PDE-work\\continuous-time-eco-models\\venv\\Lib\\site-packages\\PyMacroFin\\utilities.py:27: FutureWarning:\n",
      "\n",
      "Setting an item of incompatible dtype is deprecated and will raise in a future error of pandas. Value 'b0_b1' has dtype incompatible with float64, please explicitly cast to a compatible dtype first.\n",
      "\n",
      "d:\\UofT\\Research\\PDE-work\\continuous-time-eco-models\\venv\\Lib\\site-packages\\PyMacroFin\\utilities.py:27: FutureWarning:\n",
      "\n",
      "Setting an item of incompatible dtype is deprecated and will raise in a future error of pandas. Value 'b0_b1' has dtype incompatible with float64, please explicitly cast to a compatible dtype first.\n",
      "\n",
      "d:\\UofT\\Research\\PDE-work\\continuous-time-eco-models\\venv\\Lib\\site-packages\\PyMacroFin\\utilities.py:27: FutureWarning:\n",
      "\n",
      "Setting an item of incompatible dtype is deprecated and will raise in a future error of pandas. Value 'b0_b1' has dtype incompatible with float64, please explicitly cast to a compatible dtype first.\n",
      "\n",
      "d:\\UofT\\Research\\PDE-work\\continuous-time-eco-models\\venv\\Lib\\site-packages\\PyMacroFin\\utilities.py:27: FutureWarning:\n",
      "\n",
      "Setting an item of incompatible dtype is deprecated and will raise in a future error of pandas. Value 'b0_b1' has dtype incompatible with float64, please explicitly cast to a compatible dtype first.\n",
      "\n",
      "d:\\UofT\\Research\\PDE-work\\continuous-time-eco-models\\venv\\Lib\\site-packages\\PyMacroFin\\utilities.py:27: FutureWarning:\n",
      "\n",
      "Setting an item of incompatible dtype is deprecated and will raise in a future error of pandas. Value 'b0_b1' has dtype incompatible with float64, please explicitly cast to a compatible dtype first.\n",
      "\n",
      "d:\\UofT\\Research\\PDE-work\\continuous-time-eco-models\\venv\\Lib\\site-packages\\PyMacroFin\\utilities.py:27: FutureWarning:\n",
      "\n",
      "Setting an item of incompatible dtype is deprecated and will raise in a future error of pandas. Value 'b0_b1' has dtype incompatible with float64, please explicitly cast to a compatible dtype first.\n",
      "\n",
      "d:\\UofT\\Research\\PDE-work\\continuous-time-eco-models\\venv\\Lib\\site-packages\\PyMacroFin\\utilities.py:27: FutureWarning:\n",
      "\n",
      "Setting an item of incompatible dtype is deprecated and will raise in a future error of pandas. Value 'b0_b1' has dtype incompatible with float64, please explicitly cast to a compatible dtype first.\n",
      "\n",
      "d:\\UofT\\Research\\PDE-work\\continuous-time-eco-models\\venv\\Lib\\site-packages\\PyMacroFin\\utilities.py:27: FutureWarning:\n",
      "\n",
      "Setting an item of incompatible dtype is deprecated and will raise in a future error of pandas. Value 'b0_b1' has dtype incompatible with float64, please explicitly cast to a compatible dtype first.\n",
      "\n",
      "d:\\UofT\\Research\\PDE-work\\continuous-time-eco-models\\venv\\Lib\\site-packages\\PyMacroFin\\utilities.py:27: FutureWarning:\n",
      "\n",
      "Setting an item of incompatible dtype is deprecated and will raise in a future error of pandas. Value 'b0_b1' has dtype incompatible with float64, please explicitly cast to a compatible dtype first.\n",
      "\n",
      "d:\\UofT\\Research\\PDE-work\\continuous-time-eco-models\\venv\\Lib\\site-packages\\PyMacroFin\\utilities.py:27: FutureWarning:\n",
      "\n",
      "Setting an item of incompatible dtype is deprecated and will raise in a future error of pandas. Value 'b0_b1' has dtype incompatible with float64, please explicitly cast to a compatible dtype first.\n",
      "\n",
      "d:\\UofT\\Research\\PDE-work\\continuous-time-eco-models\\venv\\Lib\\site-packages\\PyMacroFin\\utilities.py:27: FutureWarning:\n",
      "\n",
      "Setting an item of incompatible dtype is deprecated and will raise in a future error of pandas. Value 'b0_b1' has dtype incompatible with float64, please explicitly cast to a compatible dtype first.\n",
      "\n",
      "d:\\UofT\\Research\\PDE-work\\continuous-time-eco-models\\venv\\Lib\\site-packages\\PyMacroFin\\utilities.py:27: FutureWarning:\n",
      "\n",
      "Setting an item of incompatible dtype is deprecated and will raise in a future error of pandas. Value 'b0_b1' has dtype incompatible with float64, please explicitly cast to a compatible dtype first.\n",
      "\n",
      "d:\\UofT\\Research\\PDE-work\\continuous-time-eco-models\\venv\\Lib\\site-packages\\PyMacroFin\\utilities.py:27: FutureWarning:\n",
      "\n",
      "Setting an item of incompatible dtype is deprecated and will raise in a future error of pandas. Value 'b0_b1' has dtype incompatible with float64, please explicitly cast to a compatible dtype first.\n",
      "\n",
      "d:\\UofT\\Research\\PDE-work\\continuous-time-eco-models\\venv\\Lib\\site-packages\\PyMacroFin\\utilities.py:27: FutureWarning:\n",
      "\n",
      "Setting an item of incompatible dtype is deprecated and will raise in a future error of pandas. Value 'b0_b1' has dtype incompatible with float64, please explicitly cast to a compatible dtype first.\n",
      "\n",
      "d:\\UofT\\Research\\PDE-work\\continuous-time-eco-models\\venv\\Lib\\site-packages\\PyMacroFin\\utilities.py:27: FutureWarning:\n",
      "\n",
      "Setting an item of incompatible dtype is deprecated and will raise in a future error of pandas. Value 'b0_b1' has dtype incompatible with float64, please explicitly cast to a compatible dtype first.\n",
      "\n",
      "d:\\UofT\\Research\\PDE-work\\continuous-time-eco-models\\venv\\Lib\\site-packages\\PyMacroFin\\utilities.py:27: FutureWarning:\n",
      "\n",
      "Setting an item of incompatible dtype is deprecated and will raise in a future error of pandas. Value 'b0_b1' has dtype incompatible with float64, please explicitly cast to a compatible dtype first.\n",
      "\n",
      "d:\\UofT\\Research\\PDE-work\\continuous-time-eco-models\\venv\\Lib\\site-packages\\PyMacroFin\\utilities.py:27: FutureWarning:\n",
      "\n",
      "Setting an item of incompatible dtype is deprecated and will raise in a future error of pandas. Value 'b0_b1' has dtype incompatible with float64, please explicitly cast to a compatible dtype first.\n",
      "\n",
      "d:\\UofT\\Research\\PDE-work\\continuous-time-eco-models\\venv\\Lib\\site-packages\\PyMacroFin\\utilities.py:27: FutureWarning:\n",
      "\n",
      "Setting an item of incompatible dtype is deprecated and will raise in a future error of pandas. Value 'b0_b1' has dtype incompatible with float64, please explicitly cast to a compatible dtype first.\n",
      "\n",
      "d:\\UofT\\Research\\PDE-work\\continuous-time-eco-models\\venv\\Lib\\site-packages\\PyMacroFin\\utilities.py:27: FutureWarning:\n",
      "\n",
      "Setting an item of incompatible dtype is deprecated and will raise in a future error of pandas. Value 'b0_b1' has dtype incompatible with float64, please explicitly cast to a compatible dtype first.\n",
      "\n",
      "d:\\UofT\\Research\\PDE-work\\continuous-time-eco-models\\venv\\Lib\\site-packages\\PyMacroFin\\utilities.py:27: FutureWarning:\n",
      "\n",
      "Setting an item of incompatible dtype is deprecated and will raise in a future error of pandas. Value 'b0_b1' has dtype incompatible with float64, please explicitly cast to a compatible dtype first.\n",
      "\n",
      "d:\\UofT\\Research\\PDE-work\\continuous-time-eco-models\\venv\\Lib\\site-packages\\PyMacroFin\\utilities.py:27: FutureWarning:\n",
      "\n",
      "Setting an item of incompatible dtype is deprecated and will raise in a future error of pandas. Value 'b0_b1' has dtype incompatible with float64, please explicitly cast to a compatible dtype first.\n",
      "\n",
      "d:\\UofT\\Research\\PDE-work\\continuous-time-eco-models\\venv\\Lib\\site-packages\\PyMacroFin\\utilities.py:27: FutureWarning:\n",
      "\n",
      "Setting an item of incompatible dtype is deprecated and will raise in a future error of pandas. Value 'b0_b1' has dtype incompatible with float64, please explicitly cast to a compatible dtype first.\n",
      "\n",
      "d:\\UofT\\Research\\PDE-work\\continuous-time-eco-models\\venv\\Lib\\site-packages\\PyMacroFin\\utilities.py:27: FutureWarning:\n",
      "\n",
      "Setting an item of incompatible dtype is deprecated and will raise in a future error of pandas. Value 'b0_b1' has dtype incompatible with float64, please explicitly cast to a compatible dtype first.\n",
      "\n",
      "d:\\UofT\\Research\\PDE-work\\continuous-time-eco-models\\venv\\Lib\\site-packages\\PyMacroFin\\utilities.py:27: FutureWarning:\n",
      "\n",
      "Setting an item of incompatible dtype is deprecated and will raise in a future error of pandas. Value 'b0_b1' has dtype incompatible with float64, please explicitly cast to a compatible dtype first.\n",
      "\n",
      "d:\\UofT\\Research\\PDE-work\\continuous-time-eco-models\\venv\\Lib\\site-packages\\PyMacroFin\\utilities.py:27: FutureWarning:\n",
      "\n",
      "Setting an item of incompatible dtype is deprecated and will raise in a future error of pandas. Value 'b0_b1' has dtype incompatible with float64, please explicitly cast to a compatible dtype first.\n",
      "\n",
      "d:\\UofT\\Research\\PDE-work\\continuous-time-eco-models\\venv\\Lib\\site-packages\\PyMacroFin\\utilities.py:27: FutureWarning:\n",
      "\n",
      "Setting an item of incompatible dtype is deprecated and will raise in a future error of pandas. Value 'b0_b1' has dtype incompatible with float64, please explicitly cast to a compatible dtype first.\n",
      "\n",
      "d:\\UofT\\Research\\PDE-work\\continuous-time-eco-models\\venv\\Lib\\site-packages\\PyMacroFin\\utilities.py:27: FutureWarning:\n",
      "\n",
      "Setting an item of incompatible dtype is deprecated and will raise in a future error of pandas. Value 'b0_b1' has dtype incompatible with float64, please explicitly cast to a compatible dtype first.\n",
      "\n",
      "d:\\UofT\\Research\\PDE-work\\continuous-time-eco-models\\venv\\Lib\\site-packages\\PyMacroFin\\utilities.py:27: FutureWarning:\n",
      "\n",
      "Setting an item of incompatible dtype is deprecated and will raise in a future error of pandas. Value 'b0_b1' has dtype incompatible with float64, please explicitly cast to a compatible dtype first.\n",
      "\n",
      "d:\\UofT\\Research\\PDE-work\\continuous-time-eco-models\\venv\\Lib\\site-packages\\PyMacroFin\\utilities.py:27: FutureWarning:\n",
      "\n",
      "Setting an item of incompatible dtype is deprecated and will raise in a future error of pandas. Value 'b0_b1' has dtype incompatible with float64, please explicitly cast to a compatible dtype first.\n",
      "\n",
      "d:\\UofT\\Research\\PDE-work\\continuous-time-eco-models\\venv\\Lib\\site-packages\\PyMacroFin\\utilities.py:27: FutureWarning:\n",
      "\n",
      "Setting an item of incompatible dtype is deprecated and will raise in a future error of pandas. Value 'b0_b1' has dtype incompatible with float64, please explicitly cast to a compatible dtype first.\n",
      "\n",
      "d:\\UofT\\Research\\PDE-work\\continuous-time-eco-models\\venv\\Lib\\site-packages\\PyMacroFin\\utilities.py:27: FutureWarning:\n",
      "\n",
      "Setting an item of incompatible dtype is deprecated and will raise in a future error of pandas. Value 'b0_b1' has dtype incompatible with float64, please explicitly cast to a compatible dtype first.\n",
      "\n",
      "d:\\UofT\\Research\\PDE-work\\continuous-time-eco-models\\venv\\Lib\\site-packages\\PyMacroFin\\utilities.py:27: FutureWarning:\n",
      "\n",
      "Setting an item of incompatible dtype is deprecated and will raise in a future error of pandas. Value 'b0_b1' has dtype incompatible with float64, please explicitly cast to a compatible dtype first.\n",
      "\n",
      "d:\\UofT\\Research\\PDE-work\\continuous-time-eco-models\\venv\\Lib\\site-packages\\PyMacroFin\\utilities.py:27: FutureWarning:\n",
      "\n",
      "Setting an item of incompatible dtype is deprecated and will raise in a future error of pandas. Value 'b0_b1' has dtype incompatible with float64, please explicitly cast to a compatible dtype first.\n",
      "\n",
      "d:\\UofT\\Research\\PDE-work\\continuous-time-eco-models\\venv\\Lib\\site-packages\\PyMacroFin\\utilities.py:27: FutureWarning:\n",
      "\n",
      "Setting an item of incompatible dtype is deprecated and will raise in a future error of pandas. Value 'b0_b1' has dtype incompatible with float64, please explicitly cast to a compatible dtype first.\n",
      "\n",
      "d:\\UofT\\Research\\PDE-work\\continuous-time-eco-models\\venv\\Lib\\site-packages\\PyMacroFin\\utilities.py:27: FutureWarning:\n",
      "\n",
      "Setting an item of incompatible dtype is deprecated and will raise in a future error of pandas. Value 'b0_b1' has dtype incompatible with float64, please explicitly cast to a compatible dtype first.\n",
      "\n",
      "d:\\UofT\\Research\\PDE-work\\continuous-time-eco-models\\venv\\Lib\\site-packages\\PyMacroFin\\utilities.py:27: FutureWarning:\n",
      "\n",
      "Setting an item of incompatible dtype is deprecated and will raise in a future error of pandas. Value 'b0_b1' has dtype incompatible with float64, please explicitly cast to a compatible dtype first.\n",
      "\n",
      "d:\\UofT\\Research\\PDE-work\\continuous-time-eco-models\\venv\\Lib\\site-packages\\PyMacroFin\\utilities.py:27: FutureWarning:\n",
      "\n",
      "Setting an item of incompatible dtype is deprecated and will raise in a future error of pandas. Value 'b0_b1' has dtype incompatible with float64, please explicitly cast to a compatible dtype first.\n",
      "\n",
      "d:\\UofT\\Research\\PDE-work\\continuous-time-eco-models\\venv\\Lib\\site-packages\\PyMacroFin\\utilities.py:27: FutureWarning:\n",
      "\n",
      "Setting an item of incompatible dtype is deprecated and will raise in a future error of pandas. Value 'b0_b1' has dtype incompatible with float64, please explicitly cast to a compatible dtype first.\n",
      "\n",
      "d:\\UofT\\Research\\PDE-work\\continuous-time-eco-models\\venv\\Lib\\site-packages\\PyMacroFin\\utilities.py:27: FutureWarning:\n",
      "\n",
      "Setting an item of incompatible dtype is deprecated and will raise in a future error of pandas. Value 'b0_b1' has dtype incompatible with float64, please explicitly cast to a compatible dtype first.\n",
      "\n",
      "d:\\UofT\\Research\\PDE-work\\continuous-time-eco-models\\venv\\Lib\\site-packages\\PyMacroFin\\utilities.py:27: FutureWarning:\n",
      "\n",
      "Setting an item of incompatible dtype is deprecated and will raise in a future error of pandas. Value 'b0_b1' has dtype incompatible with float64, please explicitly cast to a compatible dtype first.\n",
      "\n",
      "d:\\UofT\\Research\\PDE-work\\continuous-time-eco-models\\venv\\Lib\\site-packages\\PyMacroFin\\utilities.py:27: FutureWarning:\n",
      "\n",
      "Setting an item of incompatible dtype is deprecated and will raise in a future error of pandas. Value 'b0_b1' has dtype incompatible with float64, please explicitly cast to a compatible dtype first.\n",
      "\n",
      "d:\\UofT\\Research\\PDE-work\\continuous-time-eco-models\\venv\\Lib\\site-packages\\PyMacroFin\\utilities.py:27: FutureWarning:\n",
      "\n",
      "Setting an item of incompatible dtype is deprecated and will raise in a future error of pandas. Value 'b0_b1' has dtype incompatible with float64, please explicitly cast to a compatible dtype first.\n",
      "\n",
      "d:\\UofT\\Research\\PDE-work\\continuous-time-eco-models\\venv\\Lib\\site-packages\\PyMacroFin\\utilities.py:27: FutureWarning:\n",
      "\n",
      "Setting an item of incompatible dtype is deprecated and will raise in a future error of pandas. Value 'b0_b1' has dtype incompatible with float64, please explicitly cast to a compatible dtype first.\n",
      "\n",
      "d:\\UofT\\Research\\PDE-work\\continuous-time-eco-models\\venv\\Lib\\site-packages\\PyMacroFin\\utilities.py:27: FutureWarning:\n",
      "\n",
      "Setting an item of incompatible dtype is deprecated and will raise in a future error of pandas. Value 'b0_b1' has dtype incompatible with float64, please explicitly cast to a compatible dtype first.\n",
      "\n",
      "d:\\UofT\\Research\\PDE-work\\continuous-time-eco-models\\venv\\Lib\\site-packages\\PyMacroFin\\utilities.py:27: FutureWarning:\n",
      "\n",
      "Setting an item of incompatible dtype is deprecated and will raise in a future error of pandas. Value 'b0_b1' has dtype incompatible with float64, please explicitly cast to a compatible dtype first.\n",
      "\n",
      "d:\\UofT\\Research\\PDE-work\\continuous-time-eco-models\\venv\\Lib\\site-packages\\PyMacroFin\\utilities.py:27: FutureWarning:\n",
      "\n",
      "Setting an item of incompatible dtype is deprecated and will raise in a future error of pandas. Value 'b0_b1' has dtype incompatible with float64, please explicitly cast to a compatible dtype first.\n",
      "\n",
      "d:\\UofT\\Research\\PDE-work\\continuous-time-eco-models\\venv\\Lib\\site-packages\\PyMacroFin\\utilities.py:27: FutureWarning:\n",
      "\n",
      "Setting an item of incompatible dtype is deprecated and will raise in a future error of pandas. Value 'b0_b1' has dtype incompatible with float64, please explicitly cast to a compatible dtype first.\n",
      "\n",
      "d:\\UofT\\Research\\PDE-work\\continuous-time-eco-models\\venv\\Lib\\site-packages\\PyMacroFin\\utilities.py:27: FutureWarning:\n",
      "\n",
      "Setting an item of incompatible dtype is deprecated and will raise in a future error of pandas. Value 'b0_b1' has dtype incompatible with float64, please explicitly cast to a compatible dtype first.\n",
      "\n",
      "d:\\UofT\\Research\\PDE-work\\continuous-time-eco-models\\venv\\Lib\\site-packages\\PyMacroFin\\utilities.py:27: FutureWarning:\n",
      "\n",
      "Setting an item of incompatible dtype is deprecated and will raise in a future error of pandas. Value 'b0_b1' has dtype incompatible with float64, please explicitly cast to a compatible dtype first.\n",
      "\n",
      "d:\\UofT\\Research\\PDE-work\\continuous-time-eco-models\\venv\\Lib\\site-packages\\PyMacroFin\\utilities.py:27: FutureWarning:\n",
      "\n",
      "Setting an item of incompatible dtype is deprecated and will raise in a future error of pandas. Value 'b0_b1' has dtype incompatible with float64, please explicitly cast to a compatible dtype first.\n",
      "\n",
      "d:\\UofT\\Research\\PDE-work\\continuous-time-eco-models\\venv\\Lib\\site-packages\\PyMacroFin\\utilities.py:27: FutureWarning:\n",
      "\n",
      "Setting an item of incompatible dtype is deprecated and will raise in a future error of pandas. Value 'b0_b1' has dtype incompatible with float64, please explicitly cast to a compatible dtype first.\n",
      "\n",
      "d:\\UofT\\Research\\PDE-work\\continuous-time-eco-models\\venv\\Lib\\site-packages\\PyMacroFin\\utilities.py:27: FutureWarning:\n",
      "\n",
      "Setting an item of incompatible dtype is deprecated and will raise in a future error of pandas. Value 'b0_b1' has dtype incompatible with float64, please explicitly cast to a compatible dtype first.\n",
      "\n",
      "d:\\UofT\\Research\\PDE-work\\continuous-time-eco-models\\venv\\Lib\\site-packages\\PyMacroFin\\utilities.py:27: FutureWarning:\n",
      "\n",
      "Setting an item of incompatible dtype is deprecated and will raise in a future error of pandas. Value 'b0_b1' has dtype incompatible with float64, please explicitly cast to a compatible dtype first.\n",
      "\n",
      "d:\\UofT\\Research\\PDE-work\\continuous-time-eco-models\\venv\\Lib\\site-packages\\PyMacroFin\\utilities.py:27: FutureWarning:\n",
      "\n",
      "Setting an item of incompatible dtype is deprecated and will raise in a future error of pandas. Value 'b0_b1' has dtype incompatible with float64, please explicitly cast to a compatible dtype first.\n",
      "\n",
      "d:\\UofT\\Research\\PDE-work\\continuous-time-eco-models\\venv\\Lib\\site-packages\\PyMacroFin\\utilities.py:27: FutureWarning:\n",
      "\n",
      "Setting an item of incompatible dtype is deprecated and will raise in a future error of pandas. Value 'b0_b1' has dtype incompatible with float64, please explicitly cast to a compatible dtype first.\n",
      "\n",
      "d:\\UofT\\Research\\PDE-work\\continuous-time-eco-models\\venv\\Lib\\site-packages\\PyMacroFin\\utilities.py:27: FutureWarning:\n",
      "\n",
      "Setting an item of incompatible dtype is deprecated and will raise in a future error of pandas. Value 'b0_b1' has dtype incompatible with float64, please explicitly cast to a compatible dtype first.\n",
      "\n",
      "d:\\UofT\\Research\\PDE-work\\continuous-time-eco-models\\venv\\Lib\\site-packages\\PyMacroFin\\utilities.py:27: FutureWarning:\n",
      "\n",
      "Setting an item of incompatible dtype is deprecated and will raise in a future error of pandas. Value 'b0_b1' has dtype incompatible with float64, please explicitly cast to a compatible dtype first.\n",
      "\n",
      "d:\\UofT\\Research\\PDE-work\\continuous-time-eco-models\\venv\\Lib\\site-packages\\PyMacroFin\\utilities.py:27: FutureWarning:\n",
      "\n",
      "Setting an item of incompatible dtype is deprecated and will raise in a future error of pandas. Value 'b0_b1' has dtype incompatible with float64, please explicitly cast to a compatible dtype first.\n",
      "\n",
      "d:\\UofT\\Research\\PDE-work\\continuous-time-eco-models\\venv\\Lib\\site-packages\\PyMacroFin\\utilities.py:27: FutureWarning:\n",
      "\n",
      "Setting an item of incompatible dtype is deprecated and will raise in a future error of pandas. Value 'b0_b1' has dtype incompatible with float64, please explicitly cast to a compatible dtype first.\n",
      "\n",
      "d:\\UofT\\Research\\PDE-work\\continuous-time-eco-models\\venv\\Lib\\site-packages\\PyMacroFin\\utilities.py:27: FutureWarning:\n",
      "\n",
      "Setting an item of incompatible dtype is deprecated and will raise in a future error of pandas. Value 'b0_b1' has dtype incompatible with float64, please explicitly cast to a compatible dtype first.\n",
      "\n",
      "d:\\UofT\\Research\\PDE-work\\continuous-time-eco-models\\venv\\Lib\\site-packages\\PyMacroFin\\utilities.py:27: FutureWarning:\n",
      "\n",
      "Setting an item of incompatible dtype is deprecated and will raise in a future error of pandas. Value 'b0_b1' has dtype incompatible with float64, please explicitly cast to a compatible dtype first.\n",
      "\n",
      "[Parallel(n_jobs=-1)]: Using backend DaskDistributedBackend with 20 concurrent workers.\n",
      "[Parallel(n_jobs=-1)]: Done  10 tasks      | elapsed:    0.3s\n",
      "[Parallel(n_jobs=-1)]: Done 200 out of 200 | elapsed:    2.2s finished\n"
     ]
    },
    {
     "name": "stdout",
     "output_type": "stream",
     "text": [
      "    outer static loop iteration 1 completed with error 1.87\n"
     ]
    },
    {
     "name": "stderr",
     "output_type": "stream",
     "text": [
      "[Parallel(n_jobs=-1)]: Using backend DaskDistributedBackend with 20 concurrent workers.\n",
      "[Parallel(n_jobs=-1)]: Done  10 tasks      | elapsed:    0.2s\n",
      "[Parallel(n_jobs=-1)]: Done 200 out of 200 | elapsed:    1.9s finished\n"
     ]
    },
    {
     "name": "stdout",
     "output_type": "stream",
     "text": [
      "    outer static loop iteration 2 completed with error 0.61\n"
     ]
    },
    {
     "name": "stderr",
     "output_type": "stream",
     "text": [
      "[Parallel(n_jobs=-1)]: Using backend DaskDistributedBackend with 20 concurrent workers.\n",
      "[Parallel(n_jobs=-1)]: Done  10 tasks      | elapsed:    0.3s\n",
      "[Parallel(n_jobs=-1)]: Done 161 out of 200 | elapsed:    2.1s remaining:    0.4s\n",
      "[Parallel(n_jobs=-1)]: Done 200 out of 200 | elapsed:    2.3s finished\n"
     ]
    },
    {
     "name": "stdout",
     "output_type": "stream",
     "text": [
      "    outer static loop iteration 3 completed with error 0.15\n"
     ]
    },
    {
     "name": "stderr",
     "output_type": "stream",
     "text": [
      "[Parallel(n_jobs=-1)]: Using backend DaskDistributedBackend with 20 concurrent workers.\n",
      "[Parallel(n_jobs=-1)]: Done  10 tasks      | elapsed:    0.2s\n",
      "[Parallel(n_jobs=-1)]: Done 200 out of 200 | elapsed:    1.6s finished\n"
     ]
    },
    {
     "name": "stdout",
     "output_type": "stream",
     "text": [
      "    outer static loop iteration 4 completed with error 0.0765\n"
     ]
    },
    {
     "name": "stderr",
     "output_type": "stream",
     "text": [
      "[Parallel(n_jobs=-1)]: Using backend DaskDistributedBackend with 20 concurrent workers.\n",
      "[Parallel(n_jobs=-1)]: Done  10 tasks      | elapsed:    0.0s\n",
      "[Parallel(n_jobs=-1)]: Done 200 out of 200 | elapsed:    1.4s finished\n"
     ]
    },
    {
     "name": "stdout",
     "output_type": "stream",
     "text": [
      "    outer static loop iteration 5 completed with error 0.0527\n"
     ]
    },
    {
     "name": "stderr",
     "output_type": "stream",
     "text": [
      "[Parallel(n_jobs=-1)]: Using backend DaskDistributedBackend with 20 concurrent workers.\n",
      "[Parallel(n_jobs=-1)]: Done  10 tasks      | elapsed:    0.1s\n",
      "[Parallel(n_jobs=-1)]: Done 200 out of 200 | elapsed:    1.4s finished\n"
     ]
    },
    {
     "name": "stdout",
     "output_type": "stream",
     "text": [
      "    outer static loop iteration 6 completed with error 0.0434\n"
     ]
    },
    {
     "name": "stderr",
     "output_type": "stream",
     "text": [
      "[Parallel(n_jobs=-1)]: Using backend DaskDistributedBackend with 20 concurrent workers.\n",
      "[Parallel(n_jobs=-1)]: Done  10 tasks      | elapsed:    0.1s\n",
      "[Parallel(n_jobs=-1)]: Done 200 out of 200 | elapsed:    1.5s finished\n"
     ]
    },
    {
     "name": "stdout",
     "output_type": "stream",
     "text": [
      "    outer static loop iteration 7 completed with error 0.0369\n"
     ]
    },
    {
     "name": "stderr",
     "output_type": "stream",
     "text": [
      "[Parallel(n_jobs=-1)]: Using backend DaskDistributedBackend with 20 concurrent workers.\n",
      "[Parallel(n_jobs=-1)]: Done  10 tasks      | elapsed:    0.0s\n",
      "[Parallel(n_jobs=-1)]: Done 200 out of 200 | elapsed:    1.4s finished\n"
     ]
    },
    {
     "name": "stdout",
     "output_type": "stream",
     "text": [
      "    outer static loop iteration 8 completed with error 0.0317\n"
     ]
    },
    {
     "name": "stderr",
     "output_type": "stream",
     "text": [
      "[Parallel(n_jobs=-1)]: Using backend DaskDistributedBackend with 20 concurrent workers.\n",
      "[Parallel(n_jobs=-1)]: Done  10 tasks      | elapsed:    0.0s\n",
      "[Parallel(n_jobs=-1)]: Done 200 out of 200 | elapsed:    1.4s finished\n"
     ]
    },
    {
     "name": "stdout",
     "output_type": "stream",
     "text": [
      "    outer static loop iteration 9 completed with error 0.0277\n"
     ]
    },
    {
     "name": "stderr",
     "output_type": "stream",
     "text": [
      "[Parallel(n_jobs=-1)]: Using backend DaskDistributedBackend with 20 concurrent workers.\n",
      "[Parallel(n_jobs=-1)]: Done  10 tasks      | elapsed:    0.1s\n",
      "[Parallel(n_jobs=-1)]: Done 200 out of 200 | elapsed:    1.4s finished\n"
     ]
    },
    {
     "name": "stdout",
     "output_type": "stream",
     "text": [
      "    outer static loop iteration 10 completed with error 0.0244\n"
     ]
    },
    {
     "name": "stderr",
     "output_type": "stream",
     "text": [
      "[Parallel(n_jobs=-1)]: Using backend DaskDistributedBackend with 20 concurrent workers.\n",
      "[Parallel(n_jobs=-1)]: Done  10 tasks      | elapsed:    0.0s\n",
      "[Parallel(n_jobs=-1)]: Done 200 out of 200 | elapsed:    1.4s finished\n"
     ]
    },
    {
     "name": "stdout",
     "output_type": "stream",
     "text": [
      "    outer static loop iteration 11 completed with error 0.0217\n"
     ]
    },
    {
     "name": "stderr",
     "output_type": "stream",
     "text": [
      "[Parallel(n_jobs=-1)]: Using backend DaskDistributedBackend with 20 concurrent workers.\n",
      "[Parallel(n_jobs=-1)]: Done  10 tasks      | elapsed:    0.0s\n",
      "[Parallel(n_jobs=-1)]: Done 200 out of 200 | elapsed:    1.4s finished\n"
     ]
    },
    {
     "name": "stdout",
     "output_type": "stream",
     "text": [
      "    outer static loop iteration 12 completed with error 0.0194\n"
     ]
    },
    {
     "name": "stderr",
     "output_type": "stream",
     "text": [
      "[Parallel(n_jobs=-1)]: Using backend DaskDistributedBackend with 20 concurrent workers.\n",
      "[Parallel(n_jobs=-1)]: Done  10 tasks      | elapsed:    0.0s\n",
      "[Parallel(n_jobs=-1)]: Done 200 out of 200 | elapsed:    1.3s finished\n"
     ]
    },
    {
     "name": "stdout",
     "output_type": "stream",
     "text": [
      "    outer static loop iteration 13 completed with error 0.0174\n"
     ]
    },
    {
     "name": "stderr",
     "output_type": "stream",
     "text": [
      "[Parallel(n_jobs=-1)]: Using backend DaskDistributedBackend with 20 concurrent workers.\n",
      "[Parallel(n_jobs=-1)]: Done  10 tasks      | elapsed:    0.2s\n",
      "[Parallel(n_jobs=-1)]: Done 160 tasks      | elapsed:    1.3s\n",
      "[Parallel(n_jobs=-1)]: Done 200 out of 200 | elapsed:    1.5s finished\n"
     ]
    },
    {
     "name": "stdout",
     "output_type": "stream",
     "text": [
      "    outer static loop iteration 14 completed with error 0.0157\n"
     ]
    },
    {
     "name": "stderr",
     "output_type": "stream",
     "text": [
      "[Parallel(n_jobs=-1)]: Using backend DaskDistributedBackend with 20 concurrent workers.\n",
      "[Parallel(n_jobs=-1)]: Done  10 tasks      | elapsed:    0.2s\n",
      "[Parallel(n_jobs=-1)]: Done 160 tasks      | elapsed:    1.3s\n",
      "[Parallel(n_jobs=-1)]: Done 200 out of 200 | elapsed:    1.5s finished\n"
     ]
    },
    {
     "name": "stdout",
     "output_type": "stream",
     "text": [
      "    outer static loop iteration 15 completed with error 0.0142\n"
     ]
    },
    {
     "name": "stderr",
     "output_type": "stream",
     "text": [
      "[Parallel(n_jobs=-1)]: Using backend DaskDistributedBackend with 20 concurrent workers.\n",
      "[Parallel(n_jobs=-1)]: Done  10 tasks      | elapsed:    0.2s\n",
      "[Parallel(n_jobs=-1)]: Done 160 tasks      | elapsed:    1.3s\n",
      "[Parallel(n_jobs=-1)]: Done 200 out of 200 | elapsed:    1.5s finished\n"
     ]
    },
    {
     "name": "stdout",
     "output_type": "stream",
     "text": [
      "    outer static loop iteration 16 completed with error 0.0129\n"
     ]
    },
    {
     "name": "stderr",
     "output_type": "stream",
     "text": [
      "[Parallel(n_jobs=-1)]: Using backend DaskDistributedBackend with 20 concurrent workers.\n",
      "[Parallel(n_jobs=-1)]: Done  10 tasks      | elapsed:    0.2s\n",
      "[Parallel(n_jobs=-1)]: Done 160 tasks      | elapsed:    1.3s\n",
      "[Parallel(n_jobs=-1)]: Done 200 out of 200 | elapsed:    1.5s finished\n"
     ]
    },
    {
     "name": "stdout",
     "output_type": "stream",
     "text": [
      "    outer static loop iteration 17 completed with error 0.0117\n"
     ]
    },
    {
     "name": "stderr",
     "output_type": "stream",
     "text": [
      "[Parallel(n_jobs=-1)]: Using backend DaskDistributedBackend with 20 concurrent workers.\n",
      "[Parallel(n_jobs=-1)]: Done  10 tasks      | elapsed:    0.2s\n",
      "[Parallel(n_jobs=-1)]: Done 160 tasks      | elapsed:    1.3s\n",
      "[Parallel(n_jobs=-1)]: Done 200 out of 200 | elapsed:    1.5s finished\n"
     ]
    },
    {
     "name": "stdout",
     "output_type": "stream",
     "text": [
      "    outer static loop iteration 18 completed with error 0.0106\n"
     ]
    },
    {
     "name": "stderr",
     "output_type": "stream",
     "text": [
      "[Parallel(n_jobs=-1)]: Using backend DaskDistributedBackend with 20 concurrent workers.\n",
      "[Parallel(n_jobs=-1)]: Done  10 tasks      | elapsed:    0.2s\n",
      "[Parallel(n_jobs=-1)]: Done 200 out of 200 | elapsed:    1.4s finished\n"
     ]
    },
    {
     "name": "stdout",
     "output_type": "stream",
     "text": [
      "    outer static loop iteration 19 completed with error 0.00959\n"
     ]
    },
    {
     "name": "stderr",
     "output_type": "stream",
     "text": [
      "[Parallel(n_jobs=-1)]: Using backend DaskDistributedBackend with 20 concurrent workers.\n",
      "[Parallel(n_jobs=-1)]: Done  10 tasks      | elapsed:    0.0s\n",
      "[Parallel(n_jobs=-1)]: Done 200 out of 200 | elapsed:    1.4s finished\n"
     ]
    },
    {
     "name": "stdout",
     "output_type": "stream",
     "text": [
      "    outer static loop iteration 20 completed with error 0.00873\n"
     ]
    },
    {
     "name": "stderr",
     "output_type": "stream",
     "text": [
      "[Parallel(n_jobs=-1)]: Using backend DaskDistributedBackend with 20 concurrent workers.\n",
      "[Parallel(n_jobs=-1)]: Done  10 tasks      | elapsed:    0.0s\n",
      "[Parallel(n_jobs=-1)]: Done 200 out of 200 | elapsed:    1.4s finished\n"
     ]
    },
    {
     "name": "stdout",
     "output_type": "stream",
     "text": [
      "    outer static loop iteration 21 completed with error 0.00796\n"
     ]
    },
    {
     "name": "stderr",
     "output_type": "stream",
     "text": [
      "[Parallel(n_jobs=-1)]: Using backend DaskDistributedBackend with 20 concurrent workers.\n",
      "[Parallel(n_jobs=-1)]: Done  10 tasks      | elapsed:    0.1s\n",
      "[Parallel(n_jobs=-1)]: Done 200 out of 200 | elapsed:    1.3s finished\n"
     ]
    },
    {
     "name": "stdout",
     "output_type": "stream",
     "text": [
      "    outer static loop iteration 22 completed with error 0.00727\n"
     ]
    },
    {
     "name": "stderr",
     "output_type": "stream",
     "text": [
      "[Parallel(n_jobs=-1)]: Using backend DaskDistributedBackend with 20 concurrent workers.\n",
      "[Parallel(n_jobs=-1)]: Done  10 tasks      | elapsed:    0.2s\n",
      "[Parallel(n_jobs=-1)]: Done 200 out of 200 | elapsed:    1.4s finished\n"
     ]
    },
    {
     "name": "stdout",
     "output_type": "stream",
     "text": [
      "    outer static loop iteration 23 completed with error 0.00664\n"
     ]
    },
    {
     "name": "stderr",
     "output_type": "stream",
     "text": [
      "[Parallel(n_jobs=-1)]: Using backend DaskDistributedBackend with 20 concurrent workers.\n",
      "[Parallel(n_jobs=-1)]: Done  10 tasks      | elapsed:    0.1s\n",
      "[Parallel(n_jobs=-1)]: Done 200 out of 200 | elapsed:    1.4s finished\n"
     ]
    },
    {
     "name": "stdout",
     "output_type": "stream",
     "text": [
      "    outer static loop iteration 24 completed with error 0.00608\n"
     ]
    },
    {
     "name": "stderr",
     "output_type": "stream",
     "text": [
      "[Parallel(n_jobs=-1)]: Using backend DaskDistributedBackend with 20 concurrent workers.\n",
      "[Parallel(n_jobs=-1)]: Done  10 tasks      | elapsed:    0.0s\n",
      "[Parallel(n_jobs=-1)]: Done 200 out of 200 | elapsed:    1.4s finished\n"
     ]
    },
    {
     "name": "stdout",
     "output_type": "stream",
     "text": [
      "    outer static loop iteration 25 completed with error 0.00557\n"
     ]
    },
    {
     "name": "stderr",
     "output_type": "stream",
     "text": [
      "[Parallel(n_jobs=-1)]: Using backend DaskDistributedBackend with 20 concurrent workers.\n",
      "[Parallel(n_jobs=-1)]: Done  10 tasks      | elapsed:    0.0s\n",
      "[Parallel(n_jobs=-1)]: Done 200 out of 200 | elapsed:    1.2s finished\n"
     ]
    },
    {
     "name": "stdout",
     "output_type": "stream",
     "text": [
      "    outer static loop iteration 26 completed with error 0.00511\n"
     ]
    },
    {
     "name": "stderr",
     "output_type": "stream",
     "text": [
      "[Parallel(n_jobs=-1)]: Using backend DaskDistributedBackend with 20 concurrent workers.\n",
      "[Parallel(n_jobs=-1)]: Done  10 tasks      | elapsed:    0.1s\n",
      "[Parallel(n_jobs=-1)]: Done 200 out of 200 | elapsed:    1.3s finished\n"
     ]
    },
    {
     "name": "stdout",
     "output_type": "stream",
     "text": [
      "    outer static loop iteration 27 completed with error 0.0047\n"
     ]
    },
    {
     "name": "stderr",
     "output_type": "stream",
     "text": [
      "[Parallel(n_jobs=-1)]: Using backend DaskDistributedBackend with 20 concurrent workers.\n",
      "[Parallel(n_jobs=-1)]: Done  10 tasks      | elapsed:    0.0s\n",
      "[Parallel(n_jobs=-1)]: Done 200 out of 200 | elapsed:    1.4s finished\n"
     ]
    },
    {
     "name": "stdout",
     "output_type": "stream",
     "text": [
      "    outer static loop iteration 28 completed with error 0.00432\n"
     ]
    },
    {
     "name": "stderr",
     "output_type": "stream",
     "text": [
      "[Parallel(n_jobs=-1)]: Using backend DaskDistributedBackend with 20 concurrent workers.\n",
      "[Parallel(n_jobs=-1)]: Done  10 tasks      | elapsed:    0.1s\n",
      "[Parallel(n_jobs=-1)]: Done 200 out of 200 | elapsed:    1.4s finished\n"
     ]
    },
    {
     "name": "stdout",
     "output_type": "stream",
     "text": [
      "    outer static loop iteration 29 completed with error 0.00397\n"
     ]
    },
    {
     "name": "stderr",
     "output_type": "stream",
     "text": [
      "[Parallel(n_jobs=-1)]: Using backend DaskDistributedBackend with 20 concurrent workers.\n",
      "[Parallel(n_jobs=-1)]: Done  10 tasks      | elapsed:    0.0s\n",
      "[Parallel(n_jobs=-1)]: Done 200 out of 200 | elapsed:    1.4s finished\n"
     ]
    },
    {
     "name": "stdout",
     "output_type": "stream",
     "text": [
      "    outer static loop iteration 30 completed with error 0.00366\n"
     ]
    },
    {
     "name": "stderr",
     "output_type": "stream",
     "text": [
      "[Parallel(n_jobs=-1)]: Using backend DaskDistributedBackend with 20 concurrent workers.\n",
      "[Parallel(n_jobs=-1)]: Done  10 tasks      | elapsed:    0.1s\n",
      "[Parallel(n_jobs=-1)]: Done 200 out of 200 | elapsed:    1.2s finished\n"
     ]
    },
    {
     "name": "stdout",
     "output_type": "stream",
     "text": [
      "    outer static loop iteration 31 completed with error 0.00338\n"
     ]
    },
    {
     "name": "stderr",
     "output_type": "stream",
     "text": [
      "[Parallel(n_jobs=-1)]: Using backend DaskDistributedBackend with 20 concurrent workers.\n",
      "[Parallel(n_jobs=-1)]: Done  10 tasks      | elapsed:    0.2s\n",
      "[Parallel(n_jobs=-1)]: Done 160 tasks      | elapsed:    1.3s\n",
      "[Parallel(n_jobs=-1)]: Done 200 out of 200 | elapsed:    1.5s finished\n"
     ]
    },
    {
     "name": "stdout",
     "output_type": "stream",
     "text": [
      "    outer static loop iteration 32 completed with error 0.00311\n"
     ]
    },
    {
     "name": "stderr",
     "output_type": "stream",
     "text": [
      "[Parallel(n_jobs=-1)]: Using backend DaskDistributedBackend with 20 concurrent workers.\n",
      "[Parallel(n_jobs=-1)]: Done  10 tasks      | elapsed:    0.1s\n",
      "[Parallel(n_jobs=-1)]: Done 200 out of 200 | elapsed:    1.4s finished\n"
     ]
    },
    {
     "name": "stdout",
     "output_type": "stream",
     "text": [
      "    outer static loop iteration 33 completed with error 0.00288\n"
     ]
    },
    {
     "name": "stderr",
     "output_type": "stream",
     "text": [
      "[Parallel(n_jobs=-1)]: Using backend DaskDistributedBackend with 20 concurrent workers.\n",
      "[Parallel(n_jobs=-1)]: Done  10 tasks      | elapsed:    0.0s\n",
      "[Parallel(n_jobs=-1)]: Done 200 out of 200 | elapsed:    1.4s finished\n"
     ]
    },
    {
     "name": "stdout",
     "output_type": "stream",
     "text": [
      "    outer static loop iteration 34 completed with error 0.00266\n"
     ]
    },
    {
     "name": "stderr",
     "output_type": "stream",
     "text": [
      "[Parallel(n_jobs=-1)]: Using backend DaskDistributedBackend with 20 concurrent workers.\n",
      "[Parallel(n_jobs=-1)]: Done  10 tasks      | elapsed:    0.0s\n",
      "[Parallel(n_jobs=-1)]: Done 200 out of 200 | elapsed:    1.4s finished\n"
     ]
    },
    {
     "name": "stdout",
     "output_type": "stream",
     "text": [
      "    outer static loop iteration 35 completed with error 0.00246\n"
     ]
    },
    {
     "name": "stderr",
     "output_type": "stream",
     "text": [
      "[Parallel(n_jobs=-1)]: Using backend DaskDistributedBackend with 20 concurrent workers.\n",
      "[Parallel(n_jobs=-1)]: Done  10 tasks      | elapsed:    0.1s\n",
      "[Parallel(n_jobs=-1)]: Done 200 out of 200 | elapsed:    1.2s finished\n"
     ]
    },
    {
     "name": "stdout",
     "output_type": "stream",
     "text": [
      "    outer static loop iteration 36 completed with error 0.00228\n"
     ]
    },
    {
     "name": "stderr",
     "output_type": "stream",
     "text": [
      "[Parallel(n_jobs=-1)]: Using backend DaskDistributedBackend with 20 concurrent workers.\n",
      "[Parallel(n_jobs=-1)]: Done  10 tasks      | elapsed:    0.2s\n",
      "[Parallel(n_jobs=-1)]: Done 200 out of 200 | elapsed:    1.4s finished\n"
     ]
    },
    {
     "name": "stdout",
     "output_type": "stream",
     "text": [
      "    outer static loop iteration 37 completed with error 0.00212\n"
     ]
    },
    {
     "name": "stderr",
     "output_type": "stream",
     "text": [
      "[Parallel(n_jobs=-1)]: Using backend DaskDistributedBackend with 20 concurrent workers.\n",
      "[Parallel(n_jobs=-1)]: Done  10 tasks      | elapsed:    0.1s\n",
      "[Parallel(n_jobs=-1)]: Done 200 out of 200 | elapsed:    1.4s finished\n"
     ]
    },
    {
     "name": "stdout",
     "output_type": "stream",
     "text": [
      "    outer static loop iteration 38 completed with error 0.00196\n"
     ]
    },
    {
     "name": "stderr",
     "output_type": "stream",
     "text": [
      "[Parallel(n_jobs=-1)]: Using backend DaskDistributedBackend with 20 concurrent workers.\n",
      "[Parallel(n_jobs=-1)]: Done  10 tasks      | elapsed:    0.0s\n",
      "[Parallel(n_jobs=-1)]: Done 200 out of 200 | elapsed:    1.2s finished\n"
     ]
    },
    {
     "name": "stdout",
     "output_type": "stream",
     "text": [
      "    outer static loop iteration 39 completed with error 0.00183\n"
     ]
    },
    {
     "name": "stderr",
     "output_type": "stream",
     "text": [
      "[Parallel(n_jobs=-1)]: Using backend DaskDistributedBackend with 20 concurrent workers.\n",
      "[Parallel(n_jobs=-1)]: Done  10 tasks      | elapsed:    0.0s\n",
      "[Parallel(n_jobs=-1)]: Done 200 out of 200 | elapsed:    1.2s finished\n"
     ]
    },
    {
     "name": "stdout",
     "output_type": "stream",
     "text": [
      "    outer static loop iteration 40 completed with error 0.0017\n"
     ]
    },
    {
     "name": "stderr",
     "output_type": "stream",
     "text": [
      "[Parallel(n_jobs=-1)]: Using backend DaskDistributedBackend with 20 concurrent workers.\n",
      "[Parallel(n_jobs=-1)]: Done  10 tasks      | elapsed:    0.2s\n",
      "[Parallel(n_jobs=-1)]: Done 200 out of 200 | elapsed:    1.3s finished\n"
     ]
    },
    {
     "name": "stdout",
     "output_type": "stream",
     "text": [
      "    outer static loop iteration 41 completed with error 0.00158\n"
     ]
    },
    {
     "name": "stderr",
     "output_type": "stream",
     "text": [
      "[Parallel(n_jobs=-1)]: Using backend DaskDistributedBackend with 20 concurrent workers.\n",
      "[Parallel(n_jobs=-1)]: Done  10 tasks      | elapsed:    0.0s\n",
      "[Parallel(n_jobs=-1)]: Done 200 out of 200 | elapsed:    1.3s finished\n"
     ]
    },
    {
     "name": "stdout",
     "output_type": "stream",
     "text": [
      "    outer static loop iteration 42 completed with error 0.00148\n"
     ]
    },
    {
     "name": "stderr",
     "output_type": "stream",
     "text": [
      "[Parallel(n_jobs=-1)]: Using backend DaskDistributedBackend with 20 concurrent workers.\n",
      "[Parallel(n_jobs=-1)]: Done  10 tasks      | elapsed:    0.0s\n",
      "[Parallel(n_jobs=-1)]: Done 200 out of 200 | elapsed:    1.2s finished\n"
     ]
    },
    {
     "name": "stdout",
     "output_type": "stream",
     "text": [
      "    outer static loop iteration 43 completed with error 0.00138\n"
     ]
    },
    {
     "name": "stderr",
     "output_type": "stream",
     "text": [
      "[Parallel(n_jobs=-1)]: Using backend DaskDistributedBackend with 20 concurrent workers.\n",
      "[Parallel(n_jobs=-1)]: Done  10 tasks      | elapsed:    0.2s\n",
      "[Parallel(n_jobs=-1)]: Done 200 out of 200 | elapsed:    1.3s finished\n"
     ]
    },
    {
     "name": "stdout",
     "output_type": "stream",
     "text": [
      "    outer static loop iteration 44 completed with error 0.00129\n"
     ]
    },
    {
     "name": "stderr",
     "output_type": "stream",
     "text": [
      "[Parallel(n_jobs=-1)]: Using backend DaskDistributedBackend with 20 concurrent workers.\n",
      "[Parallel(n_jobs=-1)]: Done  10 tasks      | elapsed:    0.0s\n",
      "[Parallel(n_jobs=-1)]: Done 200 out of 200 | elapsed:    1.3s finished\n"
     ]
    },
    {
     "name": "stdout",
     "output_type": "stream",
     "text": [
      "    outer static loop iteration 45 completed with error 0.00121\n"
     ]
    },
    {
     "name": "stderr",
     "output_type": "stream",
     "text": [
      "[Parallel(n_jobs=-1)]: Using backend DaskDistributedBackend with 20 concurrent workers.\n",
      "[Parallel(n_jobs=-1)]: Done  10 tasks      | elapsed:    0.1s\n",
      "[Parallel(n_jobs=-1)]: Done 200 out of 200 | elapsed:    1.2s finished\n"
     ]
    },
    {
     "name": "stdout",
     "output_type": "stream",
     "text": [
      "    outer static loop iteration 46 completed with error 0.00114\n"
     ]
    },
    {
     "name": "stderr",
     "output_type": "stream",
     "text": [
      "[Parallel(n_jobs=-1)]: Using backend DaskDistributedBackend with 20 concurrent workers.\n",
      "[Parallel(n_jobs=-1)]: Done  10 tasks      | elapsed:    0.2s\n",
      "[Parallel(n_jobs=-1)]: Done 200 out of 200 | elapsed:    1.4s finished\n"
     ]
    },
    {
     "name": "stdout",
     "output_type": "stream",
     "text": [
      "    outer static loop iteration 47 completed with error 0.00107\n"
     ]
    },
    {
     "name": "stderr",
     "output_type": "stream",
     "text": [
      "[Parallel(n_jobs=-1)]: Using backend DaskDistributedBackend with 20 concurrent workers.\n",
      "[Parallel(n_jobs=-1)]: Done  10 tasks      | elapsed:    0.0s\n",
      "[Parallel(n_jobs=-1)]: Done 200 out of 200 | elapsed:    1.3s finished\n"
     ]
    },
    {
     "name": "stdout",
     "output_type": "stream",
     "text": [
      "    outer static loop iteration 48 completed with error 0.00101\n"
     ]
    },
    {
     "name": "stderr",
     "output_type": "stream",
     "text": [
      "[Parallel(n_jobs=-1)]: Using backend DaskDistributedBackend with 20 concurrent workers.\n",
      "[Parallel(n_jobs=-1)]: Done  10 tasks      | elapsed:    0.0s\n",
      "[Parallel(n_jobs=-1)]: Done 200 out of 200 | elapsed:    1.2s finished\n"
     ]
    },
    {
     "name": "stdout",
     "output_type": "stream",
     "text": [
      "    outer static loop iteration 49 completed with error 0.00095\n"
     ]
    },
    {
     "name": "stderr",
     "output_type": "stream",
     "text": [
      "[Parallel(n_jobs=-1)]: Using backend DaskDistributedBackend with 20 concurrent workers.\n",
      "[Parallel(n_jobs=-1)]: Done  10 tasks      | elapsed:    0.2s\n",
      "[Parallel(n_jobs=-1)]: Done 200 out of 200 | elapsed:    1.4s finished\n"
     ]
    },
    {
     "name": "stdout",
     "output_type": "stream",
     "text": [
      "    outer static loop iteration 50 completed with error 0.000899\n",
      "dask client shut down successfully\n",
      "elapsed time: 91.35797500610352\n"
     ]
    }
   ],
   "source": [
    "from PyMacroFin.model import macro_model\n",
    "import numpy as np\n",
    "import pandas as pd\n",
    "import time\n",
    "import PyMacroFin.utilities as util\n",
    "from PyMacroFin.system import system\n",
    "\n",
    "# initial guess function for endogenous variables\n",
    "def init_fcn(e,c):\n",
    "    if e<.3:\n",
    "            q = 1.05+.06/.3*e\n",
    "            psi = 1/.3*e\n",
    "            sigq = -.1*(e-.3)**2+.008\n",
    "    else:\n",
    "            psi = 1\n",
    "            sigq = 0\n",
    "            q = 1.1 - .03/.7*e\n",
    "    return [q,psi]\n",
    "\n",
    "# boundary condition function for eta == 0\n",
    "def eta_minimum(d):\n",
    "    psi = 0\n",
    "    q = (2*d['ah']*d['kappa']+(d['kappa']*d['r'])**2.+1)**0.5 - d['kappa']*d['r']\n",
    "    return [q,psi]\n",
    "\n",
    "\n",
    "def define_model(npoints):\n",
    "    m = macro_model(name='BruSan14_log_utility')\n",
    "\n",
    "    m.set_endog(['q','psi'],init=[1.05,0.5])\n",
    "    m.prices = ['q']\n",
    "    m.set_state(['e'])\n",
    "\n",
    "    m.params.add_parameter('sig',.1)\n",
    "    m.params.add_parameter('deltae',.05)\n",
    "    m.params.add_parameter('deltah',.05)\n",
    "    m.params.add_parameter('rho',.06)\n",
    "    m.params.add_parameter('r',.05)\n",
    "    m.params.add_parameter('ae',.11)\n",
    "    m.params.add_parameter('ah',.07)\n",
    "    m.params.add_parameter('kappa',2)\n",
    "\n",
    "    m.equation('iota = (q**2-1)/(2*kappa)')\n",
    "    m.equation('phi = 1/kappa*((1+2*kappa*iota)**0.5-1)')\n",
    "    m.equation('sigq = (((ae-ah)/q+deltah-deltae)/(psi/e-(1-psi)/(1-e)))**0.5 - sig',plot=True,latex=r'$\\sigma^q$')\n",
    "    m.equation('sige = (psi-e)/e*(sig+sigq)')\n",
    "    m.equation('mue = sige**2 + (ae-iota)/q + (1-psi)*(deltah-deltae)-rho')\n",
    "    m.equation('er = psi/e*(sig+sigq)**2',plot=True,latex=r'$E[dr_t^k-dr_t]/dt$')\n",
    "    m.equation('sigee = sige*e',plot=True,latex=r'$\\sigma^{\\eta} \\eta$')\n",
    "    m.equation('muee = mue*e',plot=True,latex=r'$\\mu^{\\eta} \\eta$')\n",
    "\n",
    "    m.endog_equation('q*(r*(1-e)+rho*e) - psi*ae - (1-psi)*ah + iota')\n",
    "    m.endog_equation('(psi-e)*d(q,e) - q*(1-sig/(sig+sigq))')\n",
    "\n",
    "    # consider the value function r(x)F(x,t)= u(x) +mu(x)F_x+sig(x)^2/2 F_xx + F_t\n",
    "    m.hjb_equation('mu','e','mue') # this sets mu(x) associated to e, using mue\n",
    "    m.hjb_equation('sig','e','sige') # this sets sig(x) associated to e, using sige\n",
    "\n",
    "    m.constraint('psi','<=',1,label='upper_psi')\n",
    "    m.constraint('psi','>=',0,label='lower_psi')\n",
    "\n",
    "    m.boundary_condition({'e':'min'},eta_minimum)\n",
    "\n",
    "    # s = system(['upper_psi'],m)\n",
    "    # s.equation('sigq = sig/(1-(psi-e)*d(q,e)/q) - sig')\n",
    "    # s.endog_equation('1 - psi')\n",
    "    # s.endog_equation('q*(r*(1-e)+rho*e) - ae + iota')\n",
    "\n",
    "    # m.systems.append(s)\n",
    "\n",
    "    m.options.ignore_HJB_loop = True # it seems that the HJB iteration is not used\n",
    "    m.options.import_guess = False\n",
    "    m.options.guess_function = init_fcn\n",
    "    m.options.inner_plot = False\n",
    "    m.options.outer_plot = False\n",
    "    m.options.final_plot = True\n",
    "    m.options.n0 = npoints\n",
    "    m.options.start0 = 0.0\n",
    "    m.options.end0 = 0.95\n",
    "    m.options.inner_solver = 'least_squares'\n",
    "    m.options.derivative_plotting = [('q','e')]\n",
    "    m.options.min_iter_outer_static = 5\n",
    "    m.options.min_iter_inner_static = 0\n",
    "    m.options.max_iter_outer_static = 50\n",
    "    m.options.return_solution = True\n",
    "    m.options.save_solution = False\n",
    "    m.options.price_derivative_method = 'backward'\n",
    "\n",
    "    return m\n",
    "\n",
    "npoints = 100\n",
    "tic = time.time()\n",
    "m = define_model(npoints)\n",
    "df = m.run()\n",
    "toc = time.time()\n",
    "print('elapsed time: {}'.format(toc-tic))"
   ]
  },
  {
   "cell_type": "markdown",
   "metadata": {},
   "source": [
    "![result_plot](pymacrofinsol.png)"
   ]
  },
  {
   "cell_type": "code",
   "execution_count": 1,
   "metadata": {},
   "outputs": [],
   "source": [
    "import os\n",
    "import numpy as np\n",
    "import torch\n",
    "import matplotlib.pyplot as plt\n",
    "from deepMacroFin import PDEModel\n",
    "from deepMacroFin import ActivationType, Comparator, EndogVar, EndogVarConditions, EndogEquation"
   ]
  },
  {
   "cell_type": "code",
   "execution_count": 2,
   "metadata": {},
   "outputs": [
    {
     "name": "stdout",
     "output_type": "stream",
     "text": [
      "=====================Summary of Model BruSan14_log_utility======================\n",
      "Config: {\n",
      " \"batch_size\": 100,\n",
      " \"num_epochs\": 2000,\n",
      " \"lr\": 0.001\n",
      "}\n",
      "Latex Variable Mapping:\n",
      "{}\n",
      "User Defined Parameters:\n",
      "{\n",
      " \"sig\": 0.1,\n",
      " \"deltae\": 0.05,\n",
      " \"deltah\": 0.05,\n",
      " \"rho\": 0.06,\n",
      " \"r\": 0.05,\n",
      " \"ae\": 0.11,\n",
      " \"ah\": 0.07,\n",
      " \"kappa\": 2\n",
      "}\n",
      "\n",
      "================================State Variables=================================\n",
      "e: [0.0, 1.0]\n",
      "\n",
      "=====================================Agents=====================================\n",
      "\n",
      "================================Agent Conditions================================\n",
      "\n",
      "==============================Endogenous Variables==============================\n",
      "Endogenous Variable Name: q\n",
      "EndogVar(\n",
      "  (model): Sequential(\n",
      "    (linear_0): Linear(in_features=1, out_features=30, bias=True)\n",
      "    (activation_0): Tanh()\n",
      "    (linear_1): Linear(in_features=30, out_features=30, bias=True)\n",
      "    (activation_1): Tanh()\n",
      "    (linear_2): Linear(in_features=30, out_features=30, bias=True)\n",
      "    (activation_2): Tanh()\n",
      "    (linear_3): Linear(in_features=30, out_features=30, bias=True)\n",
      "    (activation_3): Tanh()\n",
      "    (final_layer): Linear(in_features=30, out_features=1, bias=True)\n",
      "  )\n",
      ")\n",
      "Num parameters: 2881\n",
      "--------------------------------------------------------------------------------\n",
      "Endogenous Variable Name: psi\n",
      "EndogVar(\n",
      "  (model): Sequential(\n",
      "    (linear_0): Linear(in_features=1, out_features=30, bias=True)\n",
      "    (activation_0): Tanh()\n",
      "    (linear_1): Linear(in_features=30, out_features=30, bias=True)\n",
      "    (activation_1): Tanh()\n",
      "    (linear_2): Linear(in_features=30, out_features=30, bias=True)\n",
      "    (activation_2): Tanh()\n",
      "    (linear_3): Linear(in_features=30, out_features=30, bias=True)\n",
      "    (activation_3): Tanh()\n",
      "    (final_layer): Linear(in_features=30, out_features=1, bias=True)\n",
      "  )\n",
      ")\n",
      "Num parameters: 2881\n",
      "--------------------------------------------------------------------------------\n",
      "\n",
      "========================Endogenous Variables Conditions=========================\n",
      "endogvar_q_cond_q_min: q(SV)=(2*ah*kappa + (kappa*r)**2 + 1)**0.5 - kappa*r with LHS evaluated at SV=[[0.0]] and RHS evaluated at e=[[0.0], [0.0], [0.0], [0.0], [0.0], [0.0], [0.0], [0.0], [0.0], [0.0], [0.0], [0.0], [0.0], [0.0], [0.0], [0.0], [0.0], [0.0], [0.0], [0.0], [0.0], [0.0], [0.0], [0.0], [0.0], [0.0], [0.0], [0.0], [0.0], [0.0], [0.0], [0.0], [0.0], [0.0], [0.0], [0.0], [0.0], [0.0], [0.0], [0.0], [0.0], [0.0], [0.0], [0.0], [0.0], [0.0], [0.0], [0.0], [0.0], [0.0], [0.0], [0.0], [0.0], [0.0], [0.0], [0.0], [0.0], [0.0], [0.0], [0.0], [0.0], [0.0], [0.0], [0.0], [0.0], [0.0], [0.0], [0.0], [0.0], [0.0], [0.0], [0.0], [0.0], [0.0], [0.0], [0.0], [0.0], [0.0], [0.0], [0.0], [0.0], [0.0], [0.0], [0.0], [0.0], [0.0], [0.0], [0.0], [0.0], [0.0], [0.0], [0.0], [0.0], [0.0], [0.0], [0.0], [0.0], [0.0], [0.0], [0.0]]q=[[0.0], [0.0], [0.0], [0.0], [0.0], [0.0], [0.0], [0.0], [0.0], [0.0], [0.0], [0.0], [0.0], [0.0], [0.0], [0.0], [0.0], [0.0], [0.0], [0.0], [0.0], [0.0], [0.0], [0.0], [0.0], [0.0], [0.0], [0.0], [0.0], [0.0], [0.0], [0.0], [0.0], [0.0], [0.0], [0.0], [0.0], [0.0], [0.0], [0.0], [0.0], [0.0], [0.0], [0.0], [0.0], [0.0], [0.0], [0.0], [0.0], [0.0], [0.0], [0.0], [0.0], [0.0], [0.0], [0.0], [0.0], [0.0], [0.0], [0.0], [0.0], [0.0], [0.0], [0.0], [0.0], [0.0], [0.0], [0.0], [0.0], [0.0], [0.0], [0.0], [0.0], [0.0], [0.0], [0.0], [0.0], [0.0], [0.0], [0.0], [0.0], [0.0], [0.0], [0.0], [0.0], [0.0], [0.0], [0.0], [0.0], [0.0], [0.0], [0.0], [0.0], [0.0], [0.0], [0.0], [0.0], [0.0], [0.0], [0.0]]q_e=[[0.0], [0.0], [0.0], [0.0], [0.0], [0.0], [0.0], [0.0], [0.0], [0.0], [0.0], [0.0], [0.0], [0.0], [0.0], [0.0], [0.0], [0.0], [0.0], [0.0], [0.0], [0.0], [0.0], [0.0], [0.0], [0.0], [0.0], [0.0], [0.0], [0.0], [0.0], [0.0], [0.0], [0.0], [0.0], [0.0], [0.0], [0.0], [0.0], [0.0], [0.0], [0.0], [0.0], [0.0], [0.0], [0.0], [0.0], [0.0], [0.0], [0.0], [0.0], [0.0], [0.0], [0.0], [0.0], [0.0], [0.0], [0.0], [0.0], [0.0], [0.0], [0.0], [0.0], [0.0], [0.0], [0.0], [0.0], [0.0], [0.0], [0.0], [0.0], [0.0], [0.0], [0.0], [0.0], [0.0], [0.0], [0.0], [0.0], [0.0], [0.0], [0.0], [0.0], [0.0], [0.0], [0.0], [0.0], [0.0], [0.0], [0.0], [0.0], [0.0], [0.0], [0.0], [0.0], [0.0], [0.0], [0.0], [0.0], [0.0]]q_ee=[[0.0], [0.0], [0.0], [0.0], [0.0], [0.0], [0.0], [0.0], [0.0], [0.0], [0.0], [0.0], [0.0], [0.0], [0.0], [0.0], [0.0], [0.0], [0.0], [0.0], [0.0], [0.0], [0.0], [0.0], [0.0], [0.0], [0.0], [0.0], [0.0], [0.0], [0.0], [0.0], [0.0], [0.0], [0.0], [0.0], [0.0], [0.0], [0.0], [0.0], [0.0], [0.0], [0.0], [0.0], [0.0], [0.0], [0.0], [0.0], [0.0], [0.0], [0.0], [0.0], [0.0], [0.0], [0.0], [0.0], [0.0], [0.0], [0.0], [0.0], [0.0], [0.0], [0.0], [0.0], [0.0], [0.0], [0.0], [0.0], [0.0], [0.0], [0.0], [0.0], [0.0], [0.0], [0.0], [0.0], [0.0], [0.0], [0.0], [0.0], [0.0], [0.0], [0.0], [0.0], [0.0], [0.0], [0.0], [0.0], [0.0], [0.0], [0.0], [0.0], [0.0], [0.0], [0.0], [0.0], [0.0], [0.0], [0.0], [0.0]]psi=[[0.0], [0.0], [0.0], [0.0], [0.0], [0.0], [0.0], [0.0], [0.0], [0.0], [0.0], [0.0], [0.0], [0.0], [0.0], [0.0], [0.0], [0.0], [0.0], [0.0], [0.0], [0.0], [0.0], [0.0], [0.0], [0.0], [0.0], [0.0], [0.0], [0.0], [0.0], [0.0], [0.0], [0.0], [0.0], [0.0], [0.0], [0.0], [0.0], [0.0], [0.0], [0.0], [0.0], [0.0], [0.0], [0.0], [0.0], [0.0], [0.0], [0.0], [0.0], [0.0], [0.0], [0.0], [0.0], [0.0], [0.0], [0.0], [0.0], [0.0], [0.0], [0.0], [0.0], [0.0], [0.0], [0.0], [0.0], [0.0], [0.0], [0.0], [0.0], [0.0], [0.0], [0.0], [0.0], [0.0], [0.0], [0.0], [0.0], [0.0], [0.0], [0.0], [0.0], [0.0], [0.0], [0.0], [0.0], [0.0], [0.0], [0.0], [0.0], [0.0], [0.0], [0.0], [0.0], [0.0], [0.0], [0.0], [0.0], [0.0]]psi_e=[[0.0], [0.0], [0.0], [0.0], [0.0], [0.0], [0.0], [0.0], [0.0], [0.0], [0.0], [0.0], [0.0], [0.0], [0.0], [0.0], [0.0], [0.0], [0.0], [0.0], [0.0], [0.0], [0.0], [0.0], [0.0], [0.0], [0.0], [0.0], [0.0], [0.0], [0.0], [0.0], [0.0], [0.0], [0.0], [0.0], [0.0], [0.0], [0.0], [0.0], [0.0], [0.0], [0.0], [0.0], [0.0], [0.0], [0.0], [0.0], [0.0], [0.0], [0.0], [0.0], [0.0], [0.0], [0.0], [0.0], [0.0], [0.0], [0.0], [0.0], [0.0], [0.0], [0.0], [0.0], [0.0], [0.0], [0.0], [0.0], [0.0], [0.0], [0.0], [0.0], [0.0], [0.0], [0.0], [0.0], [0.0], [0.0], [0.0], [0.0], [0.0], [0.0], [0.0], [0.0], [0.0], [0.0], [0.0], [0.0], [0.0], [0.0], [0.0], [0.0], [0.0], [0.0], [0.0], [0.0], [0.0], [0.0], [0.0], [0.0]]psi_ee=[[0.0], [0.0], [0.0], [0.0], [0.0], [0.0], [0.0], [0.0], [0.0], [0.0], [0.0], [0.0], [0.0], [0.0], [0.0], [0.0], [0.0], [0.0], [0.0], [0.0], [0.0], [0.0], [0.0], [0.0], [0.0], [0.0], [0.0], [0.0], [0.0], [0.0], [0.0], [0.0], [0.0], [0.0], [0.0], [0.0], [0.0], [0.0], [0.0], [0.0], [0.0], [0.0], [0.0], [0.0], [0.0], [0.0], [0.0], [0.0], [0.0], [0.0], [0.0], [0.0], [0.0], [0.0], [0.0], [0.0], [0.0], [0.0], [0.0], [0.0], [0.0], [0.0], [0.0], [0.0], [0.0], [0.0], [0.0], [0.0], [0.0], [0.0], [0.0], [0.0], [0.0], [0.0], [0.0], [0.0], [0.0], [0.0], [0.0], [0.0], [0.0], [0.0], [0.0], [0.0], [0.0], [0.0], [0.0], [0.0], [0.0], [0.0], [0.0], [0.0], [0.0], [0.0], [0.0], [0.0], [0.0], [0.0], [0.0], [0.0]]sig=0.1deltae=0.05deltah=0.05rho=0.06r=0.05ae=0.11ah=0.07kappa=2iota=[[0.0], [0.0], [0.0], [0.0], [0.0], [0.0], [0.0], [0.0], [0.0], [0.0], [0.0], [0.0], [0.0], [0.0], [0.0], [0.0], [0.0], [0.0], [0.0], [0.0], [0.0], [0.0], [0.0], [0.0], [0.0], [0.0], [0.0], [0.0], [0.0], [0.0], [0.0], [0.0], [0.0], [0.0], [0.0], [0.0], [0.0], [0.0], [0.0], [0.0], [0.0], [0.0], [0.0], [0.0], [0.0], [0.0], [0.0], [0.0], [0.0], [0.0], [0.0], [0.0], [0.0], [0.0], [0.0], [0.0], [0.0], [0.0], [0.0], [0.0], [0.0], [0.0], [0.0], [0.0], [0.0], [0.0], [0.0], [0.0], [0.0], [0.0], [0.0], [0.0], [0.0], [0.0], [0.0], [0.0], [0.0], [0.0], [0.0], [0.0], [0.0], [0.0], [0.0], [0.0], [0.0], [0.0], [0.0], [0.0], [0.0], [0.0], [0.0], [0.0], [0.0], [0.0], [0.0], [0.0], [0.0], [0.0], [0.0], [0.0]]phi=[[0.0], [0.0], [0.0], [0.0], [0.0], [0.0], [0.0], [0.0], [0.0], [0.0], [0.0], [0.0], [0.0], [0.0], [0.0], [0.0], [0.0], [0.0], [0.0], [0.0], [0.0], [0.0], [0.0], [0.0], [0.0], [0.0], [0.0], [0.0], [0.0], [0.0], [0.0], [0.0], [0.0], [0.0], [0.0], [0.0], [0.0], [0.0], [0.0], [0.0], [0.0], [0.0], [0.0], [0.0], [0.0], [0.0], [0.0], [0.0], [0.0], [0.0], [0.0], [0.0], [0.0], [0.0], [0.0], [0.0], [0.0], [0.0], [0.0], [0.0], [0.0], [0.0], [0.0], [0.0], [0.0], [0.0], [0.0], [0.0], [0.0], [0.0], [0.0], [0.0], [0.0], [0.0], [0.0], [0.0], [0.0], [0.0], [0.0], [0.0], [0.0], [0.0], [0.0], [0.0], [0.0], [0.0], [0.0], [0.0], [0.0], [0.0], [0.0], [0.0], [0.0], [0.0], [0.0], [0.0], [0.0], [0.0], [0.0], [0.0]]sigq=[[0.0], [0.0], [0.0], [0.0], [0.0], [0.0], [0.0], [0.0], [0.0], [0.0], [0.0], [0.0], [0.0], [0.0], [0.0], [0.0], [0.0], [0.0], [0.0], [0.0], [0.0], [0.0], [0.0], [0.0], [0.0], [0.0], [0.0], [0.0], [0.0], [0.0], [0.0], [0.0], [0.0], [0.0], [0.0], [0.0], [0.0], [0.0], [0.0], [0.0], [0.0], [0.0], [0.0], [0.0], [0.0], [0.0], [0.0], [0.0], [0.0], [0.0], [0.0], [0.0], [0.0], [0.0], [0.0], [0.0], [0.0], [0.0], [0.0], [0.0], [0.0], [0.0], [0.0], [0.0], [0.0], [0.0], [0.0], [0.0], [0.0], [0.0], [0.0], [0.0], [0.0], [0.0], [0.0], [0.0], [0.0], [0.0], [0.0], [0.0], [0.0], [0.0], [0.0], [0.0], [0.0], [0.0], [0.0], [0.0], [0.0], [0.0], [0.0], [0.0], [0.0], [0.0], [0.0], [0.0], [0.0], [0.0], [0.0], [0.0]]sige=[[0.0], [0.0], [0.0], [0.0], [0.0], [0.0], [0.0], [0.0], [0.0], [0.0], [0.0], [0.0], [0.0], [0.0], [0.0], [0.0], [0.0], [0.0], [0.0], [0.0], [0.0], [0.0], [0.0], [0.0], [0.0], [0.0], [0.0], [0.0], [0.0], [0.0], [0.0], [0.0], [0.0], [0.0], [0.0], [0.0], [0.0], [0.0], [0.0], [0.0], [0.0], [0.0], [0.0], [0.0], [0.0], [0.0], [0.0], [0.0], [0.0], [0.0], [0.0], [0.0], [0.0], [0.0], [0.0], [0.0], [0.0], [0.0], [0.0], [0.0], [0.0], [0.0], [0.0], [0.0], [0.0], [0.0], [0.0], [0.0], [0.0], [0.0], [0.0], [0.0], [0.0], [0.0], [0.0], [0.0], [0.0], [0.0], [0.0], [0.0], [0.0], [0.0], [0.0], [0.0], [0.0], [0.0], [0.0], [0.0], [0.0], [0.0], [0.0], [0.0], [0.0], [0.0], [0.0], [0.0], [0.0], [0.0], [0.0], [0.0]]mue=[[0.0], [0.0], [0.0], [0.0], [0.0], [0.0], [0.0], [0.0], [0.0], [0.0], [0.0], [0.0], [0.0], [0.0], [0.0], [0.0], [0.0], [0.0], [0.0], [0.0], [0.0], [0.0], [0.0], [0.0], [0.0], [0.0], [0.0], [0.0], [0.0], [0.0], [0.0], [0.0], [0.0], [0.0], [0.0], [0.0], [0.0], [0.0], [0.0], [0.0], [0.0], [0.0], [0.0], [0.0], [0.0], [0.0], [0.0], [0.0], [0.0], [0.0], [0.0], [0.0], [0.0], [0.0], [0.0], [0.0], [0.0], [0.0], [0.0], [0.0], [0.0], [0.0], [0.0], [0.0], [0.0], [0.0], [0.0], [0.0], [0.0], [0.0], [0.0], [0.0], [0.0], [0.0], [0.0], [0.0], [0.0], [0.0], [0.0], [0.0], [0.0], [0.0], [0.0], [0.0], [0.0], [0.0], [0.0], [0.0], [0.0], [0.0], [0.0], [0.0], [0.0], [0.0], [0.0], [0.0], [0.0], [0.0], [0.0], [0.0]]er=[[0.0], [0.0], [0.0], [0.0], [0.0], [0.0], [0.0], [0.0], [0.0], [0.0], [0.0], [0.0], [0.0], [0.0], [0.0], [0.0], [0.0], [0.0], [0.0], [0.0], [0.0], [0.0], [0.0], [0.0], [0.0], [0.0], [0.0], [0.0], [0.0], [0.0], [0.0], [0.0], [0.0], [0.0], [0.0], [0.0], [0.0], [0.0], [0.0], [0.0], [0.0], [0.0], [0.0], [0.0], [0.0], [0.0], [0.0], [0.0], [0.0], [0.0], [0.0], [0.0], [0.0], [0.0], [0.0], [0.0], [0.0], [0.0], [0.0], [0.0], [0.0], [0.0], [0.0], [0.0], [0.0], [0.0], [0.0], [0.0], [0.0], [0.0], [0.0], [0.0], [0.0], [0.0], [0.0], [0.0], [0.0], [0.0], [0.0], [0.0], [0.0], [0.0], [0.0], [0.0], [0.0], [0.0], [0.0], [0.0], [0.0], [0.0], [0.0], [0.0], [0.0], [0.0], [0.0], [0.0], [0.0], [0.0], [0.0], [0.0]]sigee=[[0.0], [0.0], [0.0], [0.0], [0.0], [0.0], [0.0], [0.0], [0.0], [0.0], [0.0], [0.0], [0.0], [0.0], [0.0], [0.0], [0.0], [0.0], [0.0], [0.0], [0.0], [0.0], [0.0], [0.0], [0.0], [0.0], [0.0], [0.0], [0.0], [0.0], [0.0], [0.0], [0.0], [0.0], [0.0], [0.0], [0.0], [0.0], [0.0], [0.0], [0.0], [0.0], [0.0], [0.0], [0.0], [0.0], [0.0], [0.0], [0.0], [0.0], [0.0], [0.0], [0.0], [0.0], [0.0], [0.0], [0.0], [0.0], [0.0], [0.0], [0.0], [0.0], [0.0], [0.0], [0.0], [0.0], [0.0], [0.0], [0.0], [0.0], [0.0], [0.0], [0.0], [0.0], [0.0], [0.0], [0.0], [0.0], [0.0], [0.0], [0.0], [0.0], [0.0], [0.0], [0.0], [0.0], [0.0], [0.0], [0.0], [0.0], [0.0], [0.0], [0.0], [0.0], [0.0], [0.0], [0.0], [0.0], [0.0], [0.0]]muee=[[0.0], [0.0], [0.0], [0.0], [0.0], [0.0], [0.0], [0.0], [0.0], [0.0], [0.0], [0.0], [0.0], [0.0], [0.0], [0.0], [0.0], [0.0], [0.0], [0.0], [0.0], [0.0], [0.0], [0.0], [0.0], [0.0], [0.0], [0.0], [0.0], [0.0], [0.0], [0.0], [0.0], [0.0], [0.0], [0.0], [0.0], [0.0], [0.0], [0.0], [0.0], [0.0], [0.0], [0.0], [0.0], [0.0], [0.0], [0.0], [0.0], [0.0], [0.0], [0.0], [0.0], [0.0], [0.0], [0.0], [0.0], [0.0], [0.0], [0.0], [0.0], [0.0], [0.0], [0.0], [0.0], [0.0], [0.0], [0.0], [0.0], [0.0], [0.0], [0.0], [0.0], [0.0], [0.0], [0.0], [0.0], [0.0], [0.0], [0.0], [0.0], [0.0], [0.0], [0.0], [0.0], [0.0], [0.0], [0.0], [0.0], [0.0], [0.0], [0.0], [0.0], [0.0], [0.0], [0.0], [0.0], [0.0], [0.0], [0.0]]\n",
      "Loss weight: 1.0\n",
      "--------------------------------------------------------------------------------\n",
      "endogvar_psi_cond_psi_min: psi(SV)=0 with LHS evaluated at SV=[[0.0]]\n",
      "Loss weight: 1.0\n",
      "--------------------------------------------------------------------------------\n",
      "\n",
      "===================================Equations====================================\n",
      "eq_1: \n",
      "Raw input: iota = (q**2-1)/(2*kappa)\n",
      "Parsed: iota=(q**2-1)/(2*kappa)\n",
      "eq_2: \n",
      "Raw input: phi = 1/kappa*((1+2*kappa*iota)**0.5-1)\n",
      "Parsed: phi=1/kappa*((1+2*kappa*iota)**0.5-1)\n",
      "eq_3: \n",
      "Raw input: sigq = (((ae-ah)/q+deltah-deltae)/(psi/e-(1-psi)/(1-e)))**0.5 - sig\n",
      "Parsed: sigq=(((ae-ah)/q+deltah-deltae)/(psi/e-(1-psi)/(1-e)))**0.5 - sig\n",
      "eq_4: \n",
      "Raw input: sige = (psi-e)/e*(sig+sigq)\n",
      "Parsed: sige=(psi-e)/e*(sig+sigq)\n",
      "eq_5: \n",
      "Raw input: mue = sige**2 + (ae-iota)/q + (1-psi)*(deltah-deltae)-rho\n",
      "Parsed: mue=sige**2 + (ae-iota)/q + (1-psi)*(deltah-deltae)-rho\n",
      "eq_6: \n",
      "Raw input: er = psi/e*(sig+sigq)**2\n",
      "Parsed: er=psi/e*(sig+sigq)**2\n",
      "eq_7: \n",
      "Raw input: sigee = sige*e\n",
      "Parsed: sigee=sige*e\n",
      "eq_8: \n",
      "Raw input: muee = mue*e\n",
      "Parsed: muee=mue*e\n",
      "\n",
      "==============================Endogenous Equations==============================\n",
      "endogeq_1: \n",
      "Raw input: q*(r*(1-e)+rho*e) - psi*ae - (1-psi)*ah + iota=0\n",
      "Parsed: q*(r*(1-e)+rho*e) - psi*ae - (1-psi)*ah + iota=0\n",
      "Loss weight: 1.0\n",
      "--------------------------------------------------------------------------------\n",
      "endogeq_2: \n",
      "Raw input: (psi-e)*q_e - q*(1-sig/(sig+sigq))=0\n",
      "Parsed: (psi-e)*q_e - q*(1-sig/(sig+sigq))=0\n",
      "Loss weight: 1.0\n",
      "--------------------------------------------------------------------------------\n",
      "\n",
      "==================================Constraints===================================\n",
      "constraint_1: psi>=0\n",
      "Loss weight: 1.0\n",
      "--------------------------------------------------------------------------------\n",
      "constraint_2: psi<=1\n",
      "Loss weight: 1.0\n",
      "--------------------------------------------------------------------------------\n",
      "\n",
      "=================================HJB Equations==================================\n",
      "\n",
      "====================================Systems=====================================\n",
      "\n",
      "\n",
      "====================================Training====================================\n"
     ]
    },
    {
     "name": "stderr",
     "output_type": "stream",
     "text": [
      "Total loss: 0.0002: 100%|██████████| 2000/2000 [00:19<00:00, 100.65it/s]"
     ]
    },
    {
     "name": "stdout",
     "output_type": "stream",
     "text": [
      "training finished, total time :: 19.87090039253235\n",
      "Model saved to ./models/pymacrofin_1d.pt\n",
      "===================================Evaluating===================================\n",
      "loss :: endogvar_q_cond_q_min: 0.0000,\n",
      "endogvar_psi_cond_psi_min: 0.0000,\n",
      "endogeq_1: 0.0002,\n",
      "endogeq_2: 0.0000,\n",
      "constraint_1: 0.0000,\n",
      "constraint_2: 0.0000,\n",
      "total_loss: 0.0002\n"
     ]
    },
    {
     "name": "stderr",
     "output_type": "stream",
     "text": [
      "\n"
     ]
    }
   ],
   "source": [
    "pde_model = PDEModel(\"BruSan14_log_utility\", {\"num_epochs\": 2000})\n",
    "pde_model.set_state([\"e\"], {\"e\": [0., 1.]})\n",
    "pde_model.add_endogs([\"q\", \"psi\"])\n",
    "pde_model.add_params({\n",
    "    \"sig\": .1,\n",
    "    \"deltae\": .05,\n",
    "    \"deltah\": .05,\n",
    "    \"rho\": .06,\n",
    "    \"r\": .05,\n",
    "    \"ae\": .11,\n",
    "    \"ah\": .07,\n",
    "    \"kappa\": 2,\n",
    "})\n",
    "pde_model.add_endog_condition(\"q\", \n",
    "                              \"q(SV)\", {\"SV\": torch.zeros((1, 1))},\n",
    "                              Comparator.EQ,\n",
    "                              \"(2*ah*kappa + (kappa*r)**2 + 1)**0.5 - kappa*r\", pde_model.variable_val_dict,\n",
    "                              label=\"q_min\")\n",
    "pde_model.add_endog_condition(\"psi\", \n",
    "                              \"psi(SV)\", {\"SV\": torch.zeros((1, 1))},\n",
    "                              Comparator.EQ,\n",
    "                              \"0\", {},\n",
    "                              label=\"psi_min\")\n",
    "pde_model.add_equation(\"iota = (q**2-1)/(2*kappa)\")\n",
    "pde_model.add_equation(\"phi = 1/kappa*((1+2*kappa*iota)**0.5-1)\")\n",
    "pde_model.add_equation(\"sigq = (((ae-ah)/q+deltah-deltae)/(psi/e-(1-psi)/(1-e)))**0.5 - sig\")\n",
    "pde_model.add_equation(\"sige = (psi-e)/e*(sig+sigq)\")\n",
    "pde_model.add_equation(\"mue = sige**2 + (ae-iota)/q + (1-psi)*(deltah-deltae)-rho\")\n",
    "pde_model.add_equation(\"er = psi/e*(sig+sigq)**2\")\n",
    "pde_model.add_equation(\"sigee = sige*e\")\n",
    "pde_model.add_equation(\"muee = mue*e\")\n",
    "pde_model.add_endog_equation(\"q*(r*(1-e)+rho*e) - psi*ae - (1-psi)*ah + iota=0\")\n",
    "pde_model.add_endog_equation(\"(psi-e)*q_e - q*(1-sig/(sig+sigq))=0\")\n",
    "pde_model.add_constraint(\"psi\", Comparator.GEQ, \"0\")\n",
    "pde_model.add_constraint(\"psi\", Comparator.LEQ, \"1\")\n",
    "\n",
    "print(pde_model)\n",
    "if not os.path.exists(\"./models/pymacrofin_1d.pt\"):\n",
    "    pde_model.train_model(\"./models\", \"pymacrofin_1d.pt\", True)\n",
    "    pde_model.eval_model(True)\n",
    "else:\n",
    "    pde_model.load_model(torch.load(\"./models/pymacrofin_1d.pt\"))\n",
    "    pde_model.eval_model(True)"
   ]
  },
  {
   "cell_type": "code",
   "execution_count": 3,
   "metadata": {},
   "outputs": [
    {
     "data": {
      "image/png": "[encoded data removed]",
      "text/plain": [
       "<Figure size 1200x600 with 2 Axes>"
      ]
     },
     "metadata": {},
     "output_type": "display_data"
    }
   ],
   "source": [
    "fig, ax = plt.subplots(1, 2, figsize=(12, 6))\n",
    "e = np.linspace(0, 1)\n",
    "# ax[0].plot(x, (1 + 2 * x) * np.exp(-2*x), label=\"(1+2x)e^{-2x}\")\n",
    "# ax[1].plot(x, -4 * x * np.exp(-2*x), label=\"-4xe^{-2x}\")\n",
    "# ax[2].plot(x, (-4 + 8 * x) * np.exp(-2*x), label=\"(-4+8x)e^{-2x}\")\n",
    "pde_model.endog_vars[\"q\"].plot(\"q\", {\"e\": [0, 1]}, ax=ax[0])\n",
    "pde_model.endog_vars[\"psi\"].plot(\"psi\", {\"e\": [0, 1]}, ax=ax[1])\n",
    "plt.subplots_adjust()\n",
    "plt.show()"
   ]
  },
  {
   "cell_type": "code",
   "execution_count": null,
   "metadata": {},
   "outputs": [],
   "source": []
  }
 ],
 "metadata": {
  "kernelspec": {
   "display_name": "venv",
   "language": "python",
   "name": "python3"
  },
  "language_info": {
   "codemirror_mode": {
    "name": "ipython",
    "version": 3
   },
   "file_extension": ".py",
   "mimetype": "text/x-python",
   "name": "python",
   "nbconvert_exporter": "python",
   "pygments_lexer": "ipython3",
   "version": "3.11.5"
  }
 },
 "nbformat": 4,
 "nbformat_minor": 2
}

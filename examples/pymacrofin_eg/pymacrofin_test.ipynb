{
 "cells": [
  {
   "cell_type": "markdown",
   "metadata": {},
   "source": [
    "## PyMacroFin Example 1D"
   ]
  },
  {
   "cell_type": "code",
   "execution_count": 1,
   "metadata": {},
   "outputs": [
    {
     "name": "stdout",
     "output_type": "stream",
     "text": [
      "Constructing model...\n",
      "Model construction completed: 0.113 sec\n"
     ]
    },
    {
     "name": "stderr",
     "output_type": "stream",
     "text": [
      "d:\\UofT\\Research\\PDE-work\\continuous-time-eco-models\\venv\\Lib\\site-packages\\PyMacroFin\\utilities.py:27: FutureWarning:\n",
      "\n",
      "Setting an item of incompatible dtype is deprecated and will raise in a future error of pandas. Value 'b0_b1' has dtype incompatible with float64, please explicitly cast to a compatible dtype first.\n",
      "\n",
      "d:\\UofT\\Research\\PDE-work\\continuous-time-eco-models\\venv\\Lib\\site-packages\\PyMacroFin\\utilities.py:27: FutureWarning:\n",
      "\n",
      "Setting an item of incompatible dtype is deprecated and will raise in a future error of pandas. Value 'b0_b1' has dtype incompatible with float64, please explicitly cast to a compatible dtype first.\n",
      "\n",
      "d:\\UofT\\Research\\PDE-work\\continuous-time-eco-models\\venv\\Lib\\site-packages\\PyMacroFin\\utilities.py:27: FutureWarning:\n",
      "\n",
      "Setting an item of incompatible dtype is deprecated and will raise in a future error of pandas. Value 'b0_b1' has dtype incompatible with float64, please explicitly cast to a compatible dtype first.\n",
      "\n",
      "d:\\UofT\\Research\\PDE-work\\continuous-time-eco-models\\venv\\Lib\\site-packages\\PyMacroFin\\utilities.py:27: FutureWarning:\n",
      "\n",
      "Setting an item of incompatible dtype is deprecated and will raise in a future error of pandas. Value 'b0_b1' has dtype incompatible with float64, please explicitly cast to a compatible dtype first.\n",
      "\n",
      "d:\\UofT\\Research\\PDE-work\\continuous-time-eco-models\\venv\\Lib\\site-packages\\PyMacroFin\\utilities.py:27: FutureWarning:\n",
      "\n",
      "Setting an item of incompatible dtype is deprecated and will raise in a future error of pandas. Value 'b0_b1' has dtype incompatible with float64, please explicitly cast to a compatible dtype first.\n",
      "\n",
      "d:\\UofT\\Research\\PDE-work\\continuous-time-eco-models\\venv\\Lib\\site-packages\\PyMacroFin\\utilities.py:27: FutureWarning:\n",
      "\n",
      "Setting an item of incompatible dtype is deprecated and will raise in a future error of pandas. Value 'b0_b1' has dtype incompatible with float64, please explicitly cast to a compatible dtype first.\n",
      "\n",
      "d:\\UofT\\Research\\PDE-work\\continuous-time-eco-models\\venv\\Lib\\site-packages\\PyMacroFin\\utilities.py:27: FutureWarning:\n",
      "\n",
      "Setting an item of incompatible dtype is deprecated and will raise in a future error of pandas. Value 'b0_b1' has dtype incompatible with float64, please explicitly cast to a compatible dtype first.\n",
      "\n",
      "d:\\UofT\\Research\\PDE-work\\continuous-time-eco-models\\venv\\Lib\\site-packages\\PyMacroFin\\utilities.py:27: FutureWarning:\n",
      "\n",
      "Setting an item of incompatible dtype is deprecated and will raise in a future error of pandas. Value 'b0_b1' has dtype incompatible with float64, please explicitly cast to a compatible dtype first.\n",
      "\n",
      "d:\\UofT\\Research\\PDE-work\\continuous-time-eco-models\\venv\\Lib\\site-packages\\PyMacroFin\\utilities.py:27: FutureWarning:\n",
      "\n",
      "Setting an item of incompatible dtype is deprecated and will raise in a future error of pandas. Value 'b0_b1' has dtype incompatible with float64, please explicitly cast to a compatible dtype first.\n",
      "\n",
      "d:\\UofT\\Research\\PDE-work\\continuous-time-eco-models\\venv\\Lib\\site-packages\\PyMacroFin\\utilities.py:27: FutureWarning:\n",
      "\n",
      "Setting an item of incompatible dtype is deprecated and will raise in a future error of pandas. Value 'b0_b1' has dtype incompatible with float64, please explicitly cast to a compatible dtype first.\n",
      "\n",
      "d:\\UofT\\Research\\PDE-work\\continuous-time-eco-models\\venv\\Lib\\site-packages\\PyMacroFin\\utilities.py:27: FutureWarning:\n",
      "\n",
      "Setting an item of incompatible dtype is deprecated and will raise in a future error of pandas. Value 'b0_b1' has dtype incompatible with float64, please explicitly cast to a compatible dtype first.\n",
      "\n",
      "d:\\UofT\\Research\\PDE-work\\continuous-time-eco-models\\venv\\Lib\\site-packages\\PyMacroFin\\utilities.py:27: FutureWarning:\n",
      "\n",
      "Setting an item of incompatible dtype is deprecated and will raise in a future error of pandas. Value 'b0_b1' has dtype incompatible with float64, please explicitly cast to a compatible dtype first.\n",
      "\n",
      "d:\\UofT\\Research\\PDE-work\\continuous-time-eco-models\\venv\\Lib\\site-packages\\PyMacroFin\\utilities.py:27: FutureWarning:\n",
      "\n",
      "Setting an item of incompatible dtype is deprecated and will raise in a future error of pandas. Value 'b0_b1' has dtype incompatible with float64, please explicitly cast to a compatible dtype first.\n",
      "\n",
      "d:\\UofT\\Research\\PDE-work\\continuous-time-eco-models\\venv\\Lib\\site-packages\\PyMacroFin\\utilities.py:27: FutureWarning:\n",
      "\n",
      "Setting an item of incompatible dtype is deprecated and will raise in a future error of pandas. Value 'b0_b1' has dtype incompatible with float64, please explicitly cast to a compatible dtype first.\n",
      "\n",
      "d:\\UofT\\Research\\PDE-work\\continuous-time-eco-models\\venv\\Lib\\site-packages\\PyMacroFin\\utilities.py:27: FutureWarning:\n",
      "\n",
      "Setting an item of incompatible dtype is deprecated and will raise in a future error of pandas. Value 'b0_b1' has dtype incompatible with float64, please explicitly cast to a compatible dtype first.\n",
      "\n",
      "d:\\UofT\\Research\\PDE-work\\continuous-time-eco-models\\venv\\Lib\\site-packages\\PyMacroFin\\utilities.py:27: FutureWarning:\n",
      "\n",
      "Setting an item of incompatible dtype is deprecated and will raise in a future error of pandas. Value 'b0_b1' has dtype incompatible with float64, please explicitly cast to a compatible dtype first.\n",
      "\n",
      "d:\\UofT\\Research\\PDE-work\\continuous-time-eco-models\\venv\\Lib\\site-packages\\PyMacroFin\\utilities.py:27: FutureWarning:\n",
      "\n",
      "Setting an item of incompatible dtype is deprecated and will raise in a future error of pandas. Value 'b0_b1' has dtype incompatible with float64, please explicitly cast to a compatible dtype first.\n",
      "\n",
      "d:\\UofT\\Research\\PDE-work\\continuous-time-eco-models\\venv\\Lib\\site-packages\\PyMacroFin\\utilities.py:27: FutureWarning:\n",
      "\n",
      "Setting an item of incompatible dtype is deprecated and will raise in a future error of pandas. Value 'b0_b1' has dtype incompatible with float64, please explicitly cast to a compatible dtype first.\n",
      "\n",
      "d:\\UofT\\Research\\PDE-work\\continuous-time-eco-models\\venv\\Lib\\site-packages\\PyMacroFin\\utilities.py:27: FutureWarning:\n",
      "\n",
      "Setting an item of incompatible dtype is deprecated and will raise in a future error of pandas. Value 'b0_b1' has dtype incompatible with float64, please explicitly cast to a compatible dtype first.\n",
      "\n",
      "d:\\UofT\\Research\\PDE-work\\continuous-time-eco-models\\venv\\Lib\\site-packages\\PyMacroFin\\utilities.py:27: FutureWarning:\n",
      "\n",
      "Setting an item of incompatible dtype is deprecated and will raise in a future error of pandas. Value 'b0_b1' has dtype incompatible with float64, please explicitly cast to a compatible dtype first.\n",
      "\n",
      "d:\\UofT\\Research\\PDE-work\\continuous-time-eco-models\\venv\\Lib\\site-packages\\PyMacroFin\\utilities.py:27: FutureWarning:\n",
      "\n",
      "Setting an item of incompatible dtype is deprecated and will raise in a future error of pandas. Value 'b0_b1' has dtype incompatible with float64, please explicitly cast to a compatible dtype first.\n",
      "\n",
      "d:\\UofT\\Research\\PDE-work\\continuous-time-eco-models\\venv\\Lib\\site-packages\\PyMacroFin\\utilities.py:27: FutureWarning:\n",
      "\n",
      "Setting an item of incompatible dtype is deprecated and will raise in a future error of pandas. Value 'b0_b1' has dtype incompatible with float64, please explicitly cast to a compatible dtype first.\n",
      "\n",
      "d:\\UofT\\Research\\PDE-work\\continuous-time-eco-models\\venv\\Lib\\site-packages\\PyMacroFin\\utilities.py:27: FutureWarning:\n",
      "\n",
      "Setting an item of incompatible dtype is deprecated and will raise in a future error of pandas. Value 'b0_b1' has dtype incompatible with float64, please explicitly cast to a compatible dtype first.\n",
      "\n",
      "d:\\UofT\\Research\\PDE-work\\continuous-time-eco-models\\venv\\Lib\\site-packages\\PyMacroFin\\utilities.py:27: FutureWarning:\n",
      "\n",
      "Setting an item of incompatible dtype is deprecated and will raise in a future error of pandas. Value 'b0_b1' has dtype incompatible with float64, please explicitly cast to a compatible dtype first.\n",
      "\n",
      "d:\\UofT\\Research\\PDE-work\\continuous-time-eco-models\\venv\\Lib\\site-packages\\PyMacroFin\\utilities.py:27: FutureWarning:\n",
      "\n",
      "Setting an item of incompatible dtype is deprecated and will raise in a future error of pandas. Value 'b0_b1' has dtype incompatible with float64, please explicitly cast to a compatible dtype first.\n",
      "\n",
      "d:\\UofT\\Research\\PDE-work\\continuous-time-eco-models\\venv\\Lib\\site-packages\\PyMacroFin\\utilities.py:27: FutureWarning:\n",
      "\n",
      "Setting an item of incompatible dtype is deprecated and will raise in a future error of pandas. Value 'b0_b1' has dtype incompatible with float64, please explicitly cast to a compatible dtype first.\n",
      "\n",
      "d:\\UofT\\Research\\PDE-work\\continuous-time-eco-models\\venv\\Lib\\site-packages\\PyMacroFin\\utilities.py:27: FutureWarning:\n",
      "\n",
      "Setting an item of incompatible dtype is deprecated and will raise in a future error of pandas. Value 'b0_b1' has dtype incompatible with float64, please explicitly cast to a compatible dtype first.\n",
      "\n",
      "d:\\UofT\\Research\\PDE-work\\continuous-time-eco-models\\venv\\Lib\\site-packages\\PyMacroFin\\utilities.py:27: FutureWarning:\n",
      "\n",
      "Setting an item of incompatible dtype is deprecated and will raise in a future error of pandas. Value 'b0_b1' has dtype incompatible with float64, please explicitly cast to a compatible dtype first.\n",
      "\n",
      "d:\\UofT\\Research\\PDE-work\\continuous-time-eco-models\\venv\\Lib\\site-packages\\PyMacroFin\\utilities.py:27: FutureWarning:\n",
      "\n",
      "Setting an item of incompatible dtype is deprecated and will raise in a future error of pandas. Value 'b0_b1' has dtype incompatible with float64, please explicitly cast to a compatible dtype first.\n",
      "\n",
      "d:\\UofT\\Research\\PDE-work\\continuous-time-eco-models\\venv\\Lib\\site-packages\\PyMacroFin\\utilities.py:27: FutureWarning:\n",
      "\n",
      "Setting an item of incompatible dtype is deprecated and will raise in a future error of pandas. Value 'b0_b1' has dtype incompatible with float64, please explicitly cast to a compatible dtype first.\n",
      "\n",
      "d:\\UofT\\Research\\PDE-work\\continuous-time-eco-models\\venv\\Lib\\site-packages\\PyMacroFin\\utilities.py:27: FutureWarning:\n",
      "\n",
      "Setting an item of incompatible dtype is deprecated and will raise in a future error of pandas. Value 'b0_b1' has dtype incompatible with float64, please explicitly cast to a compatible dtype first.\n",
      "\n",
      "d:\\UofT\\Research\\PDE-work\\continuous-time-eco-models\\venv\\Lib\\site-packages\\PyMacroFin\\utilities.py:27: FutureWarning:\n",
      "\n",
      "Setting an item of incompatible dtype is deprecated and will raise in a future error of pandas. Value 'b0_b1' has dtype incompatible with float64, please explicitly cast to a compatible dtype first.\n",
      "\n",
      "d:\\UofT\\Research\\PDE-work\\continuous-time-eco-models\\venv\\Lib\\site-packages\\PyMacroFin\\utilities.py:27: FutureWarning:\n",
      "\n",
      "Setting an item of incompatible dtype is deprecated and will raise in a future error of pandas. Value 'b0_b1' has dtype incompatible with float64, please explicitly cast to a compatible dtype first.\n",
      "\n",
      "d:\\UofT\\Research\\PDE-work\\continuous-time-eco-models\\venv\\Lib\\site-packages\\PyMacroFin\\utilities.py:27: FutureWarning:\n",
      "\n",
      "Setting an item of incompatible dtype is deprecated and will raise in a future error of pandas. Value 'b0_b1' has dtype incompatible with float64, please explicitly cast to a compatible dtype first.\n",
      "\n",
      "d:\\UofT\\Research\\PDE-work\\continuous-time-eco-models\\venv\\Lib\\site-packages\\PyMacroFin\\utilities.py:27: FutureWarning:\n",
      "\n",
      "Setting an item of incompatible dtype is deprecated and will raise in a future error of pandas. Value 'b0_b1' has dtype incompatible with float64, please explicitly cast to a compatible dtype first.\n",
      "\n",
      "d:\\UofT\\Research\\PDE-work\\continuous-time-eco-models\\venv\\Lib\\site-packages\\PyMacroFin\\utilities.py:27: FutureWarning:\n",
      "\n",
      "Setting an item of incompatible dtype is deprecated and will raise in a future error of pandas. Value 'b0_b1' has dtype incompatible with float64, please explicitly cast to a compatible dtype first.\n",
      "\n",
      "d:\\UofT\\Research\\PDE-work\\continuous-time-eco-models\\venv\\Lib\\site-packages\\PyMacroFin\\utilities.py:27: FutureWarning:\n",
      "\n",
      "Setting an item of incompatible dtype is deprecated and will raise in a future error of pandas. Value 'b0_b1' has dtype incompatible with float64, please explicitly cast to a compatible dtype first.\n",
      "\n",
      "d:\\UofT\\Research\\PDE-work\\continuous-time-eco-models\\venv\\Lib\\site-packages\\PyMacroFin\\utilities.py:27: FutureWarning:\n",
      "\n",
      "Setting an item of incompatible dtype is deprecated and will raise in a future error of pandas. Value 'b0_b1' has dtype incompatible with float64, please explicitly cast to a compatible dtype first.\n",
      "\n",
      "d:\\UofT\\Research\\PDE-work\\continuous-time-eco-models\\venv\\Lib\\site-packages\\PyMacroFin\\utilities.py:27: FutureWarning:\n",
      "\n",
      "Setting an item of incompatible dtype is deprecated and will raise in a future error of pandas. Value 'b0_b1' has dtype incompatible with float64, please explicitly cast to a compatible dtype first.\n",
      "\n",
      "d:\\UofT\\Research\\PDE-work\\continuous-time-eco-models\\venv\\Lib\\site-packages\\PyMacroFin\\utilities.py:27: FutureWarning:\n",
      "\n",
      "Setting an item of incompatible dtype is deprecated and will raise in a future error of pandas. Value 'b0_b1' has dtype incompatible with float64, please explicitly cast to a compatible dtype first.\n",
      "\n",
      "d:\\UofT\\Research\\PDE-work\\continuous-time-eco-models\\venv\\Lib\\site-packages\\PyMacroFin\\utilities.py:27: FutureWarning:\n",
      "\n",
      "Setting an item of incompatible dtype is deprecated and will raise in a future error of pandas. Value 'b0_b1' has dtype incompatible with float64, please explicitly cast to a compatible dtype first.\n",
      "\n",
      "d:\\UofT\\Research\\PDE-work\\continuous-time-eco-models\\venv\\Lib\\site-packages\\PyMacroFin\\utilities.py:27: FutureWarning:\n",
      "\n",
      "Setting an item of incompatible dtype is deprecated and will raise in a future error of pandas. Value 'b0_b1' has dtype incompatible with float64, please explicitly cast to a compatible dtype first.\n",
      "\n",
      "d:\\UofT\\Research\\PDE-work\\continuous-time-eco-models\\venv\\Lib\\site-packages\\PyMacroFin\\utilities.py:27: FutureWarning:\n",
      "\n",
      "Setting an item of incompatible dtype is deprecated and will raise in a future error of pandas. Value 'b0_b1' has dtype incompatible with float64, please explicitly cast to a compatible dtype first.\n",
      "\n",
      "d:\\UofT\\Research\\PDE-work\\continuous-time-eco-models\\venv\\Lib\\site-packages\\PyMacroFin\\utilities.py:27: FutureWarning:\n",
      "\n",
      "Setting an item of incompatible dtype is deprecated and will raise in a future error of pandas. Value 'b0_b1' has dtype incompatible with float64, please explicitly cast to a compatible dtype first.\n",
      "\n",
      "d:\\UofT\\Research\\PDE-work\\continuous-time-eco-models\\venv\\Lib\\site-packages\\PyMacroFin\\utilities.py:27: FutureWarning:\n",
      "\n",
      "Setting an item of incompatible dtype is deprecated and will raise in a future error of pandas. Value 'b0_b1' has dtype incompatible with float64, please explicitly cast to a compatible dtype first.\n",
      "\n",
      "d:\\UofT\\Research\\PDE-work\\continuous-time-eco-models\\venv\\Lib\\site-packages\\PyMacroFin\\utilities.py:27: FutureWarning:\n",
      "\n",
      "Setting an item of incompatible dtype is deprecated and will raise in a future error of pandas. Value 'b0_b1' has dtype incompatible with float64, please explicitly cast to a compatible dtype first.\n",
      "\n",
      "d:\\UofT\\Research\\PDE-work\\continuous-time-eco-models\\venv\\Lib\\site-packages\\PyMacroFin\\utilities.py:27: FutureWarning:\n",
      "\n",
      "Setting an item of incompatible dtype is deprecated and will raise in a future error of pandas. Value 'b0_b1' has dtype incompatible with float64, please explicitly cast to a compatible dtype first.\n",
      "\n",
      "d:\\UofT\\Research\\PDE-work\\continuous-time-eco-models\\venv\\Lib\\site-packages\\PyMacroFin\\utilities.py:27: FutureWarning:\n",
      "\n",
      "Setting an item of incompatible dtype is deprecated and will raise in a future error of pandas. Value 'b0_b1' has dtype incompatible with float64, please explicitly cast to a compatible dtype first.\n",
      "\n",
      "d:\\UofT\\Research\\PDE-work\\continuous-time-eco-models\\venv\\Lib\\site-packages\\PyMacroFin\\utilities.py:27: FutureWarning:\n",
      "\n",
      "Setting an item of incompatible dtype is deprecated and will raise in a future error of pandas. Value 'b0_b1' has dtype incompatible with float64, please explicitly cast to a compatible dtype first.\n",
      "\n",
      "d:\\UofT\\Research\\PDE-work\\continuous-time-eco-models\\venv\\Lib\\site-packages\\PyMacroFin\\utilities.py:27: FutureWarning:\n",
      "\n",
      "Setting an item of incompatible dtype is deprecated and will raise in a future error of pandas. Value 'b0_b1' has dtype incompatible with float64, please explicitly cast to a compatible dtype first.\n",
      "\n",
      "d:\\UofT\\Research\\PDE-work\\continuous-time-eco-models\\venv\\Lib\\site-packages\\PyMacroFin\\utilities.py:27: FutureWarning:\n",
      "\n",
      "Setting an item of incompatible dtype is deprecated and will raise in a future error of pandas. Value 'b0_b1' has dtype incompatible with float64, please explicitly cast to a compatible dtype first.\n",
      "\n",
      "d:\\UofT\\Research\\PDE-work\\continuous-time-eco-models\\venv\\Lib\\site-packages\\PyMacroFin\\utilities.py:27: FutureWarning:\n",
      "\n",
      "Setting an item of incompatible dtype is deprecated and will raise in a future error of pandas. Value 'b0_b1' has dtype incompatible with float64, please explicitly cast to a compatible dtype first.\n",
      "\n",
      "d:\\UofT\\Research\\PDE-work\\continuous-time-eco-models\\venv\\Lib\\site-packages\\PyMacroFin\\utilities.py:27: FutureWarning:\n",
      "\n",
      "Setting an item of incompatible dtype is deprecated and will raise in a future error of pandas. Value 'b0_b1' has dtype incompatible with float64, please explicitly cast to a compatible dtype first.\n",
      "\n",
      "d:\\UofT\\Research\\PDE-work\\continuous-time-eco-models\\venv\\Lib\\site-packages\\PyMacroFin\\utilities.py:27: FutureWarning:\n",
      "\n",
      "Setting an item of incompatible dtype is deprecated and will raise in a future error of pandas. Value 'b0_b1' has dtype incompatible with float64, please explicitly cast to a compatible dtype first.\n",
      "\n",
      "d:\\UofT\\Research\\PDE-work\\continuous-time-eco-models\\venv\\Lib\\site-packages\\PyMacroFin\\utilities.py:27: FutureWarning:\n",
      "\n",
      "Setting an item of incompatible dtype is deprecated and will raise in a future error of pandas. Value 'b0_b1' has dtype incompatible with float64, please explicitly cast to a compatible dtype first.\n",
      "\n",
      "d:\\UofT\\Research\\PDE-work\\continuous-time-eco-models\\venv\\Lib\\site-packages\\PyMacroFin\\utilities.py:27: FutureWarning:\n",
      "\n",
      "Setting an item of incompatible dtype is deprecated and will raise in a future error of pandas. Value 'b0_b1' has dtype incompatible with float64, please explicitly cast to a compatible dtype first.\n",
      "\n",
      "d:\\UofT\\Research\\PDE-work\\continuous-time-eco-models\\venv\\Lib\\site-packages\\PyMacroFin\\utilities.py:27: FutureWarning:\n",
      "\n",
      "Setting an item of incompatible dtype is deprecated and will raise in a future error of pandas. Value 'b0_b1' has dtype incompatible with float64, please explicitly cast to a compatible dtype first.\n",
      "\n",
      "d:\\UofT\\Research\\PDE-work\\continuous-time-eco-models\\venv\\Lib\\site-packages\\PyMacroFin\\utilities.py:27: FutureWarning:\n",
      "\n",
      "Setting an item of incompatible dtype is deprecated and will raise in a future error of pandas. Value 'b0_b1' has dtype incompatible with float64, please explicitly cast to a compatible dtype first.\n",
      "\n",
      "d:\\UofT\\Research\\PDE-work\\continuous-time-eco-models\\venv\\Lib\\site-packages\\PyMacroFin\\utilities.py:27: FutureWarning:\n",
      "\n",
      "Setting an item of incompatible dtype is deprecated and will raise in a future error of pandas. Value 'b0_b1' has dtype incompatible with float64, please explicitly cast to a compatible dtype first.\n",
      "\n",
      "d:\\UofT\\Research\\PDE-work\\continuous-time-eco-models\\venv\\Lib\\site-packages\\PyMacroFin\\utilities.py:27: FutureWarning:\n",
      "\n",
      "Setting an item of incompatible dtype is deprecated and will raise in a future error of pandas. Value 'b0_b1' has dtype incompatible with float64, please explicitly cast to a compatible dtype first.\n",
      "\n",
      "d:\\UofT\\Research\\PDE-work\\continuous-time-eco-models\\venv\\Lib\\site-packages\\PyMacroFin\\utilities.py:27: FutureWarning:\n",
      "\n",
      "Setting an item of incompatible dtype is deprecated and will raise in a future error of pandas. Value 'b0_b1' has dtype incompatible with float64, please explicitly cast to a compatible dtype first.\n",
      "\n",
      "d:\\UofT\\Research\\PDE-work\\continuous-time-eco-models\\venv\\Lib\\site-packages\\PyMacroFin\\utilities.py:27: FutureWarning:\n",
      "\n",
      "Setting an item of incompatible dtype is deprecated and will raise in a future error of pandas. Value 'b0_b1' has dtype incompatible with float64, please explicitly cast to a compatible dtype first.\n",
      "\n",
      "d:\\UofT\\Research\\PDE-work\\continuous-time-eco-models\\venv\\Lib\\site-packages\\PyMacroFin\\utilities.py:27: FutureWarning:\n",
      "\n",
      "Setting an item of incompatible dtype is deprecated and will raise in a future error of pandas. Value 'b0_b1' has dtype incompatible with float64, please explicitly cast to a compatible dtype first.\n",
      "\n",
      "d:\\UofT\\Research\\PDE-work\\continuous-time-eco-models\\venv\\Lib\\site-packages\\PyMacroFin\\utilities.py:27: FutureWarning:\n",
      "\n",
      "Setting an item of incompatible dtype is deprecated and will raise in a future error of pandas. Value 'b0_b1' has dtype incompatible with float64, please explicitly cast to a compatible dtype first.\n",
      "\n",
      "d:\\UofT\\Research\\PDE-work\\continuous-time-eco-models\\venv\\Lib\\site-packages\\PyMacroFin\\utilities.py:27: FutureWarning:\n",
      "\n",
      "Setting an item of incompatible dtype is deprecated and will raise in a future error of pandas. Value 'b0_b1' has dtype incompatible with float64, please explicitly cast to a compatible dtype first.\n",
      "\n",
      "d:\\UofT\\Research\\PDE-work\\continuous-time-eco-models\\venv\\Lib\\site-packages\\PyMacroFin\\utilities.py:27: FutureWarning:\n",
      "\n",
      "Setting an item of incompatible dtype is deprecated and will raise in a future error of pandas. Value 'b0_b1' has dtype incompatible with float64, please explicitly cast to a compatible dtype first.\n",
      "\n",
      "d:\\UofT\\Research\\PDE-work\\continuous-time-eco-models\\venv\\Lib\\site-packages\\PyMacroFin\\utilities.py:27: FutureWarning:\n",
      "\n",
      "Setting an item of incompatible dtype is deprecated and will raise in a future error of pandas. Value 'b0_b1' has dtype incompatible with float64, please explicitly cast to a compatible dtype first.\n",
      "\n",
      "d:\\UofT\\Research\\PDE-work\\continuous-time-eco-models\\venv\\Lib\\site-packages\\PyMacroFin\\utilities.py:27: FutureWarning:\n",
      "\n",
      "Setting an item of incompatible dtype is deprecated and will raise in a future error of pandas. Value 'b0_b1' has dtype incompatible with float64, please explicitly cast to a compatible dtype first.\n",
      "\n",
      "d:\\UofT\\Research\\PDE-work\\continuous-time-eco-models\\venv\\Lib\\site-packages\\PyMacroFin\\utilities.py:27: FutureWarning:\n",
      "\n",
      "Setting an item of incompatible dtype is deprecated and will raise in a future error of pandas. Value 'b0_b1' has dtype incompatible with float64, please explicitly cast to a compatible dtype first.\n",
      "\n",
      "d:\\UofT\\Research\\PDE-work\\continuous-time-eco-models\\venv\\Lib\\site-packages\\PyMacroFin\\utilities.py:27: FutureWarning:\n",
      "\n",
      "Setting an item of incompatible dtype is deprecated and will raise in a future error of pandas. Value 'b0_b1' has dtype incompatible with float64, please explicitly cast to a compatible dtype first.\n",
      "\n",
      "d:\\UofT\\Research\\PDE-work\\continuous-time-eco-models\\venv\\Lib\\site-packages\\PyMacroFin\\utilities.py:27: FutureWarning:\n",
      "\n",
      "Setting an item of incompatible dtype is deprecated and will raise in a future error of pandas. Value 'b0_b1' has dtype incompatible with float64, please explicitly cast to a compatible dtype first.\n",
      "\n",
      "d:\\UofT\\Research\\PDE-work\\continuous-time-eco-models\\venv\\Lib\\site-packages\\PyMacroFin\\utilities.py:27: FutureWarning:\n",
      "\n",
      "Setting an item of incompatible dtype is deprecated and will raise in a future error of pandas. Value 'b0_b1' has dtype incompatible with float64, please explicitly cast to a compatible dtype first.\n",
      "\n",
      "d:\\UofT\\Research\\PDE-work\\continuous-time-eco-models\\venv\\Lib\\site-packages\\PyMacroFin\\utilities.py:27: FutureWarning:\n",
      "\n",
      "Setting an item of incompatible dtype is deprecated and will raise in a future error of pandas. Value 'b0_b1' has dtype incompatible with float64, please explicitly cast to a compatible dtype first.\n",
      "\n",
      "d:\\UofT\\Research\\PDE-work\\continuous-time-eco-models\\venv\\Lib\\site-packages\\PyMacroFin\\utilities.py:27: FutureWarning:\n",
      "\n",
      "Setting an item of incompatible dtype is deprecated and will raise in a future error of pandas. Value 'b0_b1' has dtype incompatible with float64, please explicitly cast to a compatible dtype first.\n",
      "\n",
      "d:\\UofT\\Research\\PDE-work\\continuous-time-eco-models\\venv\\Lib\\site-packages\\PyMacroFin\\utilities.py:27: FutureWarning:\n",
      "\n",
      "Setting an item of incompatible dtype is deprecated and will raise in a future error of pandas. Value 'b0_b1' has dtype incompatible with float64, please explicitly cast to a compatible dtype first.\n",
      "\n",
      "d:\\UofT\\Research\\PDE-work\\continuous-time-eco-models\\venv\\Lib\\site-packages\\PyMacroFin\\utilities.py:27: FutureWarning:\n",
      "\n",
      "Setting an item of incompatible dtype is deprecated and will raise in a future error of pandas. Value 'b0_b1' has dtype incompatible with float64, please explicitly cast to a compatible dtype first.\n",
      "\n",
      "d:\\UofT\\Research\\PDE-work\\continuous-time-eco-models\\venv\\Lib\\site-packages\\PyMacroFin\\utilities.py:27: FutureWarning:\n",
      "\n",
      "Setting an item of incompatible dtype is deprecated and will raise in a future error of pandas. Value 'b0_b1' has dtype incompatible with float64, please explicitly cast to a compatible dtype first.\n",
      "\n",
      "d:\\UofT\\Research\\PDE-work\\continuous-time-eco-models\\venv\\Lib\\site-packages\\PyMacroFin\\utilities.py:27: FutureWarning:\n",
      "\n",
      "Setting an item of incompatible dtype is deprecated and will raise in a future error of pandas. Value 'b0_b1' has dtype incompatible with float64, please explicitly cast to a compatible dtype first.\n",
      "\n",
      "d:\\UofT\\Research\\PDE-work\\continuous-time-eco-models\\venv\\Lib\\site-packages\\PyMacroFin\\utilities.py:27: FutureWarning:\n",
      "\n",
      "Setting an item of incompatible dtype is deprecated and will raise in a future error of pandas. Value 'b0_b1' has dtype incompatible with float64, please explicitly cast to a compatible dtype first.\n",
      "\n",
      "d:\\UofT\\Research\\PDE-work\\continuous-time-eco-models\\venv\\Lib\\site-packages\\PyMacroFin\\utilities.py:27: FutureWarning:\n",
      "\n",
      "Setting an item of incompatible dtype is deprecated and will raise in a future error of pandas. Value 'b0_b1' has dtype incompatible with float64, please explicitly cast to a compatible dtype first.\n",
      "\n",
      "d:\\UofT\\Research\\PDE-work\\continuous-time-eco-models\\venv\\Lib\\site-packages\\PyMacroFin\\utilities.py:27: FutureWarning:\n",
      "\n",
      "Setting an item of incompatible dtype is deprecated and will raise in a future error of pandas. Value 'b0_b1' has dtype incompatible with float64, please explicitly cast to a compatible dtype first.\n",
      "\n",
      "d:\\UofT\\Research\\PDE-work\\continuous-time-eco-models\\venv\\Lib\\site-packages\\PyMacroFin\\utilities.py:27: FutureWarning:\n",
      "\n",
      "Setting an item of incompatible dtype is deprecated and will raise in a future error of pandas. Value 'b0_b1' has dtype incompatible with float64, please explicitly cast to a compatible dtype first.\n",
      "\n",
      "d:\\UofT\\Research\\PDE-work\\continuous-time-eco-models\\venv\\Lib\\site-packages\\PyMacroFin\\utilities.py:27: FutureWarning:\n",
      "\n",
      "Setting an item of incompatible dtype is deprecated and will raise in a future error of pandas. Value 'b0_b1' has dtype incompatible with float64, please explicitly cast to a compatible dtype first.\n",
      "\n",
      "d:\\UofT\\Research\\PDE-work\\continuous-time-eco-models\\venv\\Lib\\site-packages\\PyMacroFin\\utilities.py:27: FutureWarning:\n",
      "\n",
      "Setting an item of incompatible dtype is deprecated and will raise in a future error of pandas. Value 'b0_b1' has dtype incompatible with float64, please explicitly cast to a compatible dtype first.\n",
      "\n",
      "d:\\UofT\\Research\\PDE-work\\continuous-time-eco-models\\venv\\Lib\\site-packages\\PyMacroFin\\utilities.py:27: FutureWarning:\n",
      "\n",
      "Setting an item of incompatible dtype is deprecated and will raise in a future error of pandas. Value 'b0_b1' has dtype incompatible with float64, please explicitly cast to a compatible dtype first.\n",
      "\n",
      "d:\\UofT\\Research\\PDE-work\\continuous-time-eco-models\\venv\\Lib\\site-packages\\PyMacroFin\\utilities.py:27: FutureWarning:\n",
      "\n",
      "Setting an item of incompatible dtype is deprecated and will raise in a future error of pandas. Value 'b0_b1' has dtype incompatible with float64, please explicitly cast to a compatible dtype first.\n",
      "\n",
      "d:\\UofT\\Research\\PDE-work\\continuous-time-eco-models\\venv\\Lib\\site-packages\\PyMacroFin\\utilities.py:27: FutureWarning:\n",
      "\n",
      "Setting an item of incompatible dtype is deprecated and will raise in a future error of pandas. Value 'b0_b1' has dtype incompatible with float64, please explicitly cast to a compatible dtype first.\n",
      "\n",
      "d:\\UofT\\Research\\PDE-work\\continuous-time-eco-models\\venv\\Lib\\site-packages\\PyMacroFin\\utilities.py:27: FutureWarning:\n",
      "\n",
      "Setting an item of incompatible dtype is deprecated and will raise in a future error of pandas. Value 'b0_b1' has dtype incompatible with float64, please explicitly cast to a compatible dtype first.\n",
      "\n",
      "d:\\UofT\\Research\\PDE-work\\continuous-time-eco-models\\venv\\Lib\\site-packages\\PyMacroFin\\utilities.py:27: FutureWarning:\n",
      "\n",
      "Setting an item of incompatible dtype is deprecated and will raise in a future error of pandas. Value 'b0_b1' has dtype incompatible with float64, please explicitly cast to a compatible dtype first.\n",
      "\n",
      "d:\\UofT\\Research\\PDE-work\\continuous-time-eco-models\\venv\\Lib\\site-packages\\PyMacroFin\\utilities.py:27: FutureWarning:\n",
      "\n",
      "Setting an item of incompatible dtype is deprecated and will raise in a future error of pandas. Value 'b0_b1' has dtype incompatible with float64, please explicitly cast to a compatible dtype first.\n",
      "\n",
      "d:\\UofT\\Research\\PDE-work\\continuous-time-eco-models\\venv\\Lib\\site-packages\\PyMacroFin\\utilities.py:27: FutureWarning:\n",
      "\n",
      "Setting an item of incompatible dtype is deprecated and will raise in a future error of pandas. Value 'b0_b1' has dtype incompatible with float64, please explicitly cast to a compatible dtype first.\n",
      "\n",
      "d:\\UofT\\Research\\PDE-work\\continuous-time-eco-models\\venv\\Lib\\site-packages\\PyMacroFin\\utilities.py:27: FutureWarning:\n",
      "\n",
      "Setting an item of incompatible dtype is deprecated and will raise in a future error of pandas. Value 'b0_b1' has dtype incompatible with float64, please explicitly cast to a compatible dtype first.\n",
      "\n",
      "d:\\UofT\\Research\\PDE-work\\continuous-time-eco-models\\venv\\Lib\\site-packages\\PyMacroFin\\utilities.py:27: FutureWarning:\n",
      "\n",
      "Setting an item of incompatible dtype is deprecated and will raise in a future error of pandas. Value 'b0_b1' has dtype incompatible with float64, please explicitly cast to a compatible dtype first.\n",
      "\n",
      "d:\\UofT\\Research\\PDE-work\\continuous-time-eco-models\\venv\\Lib\\site-packages\\PyMacroFin\\utilities.py:27: FutureWarning:\n",
      "\n",
      "Setting an item of incompatible dtype is deprecated and will raise in a future error of pandas. Value 'b0_b1' has dtype incompatible with float64, please explicitly cast to a compatible dtype first.\n",
      "\n",
      "d:\\UofT\\Research\\PDE-work\\continuous-time-eco-models\\venv\\Lib\\site-packages\\PyMacroFin\\utilities.py:27: FutureWarning:\n",
      "\n",
      "Setting an item of incompatible dtype is deprecated and will raise in a future error of pandas. Value 'b0_b1' has dtype incompatible with float64, please explicitly cast to a compatible dtype first.\n",
      "\n",
      "d:\\UofT\\Research\\PDE-work\\continuous-time-eco-models\\venv\\Lib\\site-packages\\PyMacroFin\\utilities.py:27: FutureWarning:\n",
      "\n",
      "Setting an item of incompatible dtype is deprecated and will raise in a future error of pandas. Value 'b0_b1' has dtype incompatible with float64, please explicitly cast to a compatible dtype first.\n",
      "\n",
      "d:\\UofT\\Research\\PDE-work\\continuous-time-eco-models\\venv\\Lib\\site-packages\\PyMacroFin\\utilities.py:27: FutureWarning:\n",
      "\n",
      "Setting an item of incompatible dtype is deprecated and will raise in a future error of pandas. Value 'b0_b1' has dtype incompatible with float64, please explicitly cast to a compatible dtype first.\n",
      "\n",
      "d:\\UofT\\Research\\PDE-work\\continuous-time-eco-models\\venv\\Lib\\site-packages\\PyMacroFin\\utilities.py:27: FutureWarning:\n",
      "\n",
      "Setting an item of incompatible dtype is deprecated and will raise in a future error of pandas. Value 'b0_b1' has dtype incompatible with float64, please explicitly cast to a compatible dtype first.\n",
      "\n",
      "d:\\UofT\\Research\\PDE-work\\continuous-time-eco-models\\venv\\Lib\\site-packages\\PyMacroFin\\utilities.py:27: FutureWarning:\n",
      "\n",
      "Setting an item of incompatible dtype is deprecated and will raise in a future error of pandas. Value 'b0_b1' has dtype incompatible with float64, please explicitly cast to a compatible dtype first.\n",
      "\n",
      "d:\\UofT\\Research\\PDE-work\\continuous-time-eco-models\\venv\\Lib\\site-packages\\PyMacroFin\\utilities.py:27: FutureWarning:\n",
      "\n",
      "Setting an item of incompatible dtype is deprecated and will raise in a future error of pandas. Value 'b0_b1' has dtype incompatible with float64, please explicitly cast to a compatible dtype first.\n",
      "\n",
      "[Parallel(n_jobs=-1)]: Using backend DaskDistributedBackend with 20 concurrent workers.\n",
      "[Parallel(n_jobs=-1)]: Done  10 tasks      | elapsed:    0.0s\n",
      "[Parallel(n_jobs=-1)]: Done 200 out of 200 | elapsed:    0.7s finished\n",
      "[Parallel(n_jobs=-1)]: Using backend DaskDistributedBackend with 20 concurrent workers.\n"
     ]
    },
    {
     "name": "stdout",
     "output_type": "stream",
     "text": [
      "    outer static loop iteration 1 completed with error 0.0273\n"
     ]
    },
    {
     "name": "stderr",
     "output_type": "stream",
     "text": [
      "[Parallel(n_jobs=-1)]: Done  10 tasks      | elapsed:    0.0s\n",
      "[Parallel(n_jobs=-1)]: Done 200 out of 200 | elapsed:    0.9s finished\n",
      "[Parallel(n_jobs=-1)]: Using backend DaskDistributedBackend with 20 concurrent workers.\n"
     ]
    },
    {
     "name": "stdout",
     "output_type": "stream",
     "text": [
      "    outer static loop iteration 2 completed with error 0.0266\n"
     ]
    },
    {
     "name": "stderr",
     "output_type": "stream",
     "text": [
      "[Parallel(n_jobs=-1)]: Done  10 tasks      | elapsed:    0.0s\n",
      "[Parallel(n_jobs=-1)]: Done 200 out of 200 | elapsed:    0.8s finished\n",
      "[Parallel(n_jobs=-1)]: Using backend DaskDistributedBackend with 20 concurrent workers.\n"
     ]
    },
    {
     "name": "stdout",
     "output_type": "stream",
     "text": [
      "    outer static loop iteration 3 completed with error 0.026\n"
     ]
    },
    {
     "name": "stderr",
     "output_type": "stream",
     "text": [
      "[Parallel(n_jobs=-1)]: Done  10 tasks      | elapsed:    0.0s\n",
      "[Parallel(n_jobs=-1)]: Done 200 out of 200 | elapsed:    0.7s finished\n",
      "[Parallel(n_jobs=-1)]: Using backend DaskDistributedBackend with 20 concurrent workers.\n"
     ]
    },
    {
     "name": "stdout",
     "output_type": "stream",
     "text": [
      "    outer static loop iteration 4 completed with error 0.0253\n"
     ]
    },
    {
     "name": "stderr",
     "output_type": "stream",
     "text": [
      "[Parallel(n_jobs=-1)]: Done  10 tasks      | elapsed:    0.1s\n",
      "[Parallel(n_jobs=-1)]: Done 200 out of 200 | elapsed:    0.8s finished\n",
      "[Parallel(n_jobs=-1)]: Using backend DaskDistributedBackend with 20 concurrent workers.\n"
     ]
    },
    {
     "name": "stdout",
     "output_type": "stream",
     "text": [
      "    outer static loop iteration 5 completed with error 0.0247\n"
     ]
    },
    {
     "name": "stderr",
     "output_type": "stream",
     "text": [
      "[Parallel(n_jobs=-1)]: Done  10 tasks      | elapsed:    0.0s\n",
      "[Parallel(n_jobs=-1)]: Done 200 out of 200 | elapsed:    0.8s finished\n",
      "[Parallel(n_jobs=-1)]: Using backend DaskDistributedBackend with 20 concurrent workers.\n"
     ]
    },
    {
     "name": "stdout",
     "output_type": "stream",
     "text": [
      "    outer static loop iteration 6 completed with error 0.0241\n"
     ]
    },
    {
     "name": "stderr",
     "output_type": "stream",
     "text": [
      "[Parallel(n_jobs=-1)]: Done  10 tasks      | elapsed:    0.1s\n",
      "[Parallel(n_jobs=-1)]: Done 200 out of 200 | elapsed:    0.9s finished\n",
      "[Parallel(n_jobs=-1)]: Using backend DaskDistributedBackend with 20 concurrent workers.\n"
     ]
    },
    {
     "name": "stdout",
     "output_type": "stream",
     "text": [
      "    outer static loop iteration 7 completed with error 0.0235\n"
     ]
    },
    {
     "name": "stderr",
     "output_type": "stream",
     "text": [
      "[Parallel(n_jobs=-1)]: Done  10 tasks      | elapsed:    0.0s\n",
      "[Parallel(n_jobs=-1)]: Done 200 out of 200 | elapsed:    0.7s finished\n",
      "[Parallel(n_jobs=-1)]: Using backend DaskDistributedBackend with 20 concurrent workers.\n"
     ]
    },
    {
     "name": "stdout",
     "output_type": "stream",
     "text": [
      "    outer static loop iteration 8 completed with error 0.0229\n"
     ]
    },
    {
     "name": "stderr",
     "output_type": "stream",
     "text": [
      "[Parallel(n_jobs=-1)]: Done  10 tasks      | elapsed:    0.2s\n",
      "[Parallel(n_jobs=-1)]: Done 200 out of 200 | elapsed:    1.1s finished\n",
      "[Parallel(n_jobs=-1)]: Using backend DaskDistributedBackend with 20 concurrent workers.\n"
     ]
    },
    {
     "name": "stdout",
     "output_type": "stream",
     "text": [
      "    outer static loop iteration 9 completed with error 0.0223\n"
     ]
    },
    {
     "name": "stderr",
     "output_type": "stream",
     "text": [
      "[Parallel(n_jobs=-1)]: Done  10 tasks      | elapsed:    0.1s\n",
      "[Parallel(n_jobs=-1)]: Done 200 out of 200 | elapsed:    0.9s finished\n",
      "[Parallel(n_jobs=-1)]: Using backend DaskDistributedBackend with 20 concurrent workers.\n"
     ]
    },
    {
     "name": "stdout",
     "output_type": "stream",
     "text": [
      "    outer static loop iteration 10 completed with error 0.0218\n"
     ]
    },
    {
     "name": "stderr",
     "output_type": "stream",
     "text": [
      "[Parallel(n_jobs=-1)]: Done  10 tasks      | elapsed:    0.0s\n",
      "[Parallel(n_jobs=-1)]: Done 200 out of 200 | elapsed:    1.0s finished\n",
      "[Parallel(n_jobs=-1)]: Using backend DaskDistributedBackend with 20 concurrent workers.\n"
     ]
    },
    {
     "name": "stdout",
     "output_type": "stream",
     "text": [
      "    outer static loop iteration 11 completed with error 0.0212\n"
     ]
    },
    {
     "name": "stderr",
     "output_type": "stream",
     "text": [
      "[Parallel(n_jobs=-1)]: Done  10 tasks      | elapsed:    0.0s\n",
      "[Parallel(n_jobs=-1)]: Done 200 out of 200 | elapsed:    0.7s finished\n",
      "[Parallel(n_jobs=-1)]: Using backend DaskDistributedBackend with 20 concurrent workers.\n"
     ]
    },
    {
     "name": "stdout",
     "output_type": "stream",
     "text": [
      "    outer static loop iteration 12 completed with error 0.0207\n"
     ]
    },
    {
     "name": "stderr",
     "output_type": "stream",
     "text": [
      "[Parallel(n_jobs=-1)]: Done  10 tasks      | elapsed:    0.0s\n",
      "[Parallel(n_jobs=-1)]: Done 200 out of 200 | elapsed:    1.4s finished\n"
     ]
    },
    {
     "name": "stdout",
     "output_type": "stream",
     "text": [
      "    outer static loop iteration 13 completed with error 0.0201\n"
     ]
    },
    {
     "name": "stderr",
     "output_type": "stream",
     "text": [
      "[Parallel(n_jobs=-1)]: Using backend DaskDistributedBackend with 20 concurrent workers.\n",
      "[Parallel(n_jobs=-1)]: Done  10 tasks      | elapsed:    0.3s\n",
      "[Parallel(n_jobs=-1)]: Done 160 tasks      | elapsed:    4.0s\n",
      "[Parallel(n_jobs=-1)]: Done 200 out of 200 | elapsed:    4.6s finished\n"
     ]
    },
    {
     "name": "stdout",
     "output_type": "stream",
     "text": [
      "    outer static loop iteration 14 completed with error 0.0196\n"
     ]
    },
    {
     "name": "stderr",
     "output_type": "stream",
     "text": [
      "[Parallel(n_jobs=-1)]: Using backend DaskDistributedBackend with 20 concurrent workers.\n",
      "[Parallel(n_jobs=-1)]: Done  13 tasks      | elapsed:    0.3s\n",
      "[Parallel(n_jobs=-1)]: Done 200 out of 200 | elapsed:    2.8s finished\n"
     ]
    },
    {
     "name": "stdout",
     "output_type": "stream",
     "text": [
      "    outer static loop iteration 15 completed with error 0.0191\n"
     ]
    },
    {
     "name": "stderr",
     "output_type": "stream",
     "text": [
      "[Parallel(n_jobs=-1)]: Using backend DaskDistributedBackend with 20 concurrent workers.\n",
      "[Parallel(n_jobs=-1)]: Done  10 tasks      | elapsed:    0.3s\n",
      "[Parallel(n_jobs=-1)]: Done 161 out of 200 | elapsed:    2.6s remaining:    0.6s\n",
      "[Parallel(n_jobs=-1)]: Done 200 out of 200 | elapsed:    3.0s finished\n"
     ]
    },
    {
     "name": "stdout",
     "output_type": "stream",
     "text": [
      "    outer static loop iteration 16 completed with error 0.0186\n"
     ]
    },
    {
     "name": "stderr",
     "output_type": "stream",
     "text": [
      "[Parallel(n_jobs=-1)]: Using backend DaskDistributedBackend with 20 concurrent workers.\n",
      "[Parallel(n_jobs=-1)]: Done  10 tasks      | elapsed:    0.3s\n",
      "[Parallel(n_jobs=-1)]: Done 160 tasks      | elapsed:    3.0s\n",
      "[Parallel(n_jobs=-1)]: Done 200 out of 200 | elapsed:    3.9s finished\n"
     ]
    },
    {
     "name": "stdout",
     "output_type": "stream",
     "text": [
      "    outer static loop iteration 17 completed with error 0.0182\n"
     ]
    },
    {
     "name": "stderr",
     "output_type": "stream",
     "text": [
      "[Parallel(n_jobs=-1)]: Using backend DaskDistributedBackend with 20 concurrent workers.\n",
      "[Parallel(n_jobs=-1)]: Done  10 tasks      | elapsed:    0.3s\n",
      "[Parallel(n_jobs=-1)]: Done 160 tasks      | elapsed:    3.1s\n",
      "[Parallel(n_jobs=-1)]: Done 200 out of 200 | elapsed:    3.8s finished\n"
     ]
    },
    {
     "name": "stdout",
     "output_type": "stream",
     "text": [
      "    outer static loop iteration 18 completed with error 0.0177\n"
     ]
    },
    {
     "name": "stderr",
     "output_type": "stream",
     "text": [
      "[Parallel(n_jobs=-1)]: Using backend DaskDistributedBackend with 20 concurrent workers.\n",
      "[Parallel(n_jobs=-1)]: Done  11 tasks      | elapsed:    0.5s\n",
      "[Parallel(n_jobs=-1)]: Done 200 out of 200 | elapsed:    2.8s finished\n"
     ]
    },
    {
     "name": "stdout",
     "output_type": "stream",
     "text": [
      "    outer static loop iteration 19 completed with error 0.0172\n"
     ]
    },
    {
     "name": "stderr",
     "output_type": "stream",
     "text": [
      "[Parallel(n_jobs=-1)]: Using backend DaskDistributedBackend with 20 concurrent workers.\n",
      "[Parallel(n_jobs=-1)]: Done  11 tasks      | elapsed:    0.3s\n",
      "[Parallel(n_jobs=-1)]: Done 200 out of 200 | elapsed:    2.9s finished\n"
     ]
    },
    {
     "name": "stdout",
     "output_type": "stream",
     "text": [
      "    outer static loop iteration 20 completed with error 0.0168\n"
     ]
    },
    {
     "name": "stderr",
     "output_type": "stream",
     "text": [
      "[Parallel(n_jobs=-1)]: Using backend DaskDistributedBackend with 20 concurrent workers.\n",
      "[Parallel(n_jobs=-1)]: Done  10 tasks      | elapsed:    0.3s\n",
      "[Parallel(n_jobs=-1)]: Done 160 tasks      | elapsed:    3.5s\n",
      "[Parallel(n_jobs=-1)]: Done 200 out of 200 | elapsed:    3.7s finished\n"
     ]
    },
    {
     "name": "stdout",
     "output_type": "stream",
     "text": [
      "    outer static loop iteration 21 completed with error 0.0164\n"
     ]
    },
    {
     "name": "stderr",
     "output_type": "stream",
     "text": [
      "[Parallel(n_jobs=-1)]: Using backend DaskDistributedBackend with 20 concurrent workers.\n",
      "[Parallel(n_jobs=-1)]: Done  10 tasks      | elapsed:    0.2s\n",
      "[Parallel(n_jobs=-1)]: Done 200 out of 200 | elapsed:    0.8s finished\n",
      "[Parallel(n_jobs=-1)]: Using backend DaskDistributedBackend with 20 concurrent workers.\n"
     ]
    },
    {
     "name": "stdout",
     "output_type": "stream",
     "text": [
      "    outer static loop iteration 22 completed with error 0.0159\n"
     ]
    },
    {
     "name": "stderr",
     "output_type": "stream",
     "text": [
      "[Parallel(n_jobs=-1)]: Done  10 tasks      | elapsed:    0.0s\n",
      "[Parallel(n_jobs=-1)]: Done 200 out of 200 | elapsed:    0.8s finished\n",
      "[Parallel(n_jobs=-1)]: Using backend DaskDistributedBackend with 20 concurrent workers.\n"
     ]
    },
    {
     "name": "stdout",
     "output_type": "stream",
     "text": [
      "    outer static loop iteration 23 completed with error 0.0155\n"
     ]
    },
    {
     "name": "stderr",
     "output_type": "stream",
     "text": [
      "[Parallel(n_jobs=-1)]: Done  10 tasks      | elapsed:    0.0s\n",
      "[Parallel(n_jobs=-1)]: Done 200 out of 200 | elapsed:    0.8s finished\n"
     ]
    },
    {
     "name": "stdout",
     "output_type": "stream",
     "text": [
      "    outer static loop iteration 24 completed with error 0.0151\n"
     ]
    },
    {
     "name": "stderr",
     "output_type": "stream",
     "text": [
      "[Parallel(n_jobs=-1)]: Using backend DaskDistributedBackend with 20 concurrent workers.\n",
      "[Parallel(n_jobs=-1)]: Done  10 tasks      | elapsed:    0.0s\n",
      "[Parallel(n_jobs=-1)]: Done 200 out of 200 | elapsed:    0.7s finished\n",
      "[Parallel(n_jobs=-1)]: Using backend DaskDistributedBackend with 20 concurrent workers.\n"
     ]
    },
    {
     "name": "stdout",
     "output_type": "stream",
     "text": [
      "    outer static loop iteration 25 completed with error 0.0147\n"
     ]
    },
    {
     "name": "stderr",
     "output_type": "stream",
     "text": [
      "[Parallel(n_jobs=-1)]: Done  10 tasks      | elapsed:    0.0s\n",
      "[Parallel(n_jobs=-1)]: Done 200 out of 200 | elapsed:    0.8s finished\n",
      "[Parallel(n_jobs=-1)]: Using backend DaskDistributedBackend with 20 concurrent workers.\n"
     ]
    },
    {
     "name": "stdout",
     "output_type": "stream",
     "text": [
      "    outer static loop iteration 26 completed with error 0.0143\n"
     ]
    },
    {
     "name": "stderr",
     "output_type": "stream",
     "text": [
      "[Parallel(n_jobs=-1)]: Done  10 tasks      | elapsed:    0.0s\n",
      "[Parallel(n_jobs=-1)]: Done 200 out of 200 | elapsed:    0.8s finished\n",
      "[Parallel(n_jobs=-1)]: Using backend DaskDistributedBackend with 20 concurrent workers.\n"
     ]
    },
    {
     "name": "stdout",
     "output_type": "stream",
     "text": [
      "    outer static loop iteration 27 completed with error 0.014\n"
     ]
    },
    {
     "name": "stderr",
     "output_type": "stream",
     "text": [
      "[Parallel(n_jobs=-1)]: Done  10 tasks      | elapsed:    0.0s\n",
      "[Parallel(n_jobs=-1)]: Done 200 out of 200 | elapsed:    0.7s finished\n",
      "[Parallel(n_jobs=-1)]: Using backend DaskDistributedBackend with 20 concurrent workers.\n"
     ]
    },
    {
     "name": "stdout",
     "output_type": "stream",
     "text": [
      "    outer static loop iteration 28 completed with error 0.0136\n"
     ]
    },
    {
     "name": "stderr",
     "output_type": "stream",
     "text": [
      "[Parallel(n_jobs=-1)]: Done  10 tasks      | elapsed:    0.0s\n",
      "[Parallel(n_jobs=-1)]: Done 200 out of 200 | elapsed:    1.8s finished\n"
     ]
    },
    {
     "name": "stdout",
     "output_type": "stream",
     "text": [
      "    outer static loop iteration 29 completed with error 0.0133\n"
     ]
    },
    {
     "name": "stderr",
     "output_type": "stream",
     "text": [
      "[Parallel(n_jobs=-1)]: Using backend DaskDistributedBackend with 20 concurrent workers.\n",
      "[Parallel(n_jobs=-1)]: Done  10 tasks      | elapsed:    0.3s\n",
      "[Parallel(n_jobs=-1)]: Done 200 out of 200 | elapsed:    2.5s finished\n"
     ]
    },
    {
     "name": "stdout",
     "output_type": "stream",
     "text": [
      "    outer static loop iteration 30 completed with error 0.0129\n"
     ]
    },
    {
     "name": "stderr",
     "output_type": "stream",
     "text": [
      "[Parallel(n_jobs=-1)]: Using backend DaskDistributedBackend with 20 concurrent workers.\n",
      "[Parallel(n_jobs=-1)]: Done  10 tasks      | elapsed:    0.5s\n",
      "[Parallel(n_jobs=-1)]: Done 160 tasks      | elapsed:    3.1s\n",
      "[Parallel(n_jobs=-1)]: Done 200 out of 200 | elapsed:    3.7s finished\n"
     ]
    },
    {
     "name": "stdout",
     "output_type": "stream",
     "text": [
      "    outer static loop iteration 31 completed with error 0.0126\n"
     ]
    },
    {
     "name": "stderr",
     "output_type": "stream",
     "text": [
      "[Parallel(n_jobs=-1)]: Using backend DaskDistributedBackend with 20 concurrent workers.\n",
      "[Parallel(n_jobs=-1)]: Done 200 out of 200 | elapsed:    3.1s finished\n"
     ]
    },
    {
     "name": "stdout",
     "output_type": "stream",
     "text": [
      "    outer static loop iteration 32 completed with error 0.0123\n"
     ]
    },
    {
     "name": "stderr",
     "output_type": "stream",
     "text": [
      "[Parallel(n_jobs=-1)]: Using backend DaskDistributedBackend with 20 concurrent workers.\n",
      "[Parallel(n_jobs=-1)]: Done  10 tasks      | elapsed:    0.3s\n",
      "[Parallel(n_jobs=-1)]: Done 200 out of 200 | elapsed:    2.6s finished\n"
     ]
    },
    {
     "name": "stdout",
     "output_type": "stream",
     "text": [
      "    outer static loop iteration 33 completed with error 0.012\n"
     ]
    },
    {
     "name": "stderr",
     "output_type": "stream",
     "text": [
      "[Parallel(n_jobs=-1)]: Using backend DaskDistributedBackend with 20 concurrent workers.\n",
      "[Parallel(n_jobs=-1)]: Done  10 tasks      | elapsed:    0.4s\n",
      "[Parallel(n_jobs=-1)]: Done 160 tasks      | elapsed:    3.5s\n",
      "[Parallel(n_jobs=-1)]: Done 200 out of 200 | elapsed:    4.2s finished\n"
     ]
    },
    {
     "name": "stdout",
     "output_type": "stream",
     "text": [
      "    outer static loop iteration 34 completed with error 0.0116\n"
     ]
    },
    {
     "name": "stderr",
     "output_type": "stream",
     "text": [
      "[Parallel(n_jobs=-1)]: Using backend DaskDistributedBackend with 20 concurrent workers.\n",
      "[Parallel(n_jobs=-1)]: Done  10 tasks      | elapsed:    0.3s\n",
      "[Parallel(n_jobs=-1)]: Done 200 out of 200 | elapsed:    3.1s finished\n"
     ]
    },
    {
     "name": "stdout",
     "output_type": "stream",
     "text": [
      "    outer static loop iteration 35 completed with error 0.0114\n"
     ]
    },
    {
     "name": "stderr",
     "output_type": "stream",
     "text": [
      "[Parallel(n_jobs=-1)]: Using backend DaskDistributedBackend with 20 concurrent workers.\n",
      "[Parallel(n_jobs=-1)]: Done  10 tasks      | elapsed:    0.2s\n",
      "[Parallel(n_jobs=-1)]: Done 160 tasks      | elapsed:    2.9s\n",
      "[Parallel(n_jobs=-1)]: Done 200 out of 200 | elapsed:    3.5s finished\n"
     ]
    },
    {
     "name": "stdout",
     "output_type": "stream",
     "text": [
      "    outer static loop iteration 36 completed with error 0.0111\n"
     ]
    },
    {
     "name": "stderr",
     "output_type": "stream",
     "text": [
      "[Parallel(n_jobs=-1)]: Using backend DaskDistributedBackend with 20 concurrent workers.\n",
      "[Parallel(n_jobs=-1)]: Done  10 tasks      | elapsed:    0.5s\n",
      "[Parallel(n_jobs=-1)]: Done 160 tasks      | elapsed:    3.1s\n",
      "[Parallel(n_jobs=-1)]: Done 200 out of 200 | elapsed:    3.7s finished\n"
     ]
    },
    {
     "name": "stdout",
     "output_type": "stream",
     "text": [
      "    outer static loop iteration 37 completed with error 0.0108\n"
     ]
    },
    {
     "name": "stderr",
     "output_type": "stream",
     "text": [
      "[Parallel(n_jobs=-1)]: Using backend DaskDistributedBackend with 20 concurrent workers.\n",
      "[Parallel(n_jobs=-1)]: Done  11 tasks      | elapsed:    0.3s\n",
      "[Parallel(n_jobs=-1)]: Done 200 out of 200 | elapsed:    2.8s finished\n"
     ]
    },
    {
     "name": "stdout",
     "output_type": "stream",
     "text": [
      "    outer static loop iteration 38 completed with error 0.0105\n"
     ]
    },
    {
     "name": "stderr",
     "output_type": "stream",
     "text": [
      "[Parallel(n_jobs=-1)]: Using backend DaskDistributedBackend with 20 concurrent workers.\n",
      "[Parallel(n_jobs=-1)]: Done  10 tasks      | elapsed:    0.3s\n",
      "[Parallel(n_jobs=-1)]: Done 200 out of 200 | elapsed:    2.5s finished\n"
     ]
    },
    {
     "name": "stdout",
     "output_type": "stream",
     "text": [
      "    outer static loop iteration 39 completed with error 0.0103\n"
     ]
    },
    {
     "name": "stderr",
     "output_type": "stream",
     "text": [
      "[Parallel(n_jobs=-1)]: Using backend DaskDistributedBackend with 20 concurrent workers.\n",
      "[Parallel(n_jobs=-1)]: Done  10 tasks      | elapsed:    0.5s\n",
      "[Parallel(n_jobs=-1)]: Done 200 out of 200 | elapsed:    3.1s finished\n"
     ]
    },
    {
     "name": "stdout",
     "output_type": "stream",
     "text": [
      "    outer static loop iteration 40 completed with error 0.01\n"
     ]
    },
    {
     "name": "stderr",
     "output_type": "stream",
     "text": [
      "[Parallel(n_jobs=-1)]: Using backend DaskDistributedBackend with 20 concurrent workers.\n",
      "[Parallel(n_jobs=-1)]: Done  13 tasks      | elapsed:    0.3s\n",
      "[Parallel(n_jobs=-1)]: Done 200 out of 200 | elapsed:    2.6s finished\n"
     ]
    },
    {
     "name": "stdout",
     "output_type": "stream",
     "text": [
      "    outer static loop iteration 41 completed with error 0.00976\n"
     ]
    },
    {
     "name": "stderr",
     "output_type": "stream",
     "text": [
      "[Parallel(n_jobs=-1)]: Using backend DaskDistributedBackend with 20 concurrent workers.\n",
      "[Parallel(n_jobs=-1)]: Done  10 tasks      | elapsed:    0.2s\n",
      "[Parallel(n_jobs=-1)]: Done 160 tasks      | elapsed:    2.9s\n",
      "[Parallel(n_jobs=-1)]: Done 200 out of 200 | elapsed:    3.5s finished\n"
     ]
    },
    {
     "name": "stdout",
     "output_type": "stream",
     "text": [
      "    outer static loop iteration 42 completed with error 0.00953\n"
     ]
    },
    {
     "name": "stderr",
     "output_type": "stream",
     "text": [
      "[Parallel(n_jobs=-1)]: Using backend DaskDistributedBackend with 20 concurrent workers.\n",
      "[Parallel(n_jobs=-1)]: Done  10 tasks      | elapsed:    0.5s\n",
      "[Parallel(n_jobs=-1)]: Done 200 out of 200 | elapsed:    3.7s finished\n"
     ]
    },
    {
     "name": "stdout",
     "output_type": "stream",
     "text": [
      "    outer static loop iteration 43 completed with error 0.0093\n"
     ]
    },
    {
     "name": "stderr",
     "output_type": "stream",
     "text": [
      "[Parallel(n_jobs=-1)]: Using backend DaskDistributedBackend with 20 concurrent workers.\n",
      "[Parallel(n_jobs=-1)]: Done  10 tasks      | elapsed:    0.3s\n",
      "[Parallel(n_jobs=-1)]: Done 160 tasks      | elapsed:    3.3s\n",
      "[Parallel(n_jobs=-1)]: Done 200 out of 200 | elapsed:    4.1s finished\n"
     ]
    },
    {
     "name": "stdout",
     "output_type": "stream",
     "text": [
      "    outer static loop iteration 44 completed with error 0.00908\n"
     ]
    },
    {
     "name": "stderr",
     "output_type": "stream",
     "text": [
      "[Parallel(n_jobs=-1)]: Using backend DaskDistributedBackend with 20 concurrent workers.\n",
      "[Parallel(n_jobs=-1)]: Done  11 tasks      | elapsed:    0.3s\n",
      "[Parallel(n_jobs=-1)]: Done 200 out of 200 | elapsed:    2.7s finished\n"
     ]
    },
    {
     "name": "stdout",
     "output_type": "stream",
     "text": [
      "    outer static loop iteration 45 completed with error 0.00887\n"
     ]
    },
    {
     "name": "stderr",
     "output_type": "stream",
     "text": [
      "[Parallel(n_jobs=-1)]: Using backend DaskDistributedBackend with 20 concurrent workers.\n",
      "[Parallel(n_jobs=-1)]: Done  10 tasks      | elapsed:    0.2s\n",
      "[Parallel(n_jobs=-1)]: Done 160 tasks      | elapsed:    3.2s\n",
      "[Parallel(n_jobs=-1)]: Done 200 out of 200 | elapsed:    3.8s finished\n"
     ]
    },
    {
     "name": "stdout",
     "output_type": "stream",
     "text": [
      "    outer static loop iteration 46 completed with error 0.00866\n"
     ]
    },
    {
     "name": "stderr",
     "output_type": "stream",
     "text": [
      "[Parallel(n_jobs=-1)]: Using backend DaskDistributedBackend with 20 concurrent workers.\n",
      "[Parallel(n_jobs=-1)]: Done  10 tasks      | elapsed:    0.2s\n",
      "[Parallel(n_jobs=-1)]: Done 160 tasks      | elapsed:    3.1s\n",
      "[Parallel(n_jobs=-1)]: Done 200 out of 200 | elapsed:    3.8s finished\n"
     ]
    },
    {
     "name": "stdout",
     "output_type": "stream",
     "text": [
      "    outer static loop iteration 47 completed with error 0.00846\n"
     ]
    },
    {
     "name": "stderr",
     "output_type": "stream",
     "text": [
      "[Parallel(n_jobs=-1)]: Using backend DaskDistributedBackend with 20 concurrent workers.\n",
      "[Parallel(n_jobs=-1)]: Done  14 tasks      | elapsed:    0.3s\n",
      "[Parallel(n_jobs=-1)]: Done 200 out of 200 | elapsed:    2.5s finished\n"
     ]
    },
    {
     "name": "stdout",
     "output_type": "stream",
     "text": [
      "    outer static loop iteration 48 completed with error 0.00827\n"
     ]
    },
    {
     "name": "stderr",
     "output_type": "stream",
     "text": [
      "[Parallel(n_jobs=-1)]: Using backend DaskDistributedBackend with 20 concurrent workers.\n",
      "[Parallel(n_jobs=-1)]: Done  11 tasks      | elapsed:    0.6s\n",
      "[Parallel(n_jobs=-1)]: Done 200 out of 200 | elapsed:    3.5s finished\n"
     ]
    },
    {
     "name": "stdout",
     "output_type": "stream",
     "text": [
      "    outer static loop iteration 49 completed with error 0.00809\n"
     ]
    },
    {
     "name": "stderr",
     "output_type": "stream",
     "text": [
      "[Parallel(n_jobs=-1)]: Using backend DaskDistributedBackend with 20 concurrent workers.\n",
      "[Parallel(n_jobs=-1)]: Done  10 tasks      | elapsed:    0.3s\n",
      "[Parallel(n_jobs=-1)]: Done 161 out of 200 | elapsed:    2.9s remaining:    0.6s\n",
      "[Parallel(n_jobs=-1)]: Done 200 out of 200 | elapsed:    3.7s finished\n"
     ]
    },
    {
     "name": "stdout",
     "output_type": "stream",
     "text": [
      "    outer static loop iteration 50 completed with error 0.00791\n"
     ]
    },
    {
     "name": "stderr",
     "output_type": "stream",
     "text": [
      "[Parallel(n_jobs=-1)]: Using backend DaskDistributedBackend with 20 concurrent workers.\n",
      "[Parallel(n_jobs=-1)]: Done  14 tasks      | elapsed:    0.4s\n",
      "[Parallel(n_jobs=-1)]: Done 200 out of 200 | elapsed:    3.3s finished\n"
     ]
    },
    {
     "name": "stdout",
     "output_type": "stream",
     "text": [
      "    outer static loop iteration 51 completed with error 0.00774\n"
     ]
    },
    {
     "name": "stderr",
     "output_type": "stream",
     "text": [
      "[Parallel(n_jobs=-1)]: Using backend DaskDistributedBackend with 20 concurrent workers.\n",
      "[Parallel(n_jobs=-1)]: Done  10 tasks      | elapsed:    0.2s\n",
      "[Parallel(n_jobs=-1)]: Done 200 out of 200 | elapsed:    3.1s finished\n"
     ]
    },
    {
     "name": "stdout",
     "output_type": "stream",
     "text": [
      "    outer static loop iteration 52 completed with error 0.00758\n"
     ]
    },
    {
     "name": "stderr",
     "output_type": "stream",
     "text": [
      "[Parallel(n_jobs=-1)]: Using backend DaskDistributedBackend with 20 concurrent workers.\n",
      "[Parallel(n_jobs=-1)]: Done  10 tasks      | elapsed:    0.2s\n",
      "[Parallel(n_jobs=-1)]: Done 161 out of 200 | elapsed:    2.9s remaining:    0.6s\n",
      "[Parallel(n_jobs=-1)]: Done 200 out of 200 | elapsed:    3.6s finished\n"
     ]
    },
    {
     "name": "stdout",
     "output_type": "stream",
     "text": [
      "    outer static loop iteration 53 completed with error 0.00742\n"
     ]
    },
    {
     "name": "stderr",
     "output_type": "stream",
     "text": [
      "[Parallel(n_jobs=-1)]: Using backend DaskDistributedBackend with 20 concurrent workers.\n",
      "[Parallel(n_jobs=-1)]: Done  10 tasks      | elapsed:    0.6s\n",
      "[Parallel(n_jobs=-1)]: Done 200 out of 200 | elapsed:    1.8s finished\n",
      "[Parallel(n_jobs=-1)]: Using backend DaskDistributedBackend with 20 concurrent workers.\n"
     ]
    },
    {
     "name": "stdout",
     "output_type": "stream",
     "text": [
      "    outer static loop iteration 54 completed with error 0.00727\n"
     ]
    },
    {
     "name": "stderr",
     "output_type": "stream",
     "text": [
      "[Parallel(n_jobs=-1)]: Done  10 tasks      | elapsed:    0.0s\n",
      "[Parallel(n_jobs=-1)]: Done 200 out of 200 | elapsed:    0.8s finished\n",
      "[Parallel(n_jobs=-1)]: Using backend DaskDistributedBackend with 20 concurrent workers.\n"
     ]
    },
    {
     "name": "stdout",
     "output_type": "stream",
     "text": [
      "    outer static loop iteration 55 completed with error 0.00713\n"
     ]
    },
    {
     "name": "stderr",
     "output_type": "stream",
     "text": [
      "[Parallel(n_jobs=-1)]: Done  10 tasks      | elapsed:    0.0s\n",
      "[Parallel(n_jobs=-1)]: Done 200 out of 200 | elapsed:    0.8s finished\n",
      "[Parallel(n_jobs=-1)]: Using backend DaskDistributedBackend with 20 concurrent workers.\n"
     ]
    },
    {
     "name": "stdout",
     "output_type": "stream",
     "text": [
      "    outer static loop iteration 56 completed with error 0.00699\n"
     ]
    },
    {
     "name": "stderr",
     "output_type": "stream",
     "text": [
      "[Parallel(n_jobs=-1)]: Done  10 tasks      | elapsed:    0.0s\n",
      "[Parallel(n_jobs=-1)]: Done 200 out of 200 | elapsed:    0.6s finished\n",
      "[Parallel(n_jobs=-1)]: Using backend DaskDistributedBackend with 20 concurrent workers.\n"
     ]
    },
    {
     "name": "stdout",
     "output_type": "stream",
     "text": [
      "    outer static loop iteration 57 completed with error 0.00686\n"
     ]
    },
    {
     "name": "stderr",
     "output_type": "stream",
     "text": [
      "[Parallel(n_jobs=-1)]: Done  10 tasks      | elapsed:    0.0s\n",
      "[Parallel(n_jobs=-1)]: Done 200 out of 200 | elapsed:    0.8s finished\n",
      "[Parallel(n_jobs=-1)]: Using backend DaskDistributedBackend with 20 concurrent workers.\n"
     ]
    },
    {
     "name": "stdout",
     "output_type": "stream",
     "text": [
      "    outer static loop iteration 58 completed with error 0.00674\n"
     ]
    },
    {
     "name": "stderr",
     "output_type": "stream",
     "text": [
      "[Parallel(n_jobs=-1)]: Done  10 tasks      | elapsed:    0.0s\n",
      "[Parallel(n_jobs=-1)]: Done 200 out of 200 | elapsed:    0.8s finished\n",
      "[Parallel(n_jobs=-1)]: Using backend DaskDistributedBackend with 20 concurrent workers.\n"
     ]
    },
    {
     "name": "stdout",
     "output_type": "stream",
     "text": [
      "    outer static loop iteration 59 completed with error 0.00662\n"
     ]
    },
    {
     "name": "stderr",
     "output_type": "stream",
     "text": [
      "[Parallel(n_jobs=-1)]: Done  10 tasks      | elapsed:    0.0s\n",
      "[Parallel(n_jobs=-1)]: Done 200 out of 200 | elapsed:    0.6s finished\n",
      "[Parallel(n_jobs=-1)]: Using backend DaskDistributedBackend with 20 concurrent workers.\n"
     ]
    },
    {
     "name": "stdout",
     "output_type": "stream",
     "text": [
      "    outer static loop iteration 60 completed with error 0.0065\n"
     ]
    },
    {
     "name": "stderr",
     "output_type": "stream",
     "text": [
      "[Parallel(n_jobs=-1)]: Done  10 tasks      | elapsed:    0.0s\n",
      "[Parallel(n_jobs=-1)]: Done 200 out of 200 | elapsed:    0.8s finished\n",
      "[Parallel(n_jobs=-1)]: Using backend DaskDistributedBackend with 20 concurrent workers.\n"
     ]
    },
    {
     "name": "stdout",
     "output_type": "stream",
     "text": [
      "    outer static loop iteration 61 completed with error 0.00639\n"
     ]
    },
    {
     "name": "stderr",
     "output_type": "stream",
     "text": [
      "[Parallel(n_jobs=-1)]: Done  10 tasks      | elapsed:    0.0s\n",
      "[Parallel(n_jobs=-1)]: Done 200 out of 200 | elapsed:    0.8s finished\n",
      "[Parallel(n_jobs=-1)]: Using backend DaskDistributedBackend with 20 concurrent workers.\n",
      "[Parallel(n_jobs=-1)]: Done  10 tasks      | elapsed:    0.0s\n"
     ]
    },
    {
     "name": "stdout",
     "output_type": "stream",
     "text": [
      "    outer static loop iteration 62 completed with error 0.00629\n"
     ]
    },
    {
     "name": "stderr",
     "output_type": "stream",
     "text": [
      "[Parallel(n_jobs=-1)]: Done 200 out of 200 | elapsed:    0.6s finished\n",
      "[Parallel(n_jobs=-1)]: Using backend DaskDistributedBackend with 20 concurrent workers.\n",
      "[Parallel(n_jobs=-1)]: Done  10 tasks      | elapsed:    0.0s\n"
     ]
    },
    {
     "name": "stdout",
     "output_type": "stream",
     "text": [
      "    outer static loop iteration 63 completed with error 0.00619\n"
     ]
    },
    {
     "name": "stderr",
     "output_type": "stream",
     "text": [
      "[Parallel(n_jobs=-1)]: Done 200 out of 200 | elapsed:    0.8s finished\n",
      "[Parallel(n_jobs=-1)]: Using backend DaskDistributedBackend with 20 concurrent workers.\n"
     ]
    },
    {
     "name": "stdout",
     "output_type": "stream",
     "text": [
      "    outer static loop iteration 64 completed with error 0.0061\n"
     ]
    },
    {
     "name": "stderr",
     "output_type": "stream",
     "text": [
      "[Parallel(n_jobs=-1)]: Done  10 tasks      | elapsed:    0.0s\n",
      "[Parallel(n_jobs=-1)]: Done 200 out of 200 | elapsed:    0.7s finished\n",
      "[Parallel(n_jobs=-1)]: Using backend DaskDistributedBackend with 20 concurrent workers.\n"
     ]
    },
    {
     "name": "stdout",
     "output_type": "stream",
     "text": [
      "    outer static loop iteration 65 completed with error 0.00601\n"
     ]
    },
    {
     "name": "stderr",
     "output_type": "stream",
     "text": [
      "[Parallel(n_jobs=-1)]: Done  10 tasks      | elapsed:    0.3s\n",
      "[Parallel(n_jobs=-1)]: Done 160 tasks      | elapsed:    1.0s\n",
      "[Parallel(n_jobs=-1)]: Done 200 out of 200 | elapsed:    1.2s finished\n"
     ]
    },
    {
     "name": "stdout",
     "output_type": "stream",
     "text": [
      "    outer static loop iteration 66 completed with error 0.00593\n"
     ]
    },
    {
     "name": "stderr",
     "output_type": "stream",
     "text": [
      "[Parallel(n_jobs=-1)]: Using backend DaskDistributedBackend with 20 concurrent workers.\n",
      "[Parallel(n_jobs=-1)]: Done  10 tasks      | elapsed:    0.0s\n",
      "[Parallel(n_jobs=-1)]: Done 200 out of 200 | elapsed:    0.8s finished\n",
      "[Parallel(n_jobs=-1)]: Using backend DaskDistributedBackend with 20 concurrent workers.\n"
     ]
    },
    {
     "name": "stdout",
     "output_type": "stream",
     "text": [
      "    outer static loop iteration 67 completed with error 0.00585\n"
     ]
    },
    {
     "name": "stderr",
     "output_type": "stream",
     "text": [
      "[Parallel(n_jobs=-1)]: Done  10 tasks      | elapsed:    0.0s\n",
      "[Parallel(n_jobs=-1)]: Done 200 out of 200 | elapsed:    0.7s finished\n",
      "[Parallel(n_jobs=-1)]: Using backend DaskDistributedBackend with 20 concurrent workers.\n"
     ]
    },
    {
     "name": "stdout",
     "output_type": "stream",
     "text": [
      "    outer static loop iteration 68 completed with error 0.00578\n"
     ]
    },
    {
     "name": "stderr",
     "output_type": "stream",
     "text": [
      "[Parallel(n_jobs=-1)]: Done  10 tasks      | elapsed:    0.0s\n",
      "[Parallel(n_jobs=-1)]: Done 200 out of 200 | elapsed:    0.9s finished\n",
      "[Parallel(n_jobs=-1)]: Using backend DaskDistributedBackend with 20 concurrent workers.\n"
     ]
    },
    {
     "name": "stdout",
     "output_type": "stream",
     "text": [
      "    outer static loop iteration 69 completed with error 0.00571\n"
     ]
    },
    {
     "name": "stderr",
     "output_type": "stream",
     "text": [
      "[Parallel(n_jobs=-1)]: Done  10 tasks      | elapsed:    0.0s\n",
      "[Parallel(n_jobs=-1)]: Done 200 out of 200 | elapsed:    0.9s finished\n"
     ]
    },
    {
     "name": "stdout",
     "output_type": "stream",
     "text": [
      "    outer static loop iteration 70 completed with error 0.00564\n"
     ]
    },
    {
     "name": "stderr",
     "output_type": "stream",
     "text": [
      "[Parallel(n_jobs=-1)]: Using backend DaskDistributedBackend with 20 concurrent workers.\n",
      "[Parallel(n_jobs=-1)]: Done  10 tasks      | elapsed:    0.3s\n",
      "[Parallel(n_jobs=-1)]: Done 200 out of 200 | elapsed:    3.2s finished\n"
     ]
    },
    {
     "name": "stdout",
     "output_type": "stream",
     "text": [
      "    outer static loop iteration 71 completed with error 0.00558\n"
     ]
    },
    {
     "name": "stderr",
     "output_type": "stream",
     "text": [
      "[Parallel(n_jobs=-1)]: Using backend DaskDistributedBackend with 20 concurrent workers.\n",
      "[Parallel(n_jobs=-1)]: Done  10 tasks      | elapsed:    0.4s\n",
      "[Parallel(n_jobs=-1)]: Done 160 tasks      | elapsed:    3.5s\n",
      "[Parallel(n_jobs=-1)]: Done 200 out of 200 | elapsed:    4.2s finished\n"
     ]
    },
    {
     "name": "stdout",
     "output_type": "stream",
     "text": [
      "    outer static loop iteration 72 completed with error 0.00552\n"
     ]
    },
    {
     "name": "stderr",
     "output_type": "stream",
     "text": [
      "[Parallel(n_jobs=-1)]: Using backend DaskDistributedBackend with 20 concurrent workers.\n",
      "[Parallel(n_jobs=-1)]: Done  10 tasks      | elapsed:    0.2s\n",
      "[Parallel(n_jobs=-1)]: Done 200 out of 200 | elapsed:    3.2s finished\n"
     ]
    },
    {
     "name": "stdout",
     "output_type": "stream",
     "text": [
      "    outer static loop iteration 73 completed with error 0.00547\n"
     ]
    },
    {
     "name": "stderr",
     "output_type": "stream",
     "text": [
      "[Parallel(n_jobs=-1)]: Using backend DaskDistributedBackend with 20 concurrent workers.\n",
      "[Parallel(n_jobs=-1)]: Done  10 tasks      | elapsed:    0.3s\n",
      "[Parallel(n_jobs=-1)]: Done 160 tasks      | elapsed:    3.6s\n",
      "[Parallel(n_jobs=-1)]: Done 200 out of 200 | elapsed:    4.3s finished\n"
     ]
    },
    {
     "name": "stdout",
     "output_type": "stream",
     "text": [
      "    outer static loop iteration 74 completed with error 0.00542\n"
     ]
    },
    {
     "name": "stderr",
     "output_type": "stream",
     "text": [
      "[Parallel(n_jobs=-1)]: Using backend DaskDistributedBackend with 20 concurrent workers.\n",
      "[Parallel(n_jobs=-1)]: Done  10 tasks      | elapsed:    0.3s\n",
      "[Parallel(n_jobs=-1)]: Done 200 out of 200 | elapsed:    1.3s finished\n",
      "[Parallel(n_jobs=-1)]: Using backend DaskDistributedBackend with 20 concurrent workers.\n"
     ]
    },
    {
     "name": "stdout",
     "output_type": "stream",
     "text": [
      "    outer static loop iteration 75 completed with error 0.00537\n"
     ]
    },
    {
     "name": "stderr",
     "output_type": "stream",
     "text": [
      "[Parallel(n_jobs=-1)]: Done  10 tasks      | elapsed:    0.0s\n",
      "[Parallel(n_jobs=-1)]: Done 200 out of 200 | elapsed:    0.6s finished\n",
      "[Parallel(n_jobs=-1)]: Using backend DaskDistributedBackend with 20 concurrent workers.\n"
     ]
    },
    {
     "name": "stdout",
     "output_type": "stream",
     "text": [
      "    outer static loop iteration 76 completed with error 0.00533\n"
     ]
    },
    {
     "name": "stderr",
     "output_type": "stream",
     "text": [
      "[Parallel(n_jobs=-1)]: Done  10 tasks      | elapsed:    0.2s\n",
      "[Parallel(n_jobs=-1)]: Done 200 out of 200 | elapsed:    0.8s finished\n",
      "[Parallel(n_jobs=-1)]: Using backend DaskDistributedBackend with 20 concurrent workers.\n"
     ]
    },
    {
     "name": "stdout",
     "output_type": "stream",
     "text": [
      "    outer static loop iteration 77 completed with error 0.00529\n"
     ]
    },
    {
     "name": "stderr",
     "output_type": "stream",
     "text": [
      "[Parallel(n_jobs=-1)]: Done  10 tasks      | elapsed:    0.0s\n",
      "[Parallel(n_jobs=-1)]: Done 200 out of 200 | elapsed:    0.8s finished\n",
      "[Parallel(n_jobs=-1)]: Using backend DaskDistributedBackend with 20 concurrent workers.\n"
     ]
    },
    {
     "name": "stdout",
     "output_type": "stream",
     "text": [
      "    outer static loop iteration 78 completed with error 0.00526\n"
     ]
    },
    {
     "name": "stderr",
     "output_type": "stream",
     "text": [
      "[Parallel(n_jobs=-1)]: Done  10 tasks      | elapsed:    0.0s\n",
      "[Parallel(n_jobs=-1)]: Done 200 out of 200 | elapsed:    0.6s finished\n",
      "[Parallel(n_jobs=-1)]: Using backend DaskDistributedBackend with 20 concurrent workers.\n"
     ]
    },
    {
     "name": "stdout",
     "output_type": "stream",
     "text": [
      "    outer static loop iteration 79 completed with error 0.00522\n"
     ]
    },
    {
     "name": "stderr",
     "output_type": "stream",
     "text": [
      "[Parallel(n_jobs=-1)]: Done  10 tasks      | elapsed:    0.0s\n",
      "[Parallel(n_jobs=-1)]: Done 200 out of 200 | elapsed:    0.8s finished\n",
      "[Parallel(n_jobs=-1)]: Using backend DaskDistributedBackend with 20 concurrent workers.\n"
     ]
    },
    {
     "name": "stdout",
     "output_type": "stream",
     "text": [
      "    outer static loop iteration 80 completed with error 0.00519\n"
     ]
    },
    {
     "name": "stderr",
     "output_type": "stream",
     "text": [
      "[Parallel(n_jobs=-1)]: Done  10 tasks      | elapsed:    0.0s\n",
      "[Parallel(n_jobs=-1)]: Done 200 out of 200 | elapsed:    0.8s finished\n",
      "[Parallel(n_jobs=-1)]: Using backend DaskDistributedBackend with 20 concurrent workers.\n"
     ]
    },
    {
     "name": "stdout",
     "output_type": "stream",
     "text": [
      "    outer static loop iteration 81 completed with error 0.00517\n"
     ]
    },
    {
     "name": "stderr",
     "output_type": "stream",
     "text": [
      "[Parallel(n_jobs=-1)]: Done  10 tasks      | elapsed:    0.0s\n",
      "[Parallel(n_jobs=-1)]: Done 200 out of 200 | elapsed:    0.6s finished\n",
      "[Parallel(n_jobs=-1)]: Using backend DaskDistributedBackend with 20 concurrent workers.\n"
     ]
    },
    {
     "name": "stdout",
     "output_type": "stream",
     "text": [
      "    outer static loop iteration 82 completed with error 0.00514\n"
     ]
    },
    {
     "name": "stderr",
     "output_type": "stream",
     "text": [
      "[Parallel(n_jobs=-1)]: Done  10 tasks      | elapsed:    0.0s\n",
      "[Parallel(n_jobs=-1)]: Done 200 out of 200 | elapsed:    0.8s finished\n",
      "[Parallel(n_jobs=-1)]: Using backend DaskDistributedBackend with 20 concurrent workers.\n"
     ]
    },
    {
     "name": "stdout",
     "output_type": "stream",
     "text": [
      "    outer static loop iteration 83 completed with error 0.00512\n"
     ]
    },
    {
     "name": "stderr",
     "output_type": "stream",
     "text": [
      "[Parallel(n_jobs=-1)]: Done  10 tasks      | elapsed:    0.0s\n",
      "[Parallel(n_jobs=-1)]: Done 200 out of 200 | elapsed:    0.6s finished\n",
      "[Parallel(n_jobs=-1)]: Using backend DaskDistributedBackend with 20 concurrent workers.\n"
     ]
    },
    {
     "name": "stdout",
     "output_type": "stream",
     "text": [
      "    outer static loop iteration 84 completed with error 0.0051\n"
     ]
    },
    {
     "name": "stderr",
     "output_type": "stream",
     "text": [
      "[Parallel(n_jobs=-1)]: Done  10 tasks      | elapsed:    0.2s\n",
      "[Parallel(n_jobs=-1)]: Done 200 out of 200 | elapsed:    0.9s finished\n",
      "[Parallel(n_jobs=-1)]: Using backend DaskDistributedBackend with 20 concurrent workers.\n"
     ]
    },
    {
     "name": "stdout",
     "output_type": "stream",
     "text": [
      "    outer static loop iteration 85 completed with error 0.00508\n"
     ]
    },
    {
     "name": "stderr",
     "output_type": "stream",
     "text": [
      "[Parallel(n_jobs=-1)]: Done  10 tasks      | elapsed:    0.0s\n",
      "[Parallel(n_jobs=-1)]: Done 200 out of 200 | elapsed:    0.8s finished\n",
      "[Parallel(n_jobs=-1)]: Using backend DaskDistributedBackend with 20 concurrent workers.\n"
     ]
    },
    {
     "name": "stdout",
     "output_type": "stream",
     "text": [
      "    outer static loop iteration 86 completed with error 0.00507\n"
     ]
    },
    {
     "name": "stderr",
     "output_type": "stream",
     "text": [
      "[Parallel(n_jobs=-1)]: Done  10 tasks      | elapsed:    0.0s\n",
      "[Parallel(n_jobs=-1)]: Done 200 out of 200 | elapsed:    0.6s finished\n",
      "[Parallel(n_jobs=-1)]: Using backend DaskDistributedBackend with 20 concurrent workers.\n"
     ]
    },
    {
     "name": "stdout",
     "output_type": "stream",
     "text": [
      "    outer static loop iteration 87 completed with error 0.00506\n"
     ]
    },
    {
     "name": "stderr",
     "output_type": "stream",
     "text": [
      "[Parallel(n_jobs=-1)]: Done  10 tasks      | elapsed:    0.0s\n",
      "[Parallel(n_jobs=-1)]: Done 200 out of 200 | elapsed:    0.8s finished\n",
      "[Parallel(n_jobs=-1)]: Using backend DaskDistributedBackend with 20 concurrent workers.\n"
     ]
    },
    {
     "name": "stdout",
     "output_type": "stream",
     "text": [
      "    outer static loop iteration 88 completed with error 0.00504\n"
     ]
    },
    {
     "name": "stderr",
     "output_type": "stream",
     "text": [
      "[Parallel(n_jobs=-1)]: Done  10 tasks      | elapsed:    0.0s\n",
      "[Parallel(n_jobs=-1)]: Done 200 out of 200 | elapsed:    0.6s finished\n"
     ]
    },
    {
     "name": "stdout",
     "output_type": "stream",
     "text": [
      "    outer static loop iteration 89 completed with error 0.00503\n"
     ]
    },
    {
     "name": "stderr",
     "output_type": "stream",
     "text": [
      "[Parallel(n_jobs=-1)]: Using backend DaskDistributedBackend with 20 concurrent workers.\n",
      "[Parallel(n_jobs=-1)]: Done  10 tasks      | elapsed:    0.0s\n",
      "[Parallel(n_jobs=-1)]: Done 200 out of 200 | elapsed:    0.6s finished\n",
      "[Parallel(n_jobs=-1)]: Using backend DaskDistributedBackend with 20 concurrent workers.\n"
     ]
    },
    {
     "name": "stdout",
     "output_type": "stream",
     "text": [
      "    outer static loop iteration 90 completed with error 0.00503\n"
     ]
    },
    {
     "name": "stderr",
     "output_type": "stream",
     "text": [
      "[Parallel(n_jobs=-1)]: Done  10 tasks      | elapsed:    0.0s\n",
      "[Parallel(n_jobs=-1)]: Done 200 out of 200 | elapsed:    0.8s finished\n",
      "[Parallel(n_jobs=-1)]: Using backend DaskDistributedBackend with 20 concurrent workers.\n"
     ]
    },
    {
     "name": "stdout",
     "output_type": "stream",
     "text": [
      "    outer static loop iteration 91 completed with error 0.00502\n"
     ]
    },
    {
     "name": "stderr",
     "output_type": "stream",
     "text": [
      "[Parallel(n_jobs=-1)]: Done  10 tasks      | elapsed:    0.0s\n",
      "[Parallel(n_jobs=-1)]: Done 200 out of 200 | elapsed:    0.6s finished\n",
      "[Parallel(n_jobs=-1)]: Using backend DaskDistributedBackend with 20 concurrent workers.\n"
     ]
    },
    {
     "name": "stdout",
     "output_type": "stream",
     "text": [
      "    outer static loop iteration 92 completed with error 0.00501\n"
     ]
    },
    {
     "name": "stderr",
     "output_type": "stream",
     "text": [
      "[Parallel(n_jobs=-1)]: Done  10 tasks      | elapsed:    0.2s\n",
      "[Parallel(n_jobs=-1)]: Done 200 out of 200 | elapsed:    0.8s finished\n",
      "[Parallel(n_jobs=-1)]: Using backend DaskDistributedBackend with 20 concurrent workers.\n"
     ]
    },
    {
     "name": "stdout",
     "output_type": "stream",
     "text": [
      "    outer static loop iteration 93 completed with error 0.00501\n"
     ]
    },
    {
     "name": "stderr",
     "output_type": "stream",
     "text": [
      "[Parallel(n_jobs=-1)]: Done  10 tasks      | elapsed:    0.0s\n",
      "[Parallel(n_jobs=-1)]: Done 200 out of 200 | elapsed:    0.8s finished\n",
      "[Parallel(n_jobs=-1)]: Using backend DaskDistributedBackend with 20 concurrent workers.\n"
     ]
    },
    {
     "name": "stdout",
     "output_type": "stream",
     "text": [
      "    outer static loop iteration 94 completed with error 0.00501\n"
     ]
    },
    {
     "name": "stderr",
     "output_type": "stream",
     "text": [
      "[Parallel(n_jobs=-1)]: Done  10 tasks      | elapsed:    0.0s\n",
      "[Parallel(n_jobs=-1)]: Done 200 out of 200 | elapsed:    0.6s finished\n",
      "[Parallel(n_jobs=-1)]: Using backend DaskDistributedBackend with 20 concurrent workers.\n"
     ]
    },
    {
     "name": "stdout",
     "output_type": "stream",
     "text": [
      "    outer static loop iteration 95 completed with error 0.005\n"
     ]
    },
    {
     "name": "stderr",
     "output_type": "stream",
     "text": [
      "[Parallel(n_jobs=-1)]: Done  10 tasks      | elapsed:    0.0s\n",
      "[Parallel(n_jobs=-1)]: Done 200 out of 200 | elapsed:    0.8s finished\n",
      "[Parallel(n_jobs=-1)]: Using backend DaskDistributedBackend with 20 concurrent workers.\n"
     ]
    },
    {
     "name": "stdout",
     "output_type": "stream",
     "text": [
      "    outer static loop iteration 96 completed with error 0.005\n"
     ]
    },
    {
     "name": "stderr",
     "output_type": "stream",
     "text": [
      "[Parallel(n_jobs=-1)]: Done  10 tasks      | elapsed:    0.0s\n",
      "[Parallel(n_jobs=-1)]: Done 200 out of 200 | elapsed:    0.6s finished\n",
      "[Parallel(n_jobs=-1)]: Using backend DaskDistributedBackend with 20 concurrent workers.\n"
     ]
    },
    {
     "name": "stdout",
     "output_type": "stream",
     "text": [
      "    outer static loop iteration 97 completed with error 0.005\n"
     ]
    },
    {
     "name": "stderr",
     "output_type": "stream",
     "text": [
      "[Parallel(n_jobs=-1)]: Done  10 tasks      | elapsed:    0.0s\n",
      "[Parallel(n_jobs=-1)]: Done 200 out of 200 | elapsed:    0.8s finished\n",
      "[Parallel(n_jobs=-1)]: Using backend DaskDistributedBackend with 20 concurrent workers.\n"
     ]
    },
    {
     "name": "stdout",
     "output_type": "stream",
     "text": [
      "    outer static loop iteration 98 completed with error 0.005\n"
     ]
    },
    {
     "name": "stderr",
     "output_type": "stream",
     "text": [
      "[Parallel(n_jobs=-1)]: Done  10 tasks      | elapsed:    0.0s\n",
      "[Parallel(n_jobs=-1)]: Done 200 out of 200 | elapsed:    0.6s finished\n",
      "[Parallel(n_jobs=-1)]: Using backend DaskDistributedBackend with 20 concurrent workers.\n"
     ]
    },
    {
     "name": "stdout",
     "output_type": "stream",
     "text": [
      "    outer static loop iteration 99 completed with error 0.005\n"
     ]
    },
    {
     "name": "stderr",
     "output_type": "stream",
     "text": [
      "[Parallel(n_jobs=-1)]: Done  10 tasks      | elapsed:    0.2s\n",
      "[Parallel(n_jobs=-1)]: Done 200 out of 200 | elapsed:    0.8s finished\n"
     ]
    },
    {
     "name": "stdout",
     "output_type": "stream",
     "text": [
      "    outer static loop iteration 100 completed with error 0.005\n",
      "dask client shut down successfully\n",
      "elapsed time: 206.221289396286\n"
     ]
    }
   ],
   "source": [
    "from PyMacroFin.model import macro_model\n",
    "import numpy as np\n",
    "import pandas as pd\n",
    "import time\n",
    "import PyMacroFin.utilities as util\n",
    "from PyMacroFin.system import system\n",
    "\n",
    "# boundary condition function for eta == 0\n",
    "def eta_minimum(d):\n",
    "    return [1]\n",
    "\n",
    "\n",
    "def define_model(npoints):\n",
    "    m = macro_model(name='BruSan14_log_utility')\n",
    "\n",
    "    m.set_endog(['q'],init=[1.05])\n",
    "    m.prices = ['q']\n",
    "    m.set_state(['e'])\n",
    "\n",
    "    # this should give q = t^2+1\n",
    "    m.equation(\"sig=2*e\")\n",
    "    m.endog_equation('d(q,e)-sig')\n",
    "\n",
    "    m.boundary_condition({'e':'min'},eta_minimum)\n",
    "\n",
    "    m.options.ignore_HJB_loop = True # it seems that the HJB iteration is not used\n",
    "    m.options.inner_plot = False\n",
    "    m.options.outer_plot = False\n",
    "    m.options.final_plot = True\n",
    "    m.options.n0 = npoints\n",
    "    m.options.start0 = 0.0\n",
    "    m.options.end0 = 0.95\n",
    "    m.options.inner_solver = 'least_squares'\n",
    "    m.options.derivative_plotting = [('q','e')]\n",
    "    m.options.min_iter_outer_static = 5\n",
    "    m.options.min_iter_inner_static = 0\n",
    "    m.options.max_iter_outer_static = 100\n",
    "    m.options.return_solution = True\n",
    "    m.options.save_solution = False\n",
    "    m.options.price_derivative_method = 'backward'\n",
    "\n",
    "    return m\n",
    "\n",
    "npoints = 100\n",
    "tic = time.time()\n",
    "m = define_model(npoints)\n",
    "df = m.run()\n",
    "toc = time.time()\n",
    "print('elapsed time: {}'.format(toc-tic))"
   ]
  },
  {
   "cell_type": "markdown",
   "metadata": {},
   "source": [
    "![test](./pymacrofin_simple_test.png) \n",
    "![test_grad](./pymacrofin_simple_test_grad.png) "
   ]
  },
  {
   "cell_type": "code",
   "execution_count": 2,
   "metadata": {},
   "outputs": [],
   "source": [
    "df.to_csv(\"test.csv\")"
   ]
  },
  {
   "cell_type": "code",
   "execution_count": null,
   "metadata": {},
   "outputs": [],
   "source": []
  }
 ],
 "metadata": {
  "kernelspec": {
   "display_name": "venv",
   "language": "python",
   "name": "python3"
  },
  "language_info": {
   "codemirror_mode": {
    "name": "ipython",
    "version": 3
   },
   "file_extension": ".py",
   "mimetype": "text/x-python",
   "name": "python",
   "nbconvert_exporter": "python",
   "pygments_lexer": "ipython3",
   "version": "3.11.5"
  }
 },
 "nbformat": 4,
 "nbformat_minor": 2
}

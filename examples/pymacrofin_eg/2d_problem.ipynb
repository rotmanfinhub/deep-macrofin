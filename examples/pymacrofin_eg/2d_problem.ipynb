{
 "cells": [
  {
   "cell_type": "code",
   "execution_count": 1,
   "metadata": {},
   "outputs": [],
   "source": [
    "import os\n",
    "import numpy as np\n",
    "import torch\n",
    "import matplotlib.pyplot as plt\n",
    "from deep_macrofin import PDEModel, plot_loss_df\n",
    "from deep_macrofin import ActivationType, Comparator, Constraint, System, set_seeds, OptimizerType, SamplingMethod"
   ]
  },
  {
   "cell_type": "code",
   "execution_count": null,
   "metadata": {},
   "outputs": [],
   "source": [
    "set_seeds(0)\n",
    "pde_model = PDEModel(\"BruSan\", {\"batch_size\": 50, \"num_epochs\": 5000, \"optimizer_type\": OptimizerType.Adam, \"sampling_method\": SamplingMethod.FixedGrid})\n",
    "pde_model.set_state([\"e\", \"z\"], {\"e\": [0.05, 0.95], \"z\": [0.05, 0.95]})\n",
    "pde_model.add_endogs([\"q\", \"psi\", \"mue\", \"sigqk\", \"sigqs\"], configs={\n",
    "    \"q\": {\"positive\": True},\n",
    "    \"psi\": {\"positive\": True},\n",
    "})\n",
    "pde_model.add_agents([\"vi\", \"vh\"], configs={\n",
    "    \"vi\": {\"positive\": True},\n",
    "    \"vh\": {\"positive\": True},\n",
    "})\n",
    "pde_model.add_params({\n",
    "    \"gammai\": 2,\n",
    "    \"gammah\": 3,\n",
    "    \"ai\": .1,\n",
    "    \"ah\": .1,\n",
    "    \"rhoi\": .04,\n",
    "    \"rhoh\": .04,\n",
    "    \"sigz\": .01,\n",
    "    \"sigbar\": .5,\n",
    "    \"deltai\": .04,\n",
    "    \"deltah\": .04,\n",
    "    \"kappa_p\": 2,\n",
    "    \"kappa_z\": 5,\n",
    "    \"zetai\": 1.15,\n",
    "    \"zetah\": 1.15,\n",
    "    \"kappa_l\": .9,\n",
    "    \"ebar\": .5,\n",
    "})\n",
    "\n",
    "pde_model.add_equation(\"sigma = z\")\n",
    "pde_model.add_equation(\"wi = psi/e\")\n",
    "pde_model.add_equation(\"wh = (1-psi)/(1-e)\")\n",
    "pde_model.add_equation(\"ci = vi**((1-zetai)/(1-gammai))\")\n",
    "pde_model.add_equation(\"ch = vh**((1-zetah)/(1-gammah))\")\n",
    "pde_model.add_equation(\"iotai = (q-1)/kappa_p\")\n",
    "pde_model.add_equation(\"iotah = (q-1)/kappa_p\")\n",
    "pde_model.add_equation(\"phii = log(1+kappa_p*iotai)/kappa_p-deltai\")\n",
    "pde_model.add_equation(\"phih = log(1+kappa_p*iotah)/kappa_p-deltah\")\n",
    "pde_model.add_equation(\"muz = kappa_z*(sigbar-sigma)\")\n",
    "pde_model.add_equation(\"muk = psi*phii+(1-psi)*phih\")\n",
    "pde_model.add_equation(\"signis = wi*sigqs\")\n",
    "pde_model.add_equation(\"signhs = wh*sigqs\")\n",
    "pde_model.add_equation(\"signik = wi*(sigqk+sigma)\")\n",
    "pde_model.add_equation(\"signhk = wh*(sigqk+sigma)\")\n",
    "pde_model.add_equation(\"siges = e*(1-e)*(signis -sigqs)\")\n",
    "pde_model.add_equation(\"sigek = e*(1-e)*(signik - (sigqk+sigma))\")\n",
    "pde_model.add_equation(\"sigxik = vi_e/vi*sigek*e\")\n",
    "pde_model.add_equation(\"sigxhk = vh_e/vh*sigek*e\")\n",
    "pde_model.add_equation(\"sigxis = vi_e/vi*siges*e + vi_z/vi*sigz*z\")\n",
    "pde_model.add_equation(\"sigxhs = vh_e/vh*siges*e + vh_z/vh*sigz*z\")\n",
    "pde_model.add_equation(\"muq = q_e/q*mue*e + q_z/q*muz*z + 1/2*q_ee/q*((siges*e)**2 + (sigek*e)**2) + 1/2*q_zz/q*(sigz*z)**2 + q_ez/q*siges*e*sigz*z\")\n",
    "pde_model.add_equation(\"muri = (ai-iotai)/q + phii + muq + sigma*sigqk\")\n",
    "pde_model.add_equation(\"murh = (ah-iotah)/q + phih + muq + sigma*sigqk\")\n",
    "pde_model.add_equation(\"r = muri - gammai*wi*((sigqs**2)+(sigma+sigqk)**2) + sigqs*sigxis + (sigqk+sigma)*sigxik\")\n",
    "pde_model.add_equation(\"muni = r + wi*(muri-r)-ci\")\n",
    "pde_model.add_equation(\"munh = r + wh*(murh-r)-ch\")\n",
    "pde_model.add_equation(\"muxi = vi_e/vi*mue*e + vi_z/vi*muz*z + 1/2*vi_ee/vi*((siges*e)**2 + (sigek*e)**2) + 1/2*vi_zz/vi*(sigz*z)**2 + vi_ez/vi*siges*e*sigz*z\")\n",
    "pde_model.add_equation(\"muxh = vh_e/vh*mue*e + vh_z/vh*muz*z + 1/2*vh_ee/vh*((siges*e)**2 + (sigek*e)**2) + 1/2*vh_zz/vh*(sigz*z)**2 + vh_ez/vh*siges*e*sigz*z\")\n",
    "\n",
    "pde_model.add_endog_equation(\"kappa_l/e*(ebar-e)+(1-e)*(muni - muk - muq\\\n",
    "                     - sigma*sigqk + (sigqk+sigma)**2 + sigqs**2 \\\n",
    "                     - wi*sigqs**2 - wi*(sigqk+sigma)**2) - mue=0\")\n",
    "pde_model.add_endog_equation(\"(ci*e+ch*(1-e))*q - psi*(ai-iotai) - (1-psi)*(ah-iotah)=0\")\n",
    "pde_model.add_endog_equation(\"muri - murh + gammah*wh*((sigqs**2)+(sigqk+sigma)**2) - \\\n",
    "                     gammai*wi*((sigqs)**2+(sigqk+sigma)**2) + sigqs*sigxis + \\\n",
    "                     (sigqk+sigma)*sigxik - sigqs*sigxhs - (sigqk+sigma)*sigxhk=0\")\n",
    "pde_model.add_endog_equation(\"(sigz*z*q_z + siges*e*q_e)-sigqs*q=0\")\n",
    "pde_model.add_endog_equation(\"sigek*e*q_e - sigqk*q=0\")\n",
    "\n",
    "pde_model.add_hjb_equation(\"1/(1-1/zetai)*(ci-(rhoi+kappa_l)) + r - ci + gammai/2*(wi * sigqs)**2 + gammai/2*(wi*sigma+wi*sigqk)**2 + muxi / (1-gammai)\")\n",
    "pde_model.add_hjb_equation(\"1/(1-1/zetah)*(ch-(rhoh+kappa_l)) + r - ch + gammah/2*(wh * sigqs)**2 + gammah/2*(wh*sigma+wh*sigqk)**2 + muxh / (1-gammah)\")\n",
    "\n",
    "print(pde_model)\n",
    "if not os.path.exists(\"./models/2D_fixed_grid/model.pt\"):\n",
    "    pde_model.train_model(\"./models/2D_fixed_grid\", \"model.pt\", True)\n",
    "    pde_model.load_model(torch.load(\"./models/2D_fixed_grid/model_best.pt\"))\n",
    "    pde_model.eval_model(True)\n",
    "else:\n",
    "    pde_model.load_model(torch.load(\"./models/2D_fixed_grid/model_best.pt\"))\n",
    "    pde_model.eval_model(True)"
   ]
  },
  {
   "cell_type": "code",
   "execution_count": null,
   "metadata": {},
   "outputs": [],
   "source": [
    "plot_loss_df(fn=\"./models/2D_fixed_grid/model_loss.csv\", loss_plot_fn=\"./models/2D_fixed_grid/model_loss.png\")"
   ]
  },
  {
   "cell_type": "code",
   "execution_count": null,
   "metadata": {},
   "outputs": [],
   "source": [
    "fig, ax = plt.subplots(2, 4, figsize=(24, 12), subplot_kw={\"projection\": \"3d\"})\n",
    "# \"q\", \"psi\", \"mue\", \"sigqk\", \"sigqs\"\n",
    "pde_model.endog_vars[\"q\"].plot(\"q\", {\"e\": [0, 1], \"z\": [0, 1]}, ax=ax[0][0])\n",
    "pde_model.endog_vars[\"psi\"].plot(\"psi\", {\"e\": [0, 1], \"z\": [0, 1]}, ax=ax[0][1])\n",
    "pde_model.endog_vars[\"mue\"].plot(\"mue\", {\"e\": [0, 1], \"z\": [0, 1]}, ax=ax[0][2])\n",
    "pde_model.endog_vars[\"sigqk\"].plot(\"sigqk\", {\"e\": [0, 1], \"z\": [0, 1]}, ax=ax[0][3])\n",
    "pde_model.endog_vars[\"sigqs\"].plot(\"sigqs\", {\"e\": [0, 1], \"z\": [0, 1]}, ax=ax[1][0])\n",
    "pde_model.agents[\"vi\"].plot(\"vi\", {\"e\": [0, 1], \"z\": [0, 1]}, ax=ax[1][1])\n",
    "pde_model.agents[\"vh\"].plot(\"vh\", {\"e\": [0, 1], \"z\": [0, 1]}, ax=ax[1][2])\n",
    "plt.tight_layout()\n",
    "plt.show()"
   ]
  },
  {
   "cell_type": "code",
   "execution_count": null,
   "metadata": {},
   "outputs": [],
   "source": [
    "pde_model.plot_vars([\"q\", \"psi\", \"mue\", \"vi\", \"vh\",\n",
    "                     \"sigqk\", \"esigqk=e*sigqk\", \"sigqs\", \"esigqs=e*sigqs\", \"r\"], ncols=5)"
   ]
  }
 ],
 "metadata": {
  "kernelspec": {
   "display_name": "venv",
   "language": "python",
   "name": "python3"
  },
  "language_info": {
   "codemirror_mode": {
    "name": "ipython",
    "version": 3
   },
   "file_extension": ".py",
   "mimetype": "text/x-python",
   "name": "python",
   "nbconvert_exporter": "python",
   "pygments_lexer": "ipython3",
   "version": "3.11.5"
  }
 },
 "nbformat": 4,
 "nbformat_minor": 2
}
